{
 "cells": [
  {
   "cell_type": "markdown",
   "metadata": {},
   "source": [
    "# noaa-weather-hourly\n",
    "This script cleans and formats a manually downloaded \"National Oceanic and Atmospheric Administration\" (NOAA) \"LCD CSV\" weather file.\n",
    "\n",
    " __Originated From:__\n",
    "https://github.com/emskiphoto/Process-historical-NOAA-LCD-weather<BR>\n",
    "    \n",
    "Copyright December 31, 2024\n",
    "https://github.com/emskiphoto/noaa-weather-hourly\n",
    "Matt Chmielewski"
   ]
  },
  {
   "cell_type": "markdown",
   "metadata": {},
   "source": [
    "### Load Python packages"
   ]
  },
  {
   "cell_type": "code",
   "execution_count": 1,
   "metadata": {},
   "outputs": [],
   "source": [
    "# direct the jupyter notebook development script to add package path to PYTHONPATH\n",
    "# to allow for loading of source modules.\n",
    "import sys\n",
    "sys.path.append('../noaa-weather-hourly')"
   ]
  },
  {
   "cell_type": "code",
   "execution_count": 2,
   "metadata": {},
   "outputs": [],
   "source": [
    "from config import *\n",
    "from utils import *"
   ]
  },
  {
   "cell_type": "code",
   "execution_count": 3,
   "metadata": {},
   "outputs": [],
   "source": [
    "import pandas as pd\n",
    "# import matplotlib.pyplot as plt\n",
    "# import datetime\n",
    "import pathlib\n",
    "import re\n",
    "# import holidays\n",
    "# from pathlib import PureWindowsPath as PureWindowsPath\n",
    "# turn off Jedi autocomplete (that was causing more problems than benefits post Win10 update 3-13-2020)\n",
    "%config Completer.use_jedi = False "
   ]
  },
  {
   "cell_type": "markdown",
   "metadata": {},
   "source": [
    "### Parameters - Store in config.py"
   ]
  },
  {
   "cell_type": "code",
   "execution_count": 4,
   "metadata": {},
   "outputs": [],
   "source": [
    "# freqstr = 'H'\n",
    "# pattern_lcd_input_file = r'^[0-9]{5,10}.csv'\n",
    "# pattern_isd_history_file = r'isd-history.csv|ISD-HISTORY.CSV'\n",
    "# file_output_format = \"\"\"{STATION_NAME} {from_str} to {end_str} {freqstr}.csv\"\"\"\n",
    "# pct_null_timestamp_max = 0.5"
   ]
  },
  {
   "cell_type": "markdown",
   "metadata": {},
   "source": [
    "## Locations"
   ]
  },
  {
   "cell_type": "code",
   "execution_count": 5,
   "metadata": {},
   "outputs": [
    {
     "data": {
      "text/plain": [
       "WindowsPath('C:/Users/user/OneDrive/python_envs/noaa-weather-hourly-cli/dev')"
      ]
     },
     "execution_count": 5,
     "metadata": {},
     "output_type": "execute_result"
    }
   ],
   "source": [
    "dir_cwd = pathlib.Path.cwd()\n",
    "dir_cwd"
   ]
  },
  {
   "cell_type": "code",
   "execution_count": 6,
   "metadata": {},
   "outputs": [],
   "source": [
    "dir_data = dir_cwd / 'data'\n",
    "assert dir_data.is_dir()"
   ]
  },
  {
   "cell_type": "markdown",
   "metadata": {},
   "source": [
    "### Locate LCD .CSV file 'file_lcd_input'\n",
    "This script is intended to be executed from a terminal command line.  The LCD input file is expected to be saved in the same directory as the command line prompt.  The file name is expected to match the pattern in 'pattern_lcd_input_file'.  However, if a file with this pattern is not identifed, attempt to use the most recent .CSV file in the same directory."
   ]
  },
  {
   "cell_type": "code",
   "execution_count": 7,
   "metadata": {},
   "outputs": [],
   "source": [
    "# which version of LCD files are avaialble and which are the most recent?\n",
    "# 1. find all files that match v1 or v2 naming\n",
    "# 2. find the most recent file\n",
    "# 3. Determine if most recent file is v1 or v2 format 'lcd_version'\n",
    "# 4. see if there is more than one file with the same station ID\n",
    "# 5. create list 'files_lcd' with one or more lcd files of same station id "
   ]
  },
  {
   "cell_type": "code",
   "execution_count": 49,
   "metadata": {},
   "outputs": [
    {
     "data": {
      "text/plain": [
       "{1: [WindowsPath('C:/Users/user/OneDrive/python_envs/noaa-weather-hourly-cli/dev/data/3876540.csv'),\n",
       "  WindowsPath('C:/Users/user/OneDrive/python_envs/noaa-weather-hourly-cli/dev/data/3875753.csv')],\n",
       " 2: [WindowsPath('C:/Users/user/OneDrive/python_envs/noaa-weather-hourly-cli/dev/data/LCD_USW00014939_2023.csv'),\n",
       "  WindowsPath('C:/Users/user/OneDrive/python_envs/noaa-weather-hourly-cli/dev/data/LCD_USW00014939_2022.csv'),\n",
       "  WindowsPath('C:/Users/user/OneDrive/python_envs/noaa-weather-hourly-cli/dev/data/LCD_USW00014939_2021.csv'),\n",
       "  WindowsPath('C:/Users/user/OneDrive/python_envs/noaa-weather-hourly-cli/dev/data/LCD_USW00014939_2020.csv'),\n",
       "  WindowsPath('C:/Users/user/OneDrive/python_envs/noaa-weather-hourly-cli/dev/data/LCD_USW00094846_2023.csv'),\n",
       "  WindowsPath('C:/Users/user/OneDrive/python_envs/noaa-weather-hourly-cli/dev/data/LCD_USW00094846_2022.csv'),\n",
       "  WindowsPath('C:/Users/user/OneDrive/python_envs/noaa-weather-hourly-cli/dev/data/LCD_USW00094846_2021.csv'),\n",
       "  WindowsPath('C:/Users/user/OneDrive/python_envs/noaa-weather-hourly-cli/dev/data/LCD_USW00094846_2020.csv')]}"
      ]
     },
     "execution_count": 49,
     "metadata": {},
     "output_type": "execute_result"
    }
   ],
   "source": [
    "# 1. find all files that match v1 or v2 naming and sort by last modified date descending\n",
    "version_files = {v_ : find_files_re_pattern_sorted_last_modified(dir_data, pattern_) for\n",
    "                 v_, pattern_ in version_pattern_lcd_input.items()}\n",
    "version_files"
   ]
  },
  {
   "cell_type": "code",
   "execution_count": 64,
   "metadata": {},
   "outputs": [
    {
     "data": {
      "text/plain": [
       "{1: WindowsPath('C:/Users/user/OneDrive/python_envs/noaa-weather-hourly-cli/dev/data/3876540.csv'),\n",
       " 2: WindowsPath('C:/Users/user/OneDrive/python_envs/noaa-weather-hourly-cli/dev/data/LCD_USW00014939_2023.csv')}"
      ]
     },
     "execution_count": 64,
     "metadata": {},
     "output_type": "execute_result"
    }
   ],
   "source": [
    "# find most recently modified file by each lcd version\n",
    "version_file_last_modified = {version_ : files_[0] for version_, files_ in version_files.items()}\n",
    "version_file_last_modified"
   ]
  },
  {
   "cell_type": "code",
   "execution_count": 70,
   "metadata": {},
   "outputs": [],
   "source": [
    "# 2. find the most recent file\n",
    "file_last_modified = sorted([(f, f.stat().st_mtime) for\n",
    "                  f in version_file_last_modified.values()],\n",
    "           key=lambda x: x[1], reverse=True)[0][0]\n",
    "# 3. Determine if most recent file is v1 or v2 format 'lcd_version'\n",
    "# versions start with '1' so need to add 1 to zero-indexed list\n",
    "lcd_version = list(version_file_last_modified.values())\\\n",
    "                            .index(file_last_modified) + 1\n",
    "# file_last_modified, lcd_version"
   ]
  },
  {
   "cell_type": "code",
   "execution_count": 71,
   "metadata": {},
   "outputs": [],
   "source": [
    "# make sure we have the right version\n",
    "assert file_last_modified in version_files[lcd_version]"
   ]
  },
  {
   "cell_type": "markdown",
   "metadata": {},
   "source": [
    "### Load LCD .CSV input file(s)"
   ]
  },
  {
   "cell_type": "markdown",
   "metadata": {},
   "source": [
    "# STOPPED HERE 12-31-24"
   ]
  },
  {
   "cell_type": "code",
   "execution_count": null,
   "metadata": {},
   "outputs": [],
   "source": [
    "file"
   ]
  },
  {
   "cell_type": "code",
   "execution_count": 73,
   "metadata": {},
   "outputs": [
    {
     "data": {
      "text/html": [
       "<div>\n",
       "<style scoped>\n",
       "    .dataframe tbody tr th:only-of-type {\n",
       "        vertical-align: middle;\n",
       "    }\n",
       "\n",
       "    .dataframe tbody tr th {\n",
       "        vertical-align: top;\n",
       "    }\n",
       "\n",
       "    .dataframe thead th {\n",
       "        text-align: right;\n",
       "    }\n",
       "</style>\n",
       "<table border=\"1\" class=\"dataframe\">\n",
       "  <thead>\n",
       "    <tr style=\"text-align: right;\">\n",
       "      <th></th>\n",
       "      <th>STATION</th>\n",
       "      <th>REPORT_TYPE</th>\n",
       "      <th>SOURCE</th>\n",
       "      <th>AWND</th>\n",
       "      <th>BackupDirection</th>\n",
       "      <th>BackupDistance</th>\n",
       "      <th>BackupDistanceUnit</th>\n",
       "      <th>BackupElements</th>\n",
       "      <th>BackupElevation</th>\n",
       "      <th>BackupElevationUnit</th>\n",
       "      <th>...</th>\n",
       "      <th>ShortDurationPrecipitationValue045</th>\n",
       "      <th>ShortDurationPrecipitationValue060</th>\n",
       "      <th>ShortDurationPrecipitationValue080</th>\n",
       "      <th>ShortDurationPrecipitationValue100</th>\n",
       "      <th>ShortDurationPrecipitationValue120</th>\n",
       "      <th>ShortDurationPrecipitationValue150</th>\n",
       "      <th>ShortDurationPrecipitationValue180</th>\n",
       "      <th>Sunrise</th>\n",
       "      <th>Sunset</th>\n",
       "      <th>WindEquipmentChangeDate</th>\n",
       "    </tr>\n",
       "    <tr>\n",
       "      <th>DATE</th>\n",
       "      <th></th>\n",
       "      <th></th>\n",
       "      <th></th>\n",
       "      <th></th>\n",
       "      <th></th>\n",
       "      <th></th>\n",
       "      <th></th>\n",
       "      <th></th>\n",
       "      <th></th>\n",
       "      <th></th>\n",
       "      <th></th>\n",
       "      <th></th>\n",
       "      <th></th>\n",
       "      <th></th>\n",
       "      <th></th>\n",
       "      <th></th>\n",
       "      <th></th>\n",
       "      <th></th>\n",
       "      <th></th>\n",
       "      <th></th>\n",
       "      <th></th>\n",
       "    </tr>\n",
       "  </thead>\n",
       "  <tbody>\n",
       "    <tr>\n",
       "      <th>2020-01-01 00:00:00</th>\n",
       "      <td>72530094846</td>\n",
       "      <td>FM-12</td>\n",
       "      <td>4</td>\n",
       "      <td>NaN</td>\n",
       "      <td>NaN</td>\n",
       "      <td>NaN</td>\n",
       "      <td>NaN</td>\n",
       "      <td>NaN</td>\n",
       "      <td>NaN</td>\n",
       "      <td>NaN</td>\n",
       "      <td>...</td>\n",
       "      <td>NaN</td>\n",
       "      <td>NaN</td>\n",
       "      <td>NaN</td>\n",
       "      <td>NaN</td>\n",
       "      <td>NaN</td>\n",
       "      <td>NaN</td>\n",
       "      <td>NaN</td>\n",
       "      <td>NaN</td>\n",
       "      <td>NaN</td>\n",
       "      <td>NaN</td>\n",
       "    </tr>\n",
       "    <tr>\n",
       "      <th>2020-01-01 00:51:00</th>\n",
       "      <td>72530094846</td>\n",
       "      <td>FM-15</td>\n",
       "      <td>7</td>\n",
       "      <td>NaN</td>\n",
       "      <td>NaN</td>\n",
       "      <td>NaN</td>\n",
       "      <td>NaN</td>\n",
       "      <td>NaN</td>\n",
       "      <td>NaN</td>\n",
       "      <td>NaN</td>\n",
       "      <td>...</td>\n",
       "      <td>NaN</td>\n",
       "      <td>NaN</td>\n",
       "      <td>NaN</td>\n",
       "      <td>NaN</td>\n",
       "      <td>NaN</td>\n",
       "      <td>NaN</td>\n",
       "      <td>NaN</td>\n",
       "      <td>NaN</td>\n",
       "      <td>NaN</td>\n",
       "      <td>NaN</td>\n",
       "    </tr>\n",
       "    <tr>\n",
       "      <th>2020-01-01 01:51:00</th>\n",
       "      <td>72530094846</td>\n",
       "      <td>FM-15</td>\n",
       "      <td>7</td>\n",
       "      <td>NaN</td>\n",
       "      <td>NaN</td>\n",
       "      <td>NaN</td>\n",
       "      <td>NaN</td>\n",
       "      <td>NaN</td>\n",
       "      <td>NaN</td>\n",
       "      <td>NaN</td>\n",
       "      <td>...</td>\n",
       "      <td>NaN</td>\n",
       "      <td>NaN</td>\n",
       "      <td>NaN</td>\n",
       "      <td>NaN</td>\n",
       "      <td>NaN</td>\n",
       "      <td>NaN</td>\n",
       "      <td>NaN</td>\n",
       "      <td>NaN</td>\n",
       "      <td>NaN</td>\n",
       "      <td>NaN</td>\n",
       "    </tr>\n",
       "    <tr>\n",
       "      <th>2020-01-01 02:51:00</th>\n",
       "      <td>72530094846</td>\n",
       "      <td>FM-15</td>\n",
       "      <td>7</td>\n",
       "      <td>NaN</td>\n",
       "      <td>NaN</td>\n",
       "      <td>NaN</td>\n",
       "      <td>NaN</td>\n",
       "      <td>NaN</td>\n",
       "      <td>NaN</td>\n",
       "      <td>NaN</td>\n",
       "      <td>...</td>\n",
       "      <td>NaN</td>\n",
       "      <td>NaN</td>\n",
       "      <td>NaN</td>\n",
       "      <td>NaN</td>\n",
       "      <td>NaN</td>\n",
       "      <td>NaN</td>\n",
       "      <td>NaN</td>\n",
       "      <td>NaN</td>\n",
       "      <td>NaN</td>\n",
       "      <td>NaN</td>\n",
       "    </tr>\n",
       "    <tr>\n",
       "      <th>2020-01-01 03:51:00</th>\n",
       "      <td>72530094846</td>\n",
       "      <td>FM-15</td>\n",
       "      <td>7</td>\n",
       "      <td>NaN</td>\n",
       "      <td>NaN</td>\n",
       "      <td>NaN</td>\n",
       "      <td>NaN</td>\n",
       "      <td>NaN</td>\n",
       "      <td>NaN</td>\n",
       "      <td>NaN</td>\n",
       "      <td>...</td>\n",
       "      <td>NaN</td>\n",
       "      <td>NaN</td>\n",
       "      <td>NaN</td>\n",
       "      <td>NaN</td>\n",
       "      <td>NaN</td>\n",
       "      <td>NaN</td>\n",
       "      <td>NaN</td>\n",
       "      <td>NaN</td>\n",
       "      <td>NaN</td>\n",
       "      <td>NaN</td>\n",
       "    </tr>\n",
       "    <tr>\n",
       "      <th>...</th>\n",
       "      <td>...</td>\n",
       "      <td>...</td>\n",
       "      <td>...</td>\n",
       "      <td>...</td>\n",
       "      <td>...</td>\n",
       "      <td>...</td>\n",
       "      <td>...</td>\n",
       "      <td>...</td>\n",
       "      <td>...</td>\n",
       "      <td>...</td>\n",
       "      <td>...</td>\n",
       "      <td>...</td>\n",
       "      <td>...</td>\n",
       "      <td>...</td>\n",
       "      <td>...</td>\n",
       "      <td>...</td>\n",
       "      <td>...</td>\n",
       "      <td>...</td>\n",
       "      <td>...</td>\n",
       "      <td>...</td>\n",
       "      <td>...</td>\n",
       "    </tr>\n",
       "    <tr>\n",
       "      <th>2023-12-31 20:51:00</th>\n",
       "      <td>72530094846</td>\n",
       "      <td>FM-15</td>\n",
       "      <td>4</td>\n",
       "      <td>NaN</td>\n",
       "      <td>NaN</td>\n",
       "      <td>NaN</td>\n",
       "      <td>NaN</td>\n",
       "      <td>NaN</td>\n",
       "      <td>NaN</td>\n",
       "      <td>NaN</td>\n",
       "      <td>...</td>\n",
       "      <td>NaN</td>\n",
       "      <td>NaN</td>\n",
       "      <td>NaN</td>\n",
       "      <td>NaN</td>\n",
       "      <td>NaN</td>\n",
       "      <td>NaN</td>\n",
       "      <td>NaN</td>\n",
       "      <td>NaN</td>\n",
       "      <td>NaN</td>\n",
       "      <td>NaN</td>\n",
       "    </tr>\n",
       "    <tr>\n",
       "      <th>2023-12-31 21:00:00</th>\n",
       "      <td>72530094846</td>\n",
       "      <td>FM-12</td>\n",
       "      <td>4</td>\n",
       "      <td>NaN</td>\n",
       "      <td>NaN</td>\n",
       "      <td>NaN</td>\n",
       "      <td>NaN</td>\n",
       "      <td>NaN</td>\n",
       "      <td>NaN</td>\n",
       "      <td>NaN</td>\n",
       "      <td>...</td>\n",
       "      <td>NaN</td>\n",
       "      <td>NaN</td>\n",
       "      <td>NaN</td>\n",
       "      <td>NaN</td>\n",
       "      <td>NaN</td>\n",
       "      <td>NaN</td>\n",
       "      <td>NaN</td>\n",
       "      <td>NaN</td>\n",
       "      <td>NaN</td>\n",
       "      <td>NaN</td>\n",
       "    </tr>\n",
       "    <tr>\n",
       "      <th>2023-12-31 21:51:00</th>\n",
       "      <td>72530094846</td>\n",
       "      <td>FM-15</td>\n",
       "      <td>4</td>\n",
       "      <td>NaN</td>\n",
       "      <td>NaN</td>\n",
       "      <td>NaN</td>\n",
       "      <td>NaN</td>\n",
       "      <td>NaN</td>\n",
       "      <td>NaN</td>\n",
       "      <td>NaN</td>\n",
       "      <td>...</td>\n",
       "      <td>NaN</td>\n",
       "      <td>NaN</td>\n",
       "      <td>NaN</td>\n",
       "      <td>NaN</td>\n",
       "      <td>NaN</td>\n",
       "      <td>NaN</td>\n",
       "      <td>NaN</td>\n",
       "      <td>NaN</td>\n",
       "      <td>NaN</td>\n",
       "      <td>NaN</td>\n",
       "    </tr>\n",
       "    <tr>\n",
       "      <th>2023-12-31 22:51:00</th>\n",
       "      <td>72530094846</td>\n",
       "      <td>FM-15</td>\n",
       "      <td>4</td>\n",
       "      <td>NaN</td>\n",
       "      <td>NaN</td>\n",
       "      <td>NaN</td>\n",
       "      <td>NaN</td>\n",
       "      <td>NaN</td>\n",
       "      <td>NaN</td>\n",
       "      <td>NaN</td>\n",
       "      <td>...</td>\n",
       "      <td>NaN</td>\n",
       "      <td>NaN</td>\n",
       "      <td>NaN</td>\n",
       "      <td>NaN</td>\n",
       "      <td>NaN</td>\n",
       "      <td>NaN</td>\n",
       "      <td>NaN</td>\n",
       "      <td>NaN</td>\n",
       "      <td>NaN</td>\n",
       "      <td>NaN</td>\n",
       "    </tr>\n",
       "    <tr>\n",
       "      <th>2023-12-31 23:51:00</th>\n",
       "      <td>72530094846</td>\n",
       "      <td>FM-15</td>\n",
       "      <td>4</td>\n",
       "      <td>NaN</td>\n",
       "      <td>NaN</td>\n",
       "      <td>NaN</td>\n",
       "      <td>NaN</td>\n",
       "      <td>NaN</td>\n",
       "      <td>NaN</td>\n",
       "      <td>NaN</td>\n",
       "      <td>...</td>\n",
       "      <td>NaN</td>\n",
       "      <td>NaN</td>\n",
       "      <td>NaN</td>\n",
       "      <td>NaN</td>\n",
       "      <td>NaN</td>\n",
       "      <td>NaN</td>\n",
       "      <td>NaN</td>\n",
       "      <td>NaN</td>\n",
       "      <td>NaN</td>\n",
       "      <td>NaN</td>\n",
       "    </tr>\n",
       "  </tbody>\n",
       "</table>\n",
       "<p>51668 rows × 123 columns</p>\n",
       "</div>"
      ],
      "text/plain": [
       "                         STATION REPORT_TYPE  SOURCE  AWND  BackupDirection  \\\n",
       "DATE                                                                          \n",
       "2020-01-01 00:00:00  72530094846       FM-12       4   NaN              NaN   \n",
       "2020-01-01 00:51:00  72530094846       FM-15       7   NaN              NaN   \n",
       "2020-01-01 01:51:00  72530094846       FM-15       7   NaN              NaN   \n",
       "2020-01-01 02:51:00  72530094846       FM-15       7   NaN              NaN   \n",
       "2020-01-01 03:51:00  72530094846       FM-15       7   NaN              NaN   \n",
       "...                          ...         ...     ...   ...              ...   \n",
       "2023-12-31 20:51:00  72530094846       FM-15       4   NaN              NaN   \n",
       "2023-12-31 21:00:00  72530094846       FM-12       4   NaN              NaN   \n",
       "2023-12-31 21:51:00  72530094846       FM-15       4   NaN              NaN   \n",
       "2023-12-31 22:51:00  72530094846       FM-15       4   NaN              NaN   \n",
       "2023-12-31 23:51:00  72530094846       FM-15       4   NaN              NaN   \n",
       "\n",
       "                     BackupDistance  BackupDistanceUnit  BackupElements  \\\n",
       "DATE                                                                      \n",
       "2020-01-01 00:00:00             NaN                 NaN             NaN   \n",
       "2020-01-01 00:51:00             NaN                 NaN             NaN   \n",
       "2020-01-01 01:51:00             NaN                 NaN             NaN   \n",
       "2020-01-01 02:51:00             NaN                 NaN             NaN   \n",
       "2020-01-01 03:51:00             NaN                 NaN             NaN   \n",
       "...                             ...                 ...             ...   \n",
       "2023-12-31 20:51:00             NaN                 NaN             NaN   \n",
       "2023-12-31 21:00:00             NaN                 NaN             NaN   \n",
       "2023-12-31 21:51:00             NaN                 NaN             NaN   \n",
       "2023-12-31 22:51:00             NaN                 NaN             NaN   \n",
       "2023-12-31 23:51:00             NaN                 NaN             NaN   \n",
       "\n",
       "                     BackupElevation  BackupElevationUnit  ...  \\\n",
       "DATE                                                       ...   \n",
       "2020-01-01 00:00:00              NaN                  NaN  ...   \n",
       "2020-01-01 00:51:00              NaN                  NaN  ...   \n",
       "2020-01-01 01:51:00              NaN                  NaN  ...   \n",
       "2020-01-01 02:51:00              NaN                  NaN  ...   \n",
       "2020-01-01 03:51:00              NaN                  NaN  ...   \n",
       "...                              ...                  ...  ...   \n",
       "2023-12-31 20:51:00              NaN                  NaN  ...   \n",
       "2023-12-31 21:00:00              NaN                  NaN  ...   \n",
       "2023-12-31 21:51:00              NaN                  NaN  ...   \n",
       "2023-12-31 22:51:00              NaN                  NaN  ...   \n",
       "2023-12-31 23:51:00              NaN                  NaN  ...   \n",
       "\n",
       "                     ShortDurationPrecipitationValue045  \\\n",
       "DATE                                                      \n",
       "2020-01-01 00:00:00                                 NaN   \n",
       "2020-01-01 00:51:00                                 NaN   \n",
       "2020-01-01 01:51:00                                 NaN   \n",
       "2020-01-01 02:51:00                                 NaN   \n",
       "2020-01-01 03:51:00                                 NaN   \n",
       "...                                                 ...   \n",
       "2023-12-31 20:51:00                                 NaN   \n",
       "2023-12-31 21:00:00                                 NaN   \n",
       "2023-12-31 21:51:00                                 NaN   \n",
       "2023-12-31 22:51:00                                 NaN   \n",
       "2023-12-31 23:51:00                                 NaN   \n",
       "\n",
       "                     ShortDurationPrecipitationValue060  \\\n",
       "DATE                                                      \n",
       "2020-01-01 00:00:00                                 NaN   \n",
       "2020-01-01 00:51:00                                 NaN   \n",
       "2020-01-01 01:51:00                                 NaN   \n",
       "2020-01-01 02:51:00                                 NaN   \n",
       "2020-01-01 03:51:00                                 NaN   \n",
       "...                                                 ...   \n",
       "2023-12-31 20:51:00                                 NaN   \n",
       "2023-12-31 21:00:00                                 NaN   \n",
       "2023-12-31 21:51:00                                 NaN   \n",
       "2023-12-31 22:51:00                                 NaN   \n",
       "2023-12-31 23:51:00                                 NaN   \n",
       "\n",
       "                     ShortDurationPrecipitationValue080  \\\n",
       "DATE                                                      \n",
       "2020-01-01 00:00:00                                 NaN   \n",
       "2020-01-01 00:51:00                                 NaN   \n",
       "2020-01-01 01:51:00                                 NaN   \n",
       "2020-01-01 02:51:00                                 NaN   \n",
       "2020-01-01 03:51:00                                 NaN   \n",
       "...                                                 ...   \n",
       "2023-12-31 20:51:00                                 NaN   \n",
       "2023-12-31 21:00:00                                 NaN   \n",
       "2023-12-31 21:51:00                                 NaN   \n",
       "2023-12-31 22:51:00                                 NaN   \n",
       "2023-12-31 23:51:00                                 NaN   \n",
       "\n",
       "                     ShortDurationPrecipitationValue100  \\\n",
       "DATE                                                      \n",
       "2020-01-01 00:00:00                                 NaN   \n",
       "2020-01-01 00:51:00                                 NaN   \n",
       "2020-01-01 01:51:00                                 NaN   \n",
       "2020-01-01 02:51:00                                 NaN   \n",
       "2020-01-01 03:51:00                                 NaN   \n",
       "...                                                 ...   \n",
       "2023-12-31 20:51:00                                 NaN   \n",
       "2023-12-31 21:00:00                                 NaN   \n",
       "2023-12-31 21:51:00                                 NaN   \n",
       "2023-12-31 22:51:00                                 NaN   \n",
       "2023-12-31 23:51:00                                 NaN   \n",
       "\n",
       "                     ShortDurationPrecipitationValue120  \\\n",
       "DATE                                                      \n",
       "2020-01-01 00:00:00                                 NaN   \n",
       "2020-01-01 00:51:00                                 NaN   \n",
       "2020-01-01 01:51:00                                 NaN   \n",
       "2020-01-01 02:51:00                                 NaN   \n",
       "2020-01-01 03:51:00                                 NaN   \n",
       "...                                                 ...   \n",
       "2023-12-31 20:51:00                                 NaN   \n",
       "2023-12-31 21:00:00                                 NaN   \n",
       "2023-12-31 21:51:00                                 NaN   \n",
       "2023-12-31 22:51:00                                 NaN   \n",
       "2023-12-31 23:51:00                                 NaN   \n",
       "\n",
       "                     ShortDurationPrecipitationValue150  \\\n",
       "DATE                                                      \n",
       "2020-01-01 00:00:00                                 NaN   \n",
       "2020-01-01 00:51:00                                 NaN   \n",
       "2020-01-01 01:51:00                                 NaN   \n",
       "2020-01-01 02:51:00                                 NaN   \n",
       "2020-01-01 03:51:00                                 NaN   \n",
       "...                                                 ...   \n",
       "2023-12-31 20:51:00                                 NaN   \n",
       "2023-12-31 21:00:00                                 NaN   \n",
       "2023-12-31 21:51:00                                 NaN   \n",
       "2023-12-31 22:51:00                                 NaN   \n",
       "2023-12-31 23:51:00                                 NaN   \n",
       "\n",
       "                     ShortDurationPrecipitationValue180  Sunrise  Sunset  \\\n",
       "DATE                                                                       \n",
       "2020-01-01 00:00:00                                 NaN      NaN     NaN   \n",
       "2020-01-01 00:51:00                                 NaN      NaN     NaN   \n",
       "2020-01-01 01:51:00                                 NaN      NaN     NaN   \n",
       "2020-01-01 02:51:00                                 NaN      NaN     NaN   \n",
       "2020-01-01 03:51:00                                 NaN      NaN     NaN   \n",
       "...                                                 ...      ...     ...   \n",
       "2023-12-31 20:51:00                                 NaN      NaN     NaN   \n",
       "2023-12-31 21:00:00                                 NaN      NaN     NaN   \n",
       "2023-12-31 21:51:00                                 NaN      NaN     NaN   \n",
       "2023-12-31 22:51:00                                 NaN      NaN     NaN   \n",
       "2023-12-31 23:51:00                                 NaN      NaN     NaN   \n",
       "\n",
       "                     WindEquipmentChangeDate  \n",
       "DATE                                          \n",
       "2020-01-01 00:00:00                      NaN  \n",
       "2020-01-01 00:51:00                      NaN  \n",
       "2020-01-01 01:51:00                      NaN  \n",
       "2020-01-01 02:51:00                      NaN  \n",
       "2020-01-01 03:51:00                      NaN  \n",
       "...                                      ...  \n",
       "2023-12-31 20:51:00                      NaN  \n",
       "2023-12-31 21:00:00                      NaN  \n",
       "2023-12-31 21:51:00                      NaN  \n",
       "2023-12-31 22:51:00                      NaN  \n",
       "2023-12-31 23:51:00                      NaN  \n",
       "\n",
       "[51668 rows x 123 columns]"
      ]
     },
     "execution_count": 73,
     "metadata": {},
     "output_type": "execute_result"
    }
   ],
   "source": [
    "#     open csv and store in pandas dataframe\n",
    "df = pd.read_csv(file_lcd_input, parse_dates=['DATE'], index_col='DATE', low_memory=False)\n",
    "df"
   ]
  },
  {
   "cell_type": "code",
   "execution_count": 74,
   "metadata": {},
   "outputs": [
    {
     "data": {
      "text/plain": [
       "['STATION',\n",
       " 'HourlyAltimeterSetting',\n",
       " 'HourlyDewPointTemperature',\n",
       " 'HourlyDryBulbTemperature',\n",
       " 'HourlyPrecipitation',\n",
       " 'HourlyPressureChange',\n",
       " 'HourlyRelativeHumidity',\n",
       " 'HourlyStationPressure',\n",
       " 'HourlyVisibility',\n",
       " 'HourlyWetBulbTemperature',\n",
       " 'HourlyWindDirection',\n",
       " 'HourlyWindGustSpeed',\n",
       " 'HourlyWindSpeed',\n",
       " 'Sunrise',\n",
       " 'Sunset']"
      ]
     },
     "execution_count": 74,
     "metadata": {},
     "output_type": "execute_result"
    }
   ],
   "source": [
    "cols_use = ['STATION', \n",
    "       'HourlyVisibility', 'HourlyDryBulbTemperature', 'HourlyWindSpeed',\n",
    "       'HourlyDewPointTemperature', 'HourlyRelativeHumidity',\n",
    "       'HourlyWindDirection', 'HourlyStationPressure',\n",
    "       'HourlyWetBulbTemperature',\n",
    "       'HourlyAltimeterSetting',\n",
    "       'HourlyPrecipitation', 'HourlyPressureChange',\n",
    "        'HourlyWindGustSpeed', 'Sunset',\n",
    "       'Sunrise']\n",
    "cols_use = df.columns.intersection(cols_use).tolist()\n",
    "cols_not_used = df.columns.difference(cols_use).tolist()\n",
    "cols_use"
   ]
  },
  {
   "cell_type": "code",
   "execution_count": 75,
   "metadata": {},
   "outputs": [
    {
     "data": {
      "text/plain": [
       "(51668, 15)"
      ]
     },
     "execution_count": 75,
     "metadata": {},
     "output_type": "execute_result"
    }
   ],
   "source": [
    "df = df[cols_use].copy()\n",
    "df.shape"
   ]
  },
  {
   "cell_type": "code",
   "execution_count": 76,
   "metadata": {},
   "outputs": [
    {
     "data": {
      "text/html": [
       "<div>\n",
       "<style scoped>\n",
       "    .dataframe tbody tr th:only-of-type {\n",
       "        vertical-align: middle;\n",
       "    }\n",
       "\n",
       "    .dataframe tbody tr th {\n",
       "        vertical-align: top;\n",
       "    }\n",
       "\n",
       "    .dataframe thead th {\n",
       "        text-align: right;\n",
       "    }\n",
       "</style>\n",
       "<table border=\"1\" class=\"dataframe\">\n",
       "  <thead>\n",
       "    <tr style=\"text-align: right;\">\n",
       "      <th></th>\n",
       "      <th>STATION</th>\n",
       "      <th>HourlyAltimeterSetting</th>\n",
       "      <th>HourlyDewPointTemperature</th>\n",
       "      <th>HourlyDryBulbTemperature</th>\n",
       "      <th>HourlyPrecipitation</th>\n",
       "      <th>HourlyPressureChange</th>\n",
       "      <th>HourlyRelativeHumidity</th>\n",
       "      <th>HourlyStationPressure</th>\n",
       "      <th>HourlyVisibility</th>\n",
       "      <th>HourlyWetBulbTemperature</th>\n",
       "      <th>HourlyWindDirection</th>\n",
       "      <th>HourlyWindGustSpeed</th>\n",
       "      <th>HourlyWindSpeed</th>\n",
       "      <th>Sunrise</th>\n",
       "      <th>Sunset</th>\n",
       "    </tr>\n",
       "    <tr>\n",
       "      <th>DATE</th>\n",
       "      <th></th>\n",
       "      <th></th>\n",
       "      <th></th>\n",
       "      <th></th>\n",
       "      <th></th>\n",
       "      <th></th>\n",
       "      <th></th>\n",
       "      <th></th>\n",
       "      <th></th>\n",
       "      <th></th>\n",
       "      <th></th>\n",
       "      <th></th>\n",
       "      <th></th>\n",
       "      <th></th>\n",
       "      <th></th>\n",
       "    </tr>\n",
       "  </thead>\n",
       "  <tbody>\n",
       "    <tr>\n",
       "      <th>2020-01-01 00:00:00</th>\n",
       "      <td>72530094846</td>\n",
       "      <td>NaN</td>\n",
       "      <td>21</td>\n",
       "      <td>25</td>\n",
       "      <td>NaN</td>\n",
       "      <td>NaN</td>\n",
       "      <td>85.0</td>\n",
       "      <td>29.10</td>\n",
       "      <td>9.94</td>\n",
       "      <td>24.0</td>\n",
       "      <td>270</td>\n",
       "      <td>NaN</td>\n",
       "      <td>8.0</td>\n",
       "      <td>NaN</td>\n",
       "      <td>NaN</td>\n",
       "    </tr>\n",
       "    <tr>\n",
       "      <th>2020-01-01 00:51:00</th>\n",
       "      <td>72530094846</td>\n",
       "      <td>29.80</td>\n",
       "      <td>20</td>\n",
       "      <td>24</td>\n",
       "      <td>0.00</td>\n",
       "      <td>NaN</td>\n",
       "      <td>84.0</td>\n",
       "      <td>29.08</td>\n",
       "      <td>10.00</td>\n",
       "      <td>23.0</td>\n",
       "      <td>270</td>\n",
       "      <td>NaN</td>\n",
       "      <td>8.0</td>\n",
       "      <td>NaN</td>\n",
       "      <td>NaN</td>\n",
       "    </tr>\n",
       "    <tr>\n",
       "      <th>2020-01-01 01:51:00</th>\n",
       "      <td>72530094846</td>\n",
       "      <td>29.80</td>\n",
       "      <td>19</td>\n",
       "      <td>23</td>\n",
       "      <td>0.00</td>\n",
       "      <td>NaN</td>\n",
       "      <td>85.0</td>\n",
       "      <td>29.08</td>\n",
       "      <td>10.00</td>\n",
       "      <td>22.0</td>\n",
       "      <td>260</td>\n",
       "      <td>NaN</td>\n",
       "      <td>6.0</td>\n",
       "      <td>NaN</td>\n",
       "      <td>NaN</td>\n",
       "    </tr>\n",
       "    <tr>\n",
       "      <th>2020-01-01 02:51:00</th>\n",
       "      <td>72530094846</td>\n",
       "      <td>29.81</td>\n",
       "      <td>19</td>\n",
       "      <td>22</td>\n",
       "      <td>0.00</td>\n",
       "      <td>-0.01</td>\n",
       "      <td>89.0</td>\n",
       "      <td>29.09</td>\n",
       "      <td>10.00</td>\n",
       "      <td>21.0</td>\n",
       "      <td>220</td>\n",
       "      <td>NaN</td>\n",
       "      <td>5.0</td>\n",
       "      <td>NaN</td>\n",
       "      <td>NaN</td>\n",
       "    </tr>\n",
       "    <tr>\n",
       "      <th>2020-01-01 03:51:00</th>\n",
       "      <td>72530094846</td>\n",
       "      <td>29.80</td>\n",
       "      <td>19</td>\n",
       "      <td>21</td>\n",
       "      <td>0.00</td>\n",
       "      <td>NaN</td>\n",
       "      <td>92.0</td>\n",
       "      <td>29.08</td>\n",
       "      <td>10.00</td>\n",
       "      <td>20.0</td>\n",
       "      <td>230</td>\n",
       "      <td>NaN</td>\n",
       "      <td>6.0</td>\n",
       "      <td>NaN</td>\n",
       "      <td>NaN</td>\n",
       "    </tr>\n",
       "  </tbody>\n",
       "</table>\n",
       "</div>"
      ],
      "text/plain": [
       "                         STATION HourlyAltimeterSetting  \\\n",
       "DATE                                                      \n",
       "2020-01-01 00:00:00  72530094846                    NaN   \n",
       "2020-01-01 00:51:00  72530094846                  29.80   \n",
       "2020-01-01 01:51:00  72530094846                  29.80   \n",
       "2020-01-01 02:51:00  72530094846                  29.81   \n",
       "2020-01-01 03:51:00  72530094846                  29.80   \n",
       "\n",
       "                    HourlyDewPointTemperature HourlyDryBulbTemperature  \\\n",
       "DATE                                                                     \n",
       "2020-01-01 00:00:00                        21                       25   \n",
       "2020-01-01 00:51:00                        20                       24   \n",
       "2020-01-01 01:51:00                        19                       23   \n",
       "2020-01-01 02:51:00                        19                       22   \n",
       "2020-01-01 03:51:00                        19                       21   \n",
       "\n",
       "                    HourlyPrecipitation  HourlyPressureChange  \\\n",
       "DATE                                                            \n",
       "2020-01-01 00:00:00                 NaN                   NaN   \n",
       "2020-01-01 00:51:00                0.00                   NaN   \n",
       "2020-01-01 01:51:00                0.00                   NaN   \n",
       "2020-01-01 02:51:00                0.00                 -0.01   \n",
       "2020-01-01 03:51:00                0.00                   NaN   \n",
       "\n",
       "                     HourlyRelativeHumidity HourlyStationPressure  \\\n",
       "DATE                                                                \n",
       "2020-01-01 00:00:00                    85.0                 29.10   \n",
       "2020-01-01 00:51:00                    84.0                 29.08   \n",
       "2020-01-01 01:51:00                    85.0                 29.08   \n",
       "2020-01-01 02:51:00                    89.0                 29.09   \n",
       "2020-01-01 03:51:00                    92.0                 29.08   \n",
       "\n",
       "                    HourlyVisibility  HourlyWetBulbTemperature  \\\n",
       "DATE                                                             \n",
       "2020-01-01 00:00:00             9.94                      24.0   \n",
       "2020-01-01 00:51:00            10.00                      23.0   \n",
       "2020-01-01 01:51:00            10.00                      22.0   \n",
       "2020-01-01 02:51:00            10.00                      21.0   \n",
       "2020-01-01 03:51:00            10.00                      20.0   \n",
       "\n",
       "                    HourlyWindDirection  HourlyWindGustSpeed  HourlyWindSpeed  \\\n",
       "DATE                                                                            \n",
       "2020-01-01 00:00:00                 270                  NaN              8.0   \n",
       "2020-01-01 00:51:00                 270                  NaN              8.0   \n",
       "2020-01-01 01:51:00                 260                  NaN              6.0   \n",
       "2020-01-01 02:51:00                 220                  NaN              5.0   \n",
       "2020-01-01 03:51:00                 230                  NaN              6.0   \n",
       "\n",
       "                     Sunrise  Sunset  \n",
       "DATE                                  \n",
       "2020-01-01 00:00:00      NaN     NaN  \n",
       "2020-01-01 00:51:00      NaN     NaN  \n",
       "2020-01-01 01:51:00      NaN     NaN  \n",
       "2020-01-01 02:51:00      NaN     NaN  \n",
       "2020-01-01 03:51:00      NaN     NaN  "
      ]
     },
     "execution_count": 76,
     "metadata": {},
     "output_type": "execute_result"
    }
   ],
   "source": [
    "df.head()"
   ]
  },
  {
   "cell_type": "markdown",
   "metadata": {},
   "source": [
    "### Identify and Display Weather Station Information"
   ]
  },
  {
   "cell_type": "code",
   "execution_count": 77,
   "metadata": {},
   "outputs": [
    {
     "data": {
      "text/plain": [
       "('72530094846', '725300', '94846')"
      ]
     },
     "execution_count": 77,
     "metadata": {},
     "output_type": "execute_result"
    }
   ],
   "source": [
    "# identify station\n",
    "station_lcd = str(df['STATION'].iloc[-1])\n",
    "station_usaf, station_wban = station_lcd[:6], station_lcd[6:]\n",
    "station_lcd, station_usaf, station_wban"
   ]
  },
  {
   "cell_type": "markdown",
   "metadata": {},
   "source": [
    "#### Open 'isd-history.csv' containing Station details\n",
    "This is supplemental, non-essential information.   It is important that any errors with this step do not negatively impact the core process."
   ]
  },
  {
   "cell_type": "code",
   "execution_count": 78,
   "metadata": {},
   "outputs": [],
   "source": [
    "isd_history_available = False\n",
    "file_isd_history = find_latest_file(dir_data, pattern_isd_history_file)\n",
    "if file_isd_history.is_file():\n",
    "    isd_history_available = True"
   ]
  },
  {
   "cell_type": "code",
   "execution_count": 79,
   "metadata": {},
   "outputs": [
    {
     "data": {
      "text/html": [
       "<div>\n",
       "<style scoped>\n",
       "    .dataframe tbody tr th:only-of-type {\n",
       "        vertical-align: middle;\n",
       "    }\n",
       "\n",
       "    .dataframe tbody tr th {\n",
       "        vertical-align: top;\n",
       "    }\n",
       "\n",
       "    .dataframe thead th {\n",
       "        text-align: right;\n",
       "    }\n",
       "</style>\n",
       "<table border=\"1\" class=\"dataframe\">\n",
       "  <thead>\n",
       "    <tr style=\"text-align: right;\">\n",
       "      <th></th>\n",
       "      <th>USAF</th>\n",
       "      <th>STATION NAME</th>\n",
       "      <th>CTRY</th>\n",
       "      <th>ST</th>\n",
       "      <th>CALL</th>\n",
       "      <th>LAT</th>\n",
       "      <th>LON</th>\n",
       "      <th>ELEV(M)</th>\n",
       "      <th>BEGIN</th>\n",
       "      <th>END</th>\n",
       "    </tr>\n",
       "    <tr>\n",
       "      <th>WBAN</th>\n",
       "      <th></th>\n",
       "      <th></th>\n",
       "      <th></th>\n",
       "      <th></th>\n",
       "      <th></th>\n",
       "      <th></th>\n",
       "      <th></th>\n",
       "      <th></th>\n",
       "      <th></th>\n",
       "      <th></th>\n",
       "    </tr>\n",
       "  </thead>\n",
       "  <tbody>\n",
       "    <tr>\n",
       "      <th>00003</th>\n",
       "      <td>049999</td>\n",
       "      <td>GISP2</td>\n",
       "      <td>GL</td>\n",
       "      <td>NaN</td>\n",
       "      <td>NaN</td>\n",
       "      <td>+72.580</td>\n",
       "      <td>-038.460</td>\n",
       "      <td>+3205.0</td>\n",
       "      <td>1989-06-08</td>\n",
       "      <td>1997-01-25</td>\n",
       "    </tr>\n",
       "    <tr>\n",
       "      <th>04114</th>\n",
       "      <td>722142</td>\n",
       "      <td>CHALLIS AIRPORT</td>\n",
       "      <td>US</td>\n",
       "      <td>ID</td>\n",
       "      <td>KLLJ</td>\n",
       "      <td>+44.523</td>\n",
       "      <td>-114.216</td>\n",
       "      <td>+1534.1</td>\n",
       "      <td>2005-01-01</td>\n",
       "      <td>2024-12-15</td>\n",
       "    </tr>\n",
       "    <tr>\n",
       "      <th>13825</th>\n",
       "      <td>723306</td>\n",
       "      <td>COLUMBUS AFB AIRPORT</td>\n",
       "      <td>US</td>\n",
       "      <td>MS</td>\n",
       "      <td>KCBM</td>\n",
       "      <td>+33.650</td>\n",
       "      <td>-088.450</td>\n",
       "      <td>+0066.8</td>\n",
       "      <td>1942-03-01</td>\n",
       "      <td>2024-12-16</td>\n",
       "    </tr>\n",
       "    <tr>\n",
       "      <th>23293</th>\n",
       "      <td>724945</td>\n",
       "      <td>N Y. MINETA SN JO INTL APT</td>\n",
       "      <td>US</td>\n",
       "      <td>CA</td>\n",
       "      <td>KSJC</td>\n",
       "      <td>+37.359</td>\n",
       "      <td>-121.924</td>\n",
       "      <td>+0015.0</td>\n",
       "      <td>1973-01-01</td>\n",
       "      <td>2024-12-15</td>\n",
       "    </tr>\n",
       "    <tr>\n",
       "      <th>53952</th>\n",
       "      <td>722563</td>\n",
       "      <td>MC GREGOR EXECUTIVE ARPT</td>\n",
       "      <td>US</td>\n",
       "      <td>TX</td>\n",
       "      <td>KPWG</td>\n",
       "      <td>+31.485</td>\n",
       "      <td>-097.316</td>\n",
       "      <td>+0180.4</td>\n",
       "      <td>2006-01-01</td>\n",
       "      <td>2024-12-15</td>\n",
       "    </tr>\n",
       "  </tbody>\n",
       "</table>\n",
       "</div>"
      ],
      "text/plain": [
       "         USAF                STATION NAME CTRY   ST  CALL      LAT       LON  \\\n",
       "WBAN                                                                           \n",
       "00003  049999                       GISP2   GL  NaN   NaN  +72.580  -038.460   \n",
       "04114  722142             CHALLIS AIRPORT   US   ID  KLLJ  +44.523  -114.216   \n",
       "13825  723306        COLUMBUS AFB AIRPORT   US   MS  KCBM  +33.650  -088.450   \n",
       "23293  724945  N Y. MINETA SN JO INTL APT   US   CA  KSJC  +37.359  -121.924   \n",
       "53952  722563    MC GREGOR EXECUTIVE ARPT   US   TX  KPWG  +31.485  -097.316   \n",
       "\n",
       "       ELEV(M)       BEGIN         END  \n",
       "WBAN                                    \n",
       "00003  +3205.0  1989-06-08  1997-01-25  \n",
       "04114  +1534.1  2005-01-01  2024-12-15  \n",
       "13825  +0066.8  1942-03-01  2024-12-16  \n",
       "23293  +0015.0  1973-01-01  2024-12-15  \n",
       "53952  +0180.4  2006-01-01  2024-12-15  "
      ]
     },
     "execution_count": 79,
     "metadata": {},
     "output_type": "execute_result"
    }
   ],
   "source": [
    "df_isd_history = pd.read_csv(file_isd_history, index_col='WBAN',\n",
    "                             dtype={'WBAN': object}).sort_values(by=['USAF', 'BEGIN'],\n",
    "                                                             ascending=[True, False])\n",
    "df_isd_history.sample(5).sort_index()"
   ]
  },
  {
   "cell_type": "code",
   "execution_count": 80,
   "metadata": {},
   "outputs": [
    {
     "data": {
      "text/plain": [
       "'94846'"
      ]
     },
     "execution_count": 80,
     "metadata": {},
     "output_type": "execute_result"
    }
   ],
   "source": [
    "station_wban"
   ]
  },
  {
   "cell_type": "code",
   "execution_count": 81,
   "metadata": {},
   "outputs": [],
   "source": [
    "# df_isd_history.loc[int(station_wban)]\n",
    "# using station_wban, gather station details from isd history for the record with the most\n",
    "# recent 'END' date\n",
    "station_details = dict(df_isd_history.loc[station_wban]\\\n",
    "                       .sort_values('END', ascending=False).iloc[0])"
   ]
  },
  {
   "cell_type": "code",
   "execution_count": 82,
   "metadata": {},
   "outputs": [],
   "source": [
    "# df_isd_history.groupby('WBAN')['USAF'].count().value_counts()\n",
    "\n",
    "# df_isd_history.groupby('WBAN')['USAF'].count().sort_values(ascending=False)\n",
    "\n",
    "# df_isd_history.loc['03849']"
   ]
  },
  {
   "cell_type": "code",
   "execution_count": 83,
   "metadata": {},
   "outputs": [],
   "source": [
    "# remove 'STATION', 'REPORT_TYPE', 'SOURCE' columns - not needed anymore\n",
    "df.drop(columns=['STATION', 'REPORT_TYPE', 'SOURCE'], inplace=True, errors='ignore')"
   ]
  },
  {
   "cell_type": "code",
   "execution_count": 84,
   "metadata": {},
   "outputs": [
    {
     "data": {
      "text/plain": [
       "('2020-01-01', '2023-12-31')"
      ]
     },
     "execution_count": 84,
     "metadata": {},
     "output_type": "execute_result"
    }
   ],
   "source": [
    "#     create timestamps for weather data time series\n",
    "start_dt = df.index[0]\n",
    "end_dt = df.index[-1]\n",
    "start_str = start_dt.strftime('%Y-%m-%d')\n",
    "end_str = end_dt.strftime('%Y-%m-%d')\n",
    "start_str, end_str"
   ]
  },
  {
   "cell_type": "code",
   "execution_count": 85,
   "metadata": {},
   "outputs": [
    {
     "data": {
      "text/plain": [
       "HourlyAltimeterSetting        object\n",
       "HourlyDewPointTemperature     object\n",
       "HourlyDryBulbTemperature      object\n",
       "HourlyPrecipitation           object\n",
       "HourlyPressureChange         float64\n",
       "HourlyRelativeHumidity       float64\n",
       "HourlyStationPressure         object\n",
       "HourlyVisibility              object\n",
       "HourlyWetBulbTemperature     float64\n",
       "HourlyWindDirection           object\n",
       "HourlyWindGustSpeed          float64\n",
       "HourlyWindSpeed              float64\n",
       "Sunrise                      float64\n",
       "Sunset                       float64\n",
       "dtype: object"
      ]
     },
     "execution_count": 85,
     "metadata": {},
     "output_type": "execute_result"
    }
   ],
   "source": [
    "df.dtypes"
   ]
  },
  {
   "cell_type": "code",
   "execution_count": 86,
   "metadata": {},
   "outputs": [],
   "source": [
    "cols_dtypes = {'HourlyAltimeterSetting': 'float64',\n",
    "   'HourlyDewPointTemperature': 'float64',\n",
    "    'HourlyDryBulbTemperature': 'float64',\n",
    "    'HourlyPrecipitation': 'float64',\n",
    "    'HourlyPressureChange': 'float64',\n",
    "    'HourlyRelativeHumidity': 'Int64',\n",
    "    'HourlyStationPressure': 'float64',\n",
    "    'HourlyVisibility': 'float64',\n",
    "    'HourlyWetBulbTemperature': 'float64',\n",
    "    'HourlyWindDirection': 'Int64',\n",
    "    'HourlyWindGustSpeed': 'float64',\n",
    "    'HourlyWindSpeed': 'float64',\n",
    "    'Sunrise': 'datetime64[ns]',\n",
    "    'Sunset': 'datetime64[ns]'}\n",
    "# keep only items with corresponding column in df\n",
    "cols_dtypes = {k : v for k, v in cols_dtypes.items() if k in df.columns}"
   ]
  },
  {
   "cell_type": "code",
   "execution_count": 87,
   "metadata": {},
   "outputs": [],
   "source": [
    "for col_, type_ in cols_dtypes.items():\n",
    "    if type_ == 'float64':\n",
    "        df[col_] = pd.to_numeric(df[col_], errors='coerce')\n",
    "        try:\n",
    "            df[col_] = df[col_].astype(type_)\n",
    "        except:\n",
    "            pass\n",
    "    elif type_ == 'Int64':\n",
    "        df[col_] = pd.to_numeric(df[col_], errors='coerce')\n",
    "        try:\n",
    "            df[col_] = df[col_].astype(type_)\n",
    "        except:\n",
    "            pass"
   ]
  },
  {
   "cell_type": "code",
   "execution_count": 88,
   "metadata": {},
   "outputs": [
    {
     "data": {
      "text/plain": [
       "HourlyAltimeterSetting       float64\n",
       "HourlyDewPointTemperature    float64\n",
       "HourlyDryBulbTemperature     float64\n",
       "HourlyPrecipitation          float64\n",
       "HourlyPressureChange         float64\n",
       "HourlyRelativeHumidity         Int64\n",
       "HourlyStationPressure        float64\n",
       "HourlyVisibility             float64\n",
       "HourlyWetBulbTemperature     float64\n",
       "HourlyWindDirection            Int64\n",
       "HourlyWindGustSpeed          float64\n",
       "HourlyWindSpeed              float64\n",
       "Sunrise                      float64\n",
       "Sunset                       float64\n",
       "dtype: object"
      ]
     },
     "execution_count": 88,
     "metadata": {},
     "output_type": "execute_result"
    }
   ],
   "source": [
    "df.dtypes"
   ]
  },
  {
   "cell_type": "code",
   "execution_count": 89,
   "metadata": {},
   "outputs": [
    {
     "name": "stdout",
     "output_type": "stream",
     "text": [
      "Sunrise\n",
      "Sunset\n"
     ]
    },
    {
     "data": {
      "text/html": [
       "<div>\n",
       "<style scoped>\n",
       "    .dataframe tbody tr th:only-of-type {\n",
       "        vertical-align: middle;\n",
       "    }\n",
       "\n",
       "    .dataframe tbody tr th {\n",
       "        vertical-align: top;\n",
       "    }\n",
       "\n",
       "    .dataframe thead th {\n",
       "        text-align: right;\n",
       "    }\n",
       "</style>\n",
       "<table border=\"1\" class=\"dataframe\">\n",
       "  <thead>\n",
       "    <tr style=\"text-align: right;\">\n",
       "      <th></th>\n",
       "      <th>Sunrise</th>\n",
       "      <th>Sunset</th>\n",
       "    </tr>\n",
       "    <tr>\n",
       "      <th>DATE</th>\n",
       "      <th></th>\n",
       "      <th></th>\n",
       "    </tr>\n",
       "  </thead>\n",
       "  <tbody>\n",
       "    <tr>\n",
       "      <th>2021-01-23 22:51:00</th>\n",
       "      <td>2021-01-23 07:13:00</td>\n",
       "      <td>2021-01-23 16:54:00</td>\n",
       "    </tr>\n",
       "    <tr>\n",
       "      <th>2023-03-16 06:51:00</th>\n",
       "      <td>2023-03-16 06:04:00</td>\n",
       "      <td>2023-03-16 17:58:00</td>\n",
       "    </tr>\n",
       "    <tr>\n",
       "      <th>2023-08-20 00:00:00</th>\n",
       "      <td>2023-08-20 05:04:00</td>\n",
       "      <td>2023-08-20 18:46:00</td>\n",
       "    </tr>\n",
       "    <tr>\n",
       "      <th>2023-03-23 20:51:00</th>\n",
       "      <td>2023-03-23 05:52:00</td>\n",
       "      <td>2023-03-23 18:06:00</td>\n",
       "    </tr>\n",
       "    <tr>\n",
       "      <th>2022-10-21 20:51:00</th>\n",
       "      <td>2022-10-21 06:10:00</td>\n",
       "      <td>2022-10-21 17:03:00</td>\n",
       "    </tr>\n",
       "  </tbody>\n",
       "</table>\n",
       "</div>"
      ],
      "text/plain": [
       "                                Sunrise              Sunset\n",
       "DATE                                                       \n",
       "2021-01-23 22:51:00 2021-01-23 07:13:00 2021-01-23 16:54:00\n",
       "2023-03-16 06:51:00 2023-03-16 06:04:00 2023-03-16 17:58:00\n",
       "2023-08-20 00:00:00 2023-08-20 05:04:00 2023-08-20 18:46:00\n",
       "2023-03-23 20:51:00 2023-03-23 05:52:00 2023-03-23 18:06:00\n",
       "2022-10-21 20:51:00 2022-10-21 06:10:00 2022-10-21 17:03:00"
      ]
     },
     "execution_count": 89,
     "metadata": {},
     "output_type": "execute_result"
    }
   ],
   "source": [
    "# forward fill 'Sunrise' & 'Sunset' data\n",
    "cols_sunrise_sunset = df.columns.intersection(['Sunrise', 'Sunset']).tolist()\n",
    "for col_ in cols_sunrise_sunset:\n",
    "    print(col_)\n",
    "    time = pd.to_datetime(pd.to_numeric(df[col_].ffill()\\\n",
    "                             .bfill()), format = '%H%M')\n",
    "    YMDHM = pd.DataFrame({'Year': df.index.year,\n",
    "                         'Month' : df.index.month,\n",
    "                        'Day' : df.index.day,\n",
    "                        'Hour' : time.dt.hour,\n",
    "                         'Minute' : time.dt.minute})\n",
    "\n",
    "    df[col_] = pd.to_datetime(YMDHM)\n",
    "    del time, YMDHM\n",
    "df[cols_sunrise_sunset].sample(5)"
   ]
  },
  {
   "cell_type": "code",
   "execution_count": 90,
   "metadata": {},
   "outputs": [],
   "source": [
    "# are there timestamps that have a high count of null values?\n",
    "n_records_hourly_approx = int(df.shape[0]/(24))\n",
    "n_max_null = pct_null_timestamp_max * n_records_hourly_approx"
   ]
  },
  {
   "cell_type": "code",
   "execution_count": 91,
   "metadata": {},
   "outputs": [],
   "source": [
    "temp = df.loc[:, df.columns.difference(cols_sunrise_sunset)]\n",
    "df_nan_ts = temp.groupby(temp.index.time).apply(lambda x: x.isna().sum()\\\n",
    "                            .gt(n_max_null)).all(axis=1)\n",
    "times_nan = df_nan_ts.loc[df_nan_ts].index.tolist()\n",
    "del temp\n",
    "del df_nan_ts"
   ]
  },
  {
   "cell_type": "code",
   "execution_count": 92,
   "metadata": {},
   "outputs": [
    {
     "data": {
      "text/plain": [
       "[datetime.time(23, 59)]"
      ]
     },
     "execution_count": 92,
     "metadata": {},
     "output_type": "execute_result"
    }
   ],
   "source": [
    "times_nan"
   ]
  },
  {
   "cell_type": "code",
   "execution_count": 93,
   "metadata": {},
   "outputs": [
    {
     "name": "stdout",
     "output_type": "stream",
     "text": [
      "<class 'pandas.core.frame.DataFrame'>\n",
      "DatetimeIndex: 50154 entries, 2020-01-01 00:00:00 to 2023-12-31 23:51:00\n",
      "Data columns (total 14 columns):\n",
      " #   Column                     Non-Null Count  Dtype         \n",
      "---  ------                     --------------  -----         \n",
      " 0   HourlyAltimeterSetting     44163 non-null  float64       \n",
      " 1   HourlyDewPointTemperature  50138 non-null  float64       \n",
      " 2   HourlyDryBulbTemperature   50146 non-null  float64       \n",
      " 3   HourlyPrecipitation        33893 non-null  float64       \n",
      " 4   HourlyPressureChange       17501 non-null  float64       \n",
      " 5   HourlyRelativeHumidity     50139 non-null  Int64         \n",
      " 6   HourlyStationPressure      49991 non-null  float64       \n",
      " 7   HourlyVisibility           50106 non-null  float64       \n",
      " 8   HourlyWetBulbTemperature   49993 non-null  float64       \n",
      " 9   HourlyWindDirection        49554 non-null  Int64         \n",
      " 10  HourlyWindGustSpeed        9990 non-null   float64       \n",
      " 11  HourlyWindSpeed            50150 non-null  float64       \n",
      " 12  Sunrise                    50154 non-null  datetime64[ns]\n",
      " 13  Sunset                     50154 non-null  datetime64[ns]\n",
      "dtypes: Int64(2), datetime64[ns](2), float64(10)\n",
      "memory usage: 5.8 MB\n"
     ]
    }
   ],
   "source": [
    "# remove records for timestamps with a high percentage of Null values.\n",
    "# note that the '23:59:00' timestamp is suspect and appears to only be a placeholder\n",
    "# for posting sunrise/sunset times.  Important that this step be done after\n",
    "# forward filling sunrise/sunset values.\n",
    "filter_nan_times = pd.Series(df.index.time).isin(times_nan).values\n",
    "df = df.loc[~filter_nan_times]\n",
    "df.info()"
   ]
  },
  {
   "cell_type": "code",
   "execution_count": 94,
   "metadata": {},
   "outputs": [],
   "source": [
    "#     Check what percentage of data has null data and print to screen\n",
    "df_pct_null_data = pd.DataFrame({'Percent N/A': df.isnull().sum().divide(len(df)).round(3)})\n",
    "df_pct_null_data_formatted = df_pct_null_data['Percent N/A'].apply(lambda n: '{:,.1%}'.format(n))\n",
    "# remove 'Hourly' prefix for display only\n",
    "col_rename_remove_hourly = {col_ : col_.replace('Hourly', '') for\n",
    "                            col_ in df_pct_null_data_formatted.index}"
   ]
  },
  {
   "cell_type": "code",
   "execution_count": 95,
   "metadata": {},
   "outputs": [
    {
     "name": "stdout",
     "output_type": "stream",
     "text": [
      "Percent Missing Values by Column for LCD source file '3876540.csv' for USAF station 725300 at 'CHICAGO O\\'HARE INTERNATIONAL' from 2020-01-01 to 2023-12-31.\n"
     ]
    },
    {
     "data": {
      "text/plain": [
       "AltimeterSetting       11.9%\n",
       "DewPointTemperature     0.0%\n",
       "DryBulbTemperature      0.0%\n",
       "Precipitation          32.4%\n",
       "PressureChange         65.1%\n",
       "RelativeHumidity        0.0%\n",
       "StationPressure         0.3%\n",
       "Visibility              0.1%\n",
       "WetBulbTemperature      0.3%\n",
       "WindDirection           1.2%\n",
       "WindGustSpeed          80.1%\n",
       "WindSpeed               0.0%\n",
       "Sunrise                 0.0%\n",
       "Sunset                  0.0%\n",
       "Name: Percent N/A, dtype: object"
      ]
     },
     "metadata": {},
     "output_type": "display_data"
    }
   ],
   "source": [
    "message_pct_null_data = f\"\"\"Percent Missing Values by Column for LCD source file '{file_lcd_input.name}' for USAF station {station_usaf} at '{station_details['STATION NAME']}' from {start_str} to {end_str}.\"\"\"\n",
    "print(message_pct_null_data)\n",
    "display(df_pct_null_data_formatted.rename(index=col_rename_remove_hourly))"
   ]
  },
  {
   "cell_type": "code",
   "execution_count": 96,
   "metadata": {},
   "outputs": [],
   "source": [
    "# create dictionary 'col_null_policy' to manually guide the resolution of null values by column\n",
    "# in general, data that is expected to have a non-zero/non-null reading at all times\n",
    "# will have nulls filled through interpolation.  Data that normally has 0 or null readings\n",
    "# like 'HourlyPrecipitation' will have null values filled with 0 in the interest of having\n",
    "# a 100% clean dataset to facilitate manual analysis.\n",
    "col_null_policy = {'HourlyAltimeterSetting': pd.Series.interpolate,\n",
    " 'HourlyDewPointTemperature': pd.Series.interpolate,\n",
    " 'HourlyDryBulbTemperature': pd.Series.interpolate,\n",
    " 'HourlyPrecipitation': lambda x: x.fillna(0),\n",
    " 'HourlyPressureChange': pd.Series.interpolate,\n",
    " 'HourlyRelativeHumidity': pd.Series.interpolate,\n",
    " 'HourlyStationPressure': pd.Series.interpolate,\n",
    " 'HourlyVisibility': pd.Series.interpolate,\n",
    " 'HourlyWetBulbTemperature': pd.Series.interpolate,\n",
    " 'HourlyWindDirection': pd.Series.interpolate,\n",
    " 'HourlyWindGustSpeed': lambda x: x,\n",
    " 'HourlyWindSpeed': pd.Series.interpolate,\n",
    " 'Sunrise': pd.Series.ffill,\n",
    " 'Sunset': pd.Series.bfill}\n",
    "# keep only items with corresponding column in df\n",
    "col_null_policy = {k : v for k, v in col_null_policy.items() if k in df.columns}\n",
    "# assert len(df.columns.intersection(col_null_policy.keys())) == df.shape[1]"
   ]
  },
  {
   "cell_type": "code",
   "execution_count": 97,
   "metadata": {},
   "outputs": [
    {
     "data": {
      "text/plain": [
       "HourlyAltimeterSetting              float64\n",
       "HourlyDewPointTemperature           float64\n",
       "HourlyDryBulbTemperature            float64\n",
       "HourlyPrecipitation                 float64\n",
       "HourlyPressureChange                float64\n",
       "HourlyRelativeHumidity                Int64\n",
       "HourlyStationPressure               float64\n",
       "HourlyVisibility                    float64\n",
       "HourlyWetBulbTemperature            float64\n",
       "HourlyWindDirection                   Int64\n",
       "HourlyWindGustSpeed                 float64\n",
       "HourlyWindSpeed                     float64\n",
       "Sunrise                      datetime64[ns]\n",
       "Sunset                       datetime64[ns]\n",
       "dtype: object"
      ]
     },
     "execution_count": 97,
     "metadata": {},
     "output_type": "execute_result"
    }
   ],
   "source": [
    "df.dtypes"
   ]
  },
  {
   "cell_type": "code",
   "execution_count": 98,
   "metadata": {},
   "outputs": [],
   "source": [
    "# df['HourlyWindSpeed'].astype(float).interpolate()"
   ]
  },
  {
   "cell_type": "code",
   "execution_count": 99,
   "metadata": {},
   "outputs": [
    {
     "data": {
      "text/plain": [
       "DATE\n",
       "2020-01-01 00:00:00      NaN\n",
       "2020-01-01 00:51:00    29.80\n",
       "2020-01-01 01:51:00    29.80\n",
       "2020-01-01 02:51:00    29.81\n",
       "2020-01-01 03:51:00    29.80\n",
       "                       ...  \n",
       "2023-12-31 20:51:00    30.08\n",
       "2023-12-31 21:00:00      NaN\n",
       "2023-12-31 21:51:00    30.09\n",
       "2023-12-31 22:51:00    30.11\n",
       "2023-12-31 23:51:00    30.13\n",
       "Name: HourlyAltimeterSetting, Length: 50154, dtype: float64"
      ]
     },
     "execution_count": 99,
     "metadata": {},
     "output_type": "execute_result"
    }
   ],
   "source": [
    "df['HourlyAltimeterSetting']"
   ]
  },
  {
   "cell_type": "code",
   "execution_count": 100,
   "metadata": {},
   "outputs": [
    {
     "data": {
      "text/plain": [
       "DATE\n",
       "2020-01-01 00:00:00    29.800\n",
       "2020-01-01 01:00:00    29.800\n",
       "2020-01-01 02:00:00    29.810\n",
       "2020-01-01 03:00:00    29.800\n",
       "2020-01-01 04:00:00    29.800\n",
       "                        ...  \n",
       "2023-12-31 19:00:00    30.060\n",
       "2023-12-31 20:00:00    30.075\n",
       "2023-12-31 21:00:00    30.090\n",
       "2023-12-31 22:00:00    30.110\n",
       "2023-12-31 23:00:00    30.130\n",
       "Freq: H, Name: HourlyAltimeterSetting, Length: 35064, dtype: float64"
      ]
     },
     "execution_count": 100,
     "metadata": {},
     "output_type": "execute_result"
    }
   ],
   "source": [
    "col = 'HourlyAltimeterSetting'\n",
    "# df[col].resample('H').agg(col_null_policy[col])\n",
    "\n",
    "pd.to_numeric(df[col], errors='coerce').dropna().resample(freqstr).mean()"
   ]
  },
  {
   "cell_type": "code",
   "execution_count": 109,
   "metadata": {},
   "outputs": [],
   "source": [
    "# create dictionary 'col_resample_policy' to manually guide resampling method by column\n",
    "\n",
    "col_resample_policy = {'HourlyAltimeterSetting': 'mean',\n",
    " 'HourlyDewPointTemperature': 'mean',\n",
    " 'HourlyDryBulbTemperature': 'mean',\n",
    " 'HourlyPrecipitation': 'mean',\n",
    " 'HourlyPressureChange': 'mean',\n",
    " 'HourlyRelativeHumidity': 'mean',\n",
    " 'HourlyStationPressure': 'mean',\n",
    " 'HourlyVisibility': 'mean',\n",
    " 'HourlyWetBulbTemperature': 'mean',\n",
    " 'HourlyWindDirection': 'mean',\n",
    " 'HourlyWindGustSpeed': 'mean',\n",
    " 'HourlyWindSpeed': 'mean',\n",
    " 'Sunrise': pd.Series.mode,\n",
    " 'Sunset': pd.Series.mode}\n",
    "# keep only items with corresponding column in df\n",
    "col_resample_policy = {k : v for k, v in col_resample_policy.items() if k in df.columns}\n",
    "# assert len(df.columns.intersection(col_resample_policy.keys())) == df.shape[1]"
   ]
  },
  {
   "cell_type": "code",
   "execution_count": 102,
   "metadata": {},
   "outputs": [
    {
     "data": {
      "text/plain": [
       "'datetime64[ns]'"
      ]
     },
     "execution_count": 102,
     "metadata": {},
     "output_type": "execute_result"
    }
   ],
   "source": [
    "df['Sunrise'].dtype.name"
   ]
  },
  {
   "cell_type": "markdown",
   "metadata": {},
   "source": [
    "# STOPPED HERE"
   ]
  },
  {
   "cell_type": "code",
   "execution_count": null,
   "metadata": {},
   "outputs": [],
   "source": [
    "pd.Series.resample()"
   ]
  },
  {
   "cell_type": "code",
   "execution_count": 110,
   "metadata": {},
   "outputs": [
    {
     "name": "stdout",
     "output_type": "stream",
     "text": [
      "HourlyAltimeterSetting\n",
      "HourlyDewPointTemperature\n",
      "HourlyDryBulbTemperature\n",
      "HourlyPrecipitation\n",
      "HourlyPressureChange\n",
      "HourlyRelativeHumidity\n",
      "HourlyStationPressure\n",
      "HourlyVisibility\n",
      "HourlyWetBulbTemperature\n",
      "HourlyWindDirection\n",
      "HourlyWindGustSpeed\n",
      "HourlyWindSpeed\n",
      "Sunrise\n",
      "Sunset\n",
      "CPU times: total: 36.8 s\n",
      "Wall time: 37 s\n"
     ]
    }
   ],
   "source": [
    "%%time\n",
    "dfs = {}\n",
    "for col_ in df.columns:\n",
    "    print(col_)\n",
    "#     if df[col_].dtype.name == 'datetime64[ns]':\n",
    "#         df[col_].resample(freqstr).agg(col_resample_policy[col_])\n",
    "#     else:\n",
    "#     df[col_].agg(col_null_policy[col_])\n",
    "#         pd.to_numeric(df[col], errors='coerce').dropna().resample(freqstr).agg(col_resample_policy[col_])\n",
    "    dfs[col_] = df[col_].dropna().resample(freqstr).agg(col_resample_policy[col_])"
   ]
  },
  {
   "cell_type": "code",
   "execution_count": 111,
   "metadata": {},
   "outputs": [
    {
     "data": {
      "text/html": [
       "<div>\n",
       "<style scoped>\n",
       "    .dataframe tbody tr th:only-of-type {\n",
       "        vertical-align: middle;\n",
       "    }\n",
       "\n",
       "    .dataframe tbody tr th {\n",
       "        vertical-align: top;\n",
       "    }\n",
       "\n",
       "    .dataframe thead th {\n",
       "        text-align: right;\n",
       "    }\n",
       "</style>\n",
       "<table border=\"1\" class=\"dataframe\">\n",
       "  <thead>\n",
       "    <tr style=\"text-align: right;\">\n",
       "      <th></th>\n",
       "      <th>HourlyAltimeterSetting</th>\n",
       "      <th>HourlyDewPointTemperature</th>\n",
       "      <th>HourlyDryBulbTemperature</th>\n",
       "      <th>HourlyPrecipitation</th>\n",
       "      <th>HourlyPressureChange</th>\n",
       "      <th>HourlyRelativeHumidity</th>\n",
       "      <th>HourlyStationPressure</th>\n",
       "      <th>HourlyVisibility</th>\n",
       "      <th>HourlyWetBulbTemperature</th>\n",
       "      <th>HourlyWindDirection</th>\n",
       "      <th>HourlyWindGustSpeed</th>\n",
       "      <th>HourlyWindSpeed</th>\n",
       "      <th>Sunrise</th>\n",
       "      <th>Sunset</th>\n",
       "    </tr>\n",
       "    <tr>\n",
       "      <th>DATE</th>\n",
       "      <th></th>\n",
       "      <th></th>\n",
       "      <th></th>\n",
       "      <th></th>\n",
       "      <th></th>\n",
       "      <th></th>\n",
       "      <th></th>\n",
       "      <th></th>\n",
       "      <th></th>\n",
       "      <th></th>\n",
       "      <th></th>\n",
       "      <th></th>\n",
       "      <th></th>\n",
       "      <th></th>\n",
       "    </tr>\n",
       "  </thead>\n",
       "  <tbody>\n",
       "    <tr>\n",
       "      <th>2020-01-01 00:00:00</th>\n",
       "      <td>29.800</td>\n",
       "      <td>20.5</td>\n",
       "      <td>24.5</td>\n",
       "      <td>0.0</td>\n",
       "      <td>NaN</td>\n",
       "      <td>84.5</td>\n",
       "      <td>29.09</td>\n",
       "      <td>9.97</td>\n",
       "      <td>23.5</td>\n",
       "      <td>270.0</td>\n",
       "      <td>NaN</td>\n",
       "      <td>8.0</td>\n",
       "      <td>2020-01-01 07:20:00</td>\n",
       "      <td>2020-01-01 16:31:00</td>\n",
       "    </tr>\n",
       "    <tr>\n",
       "      <th>2020-01-01 01:00:00</th>\n",
       "      <td>29.800</td>\n",
       "      <td>19.0</td>\n",
       "      <td>23.0</td>\n",
       "      <td>0.0</td>\n",
       "      <td>NaN</td>\n",
       "      <td>85.0</td>\n",
       "      <td>29.08</td>\n",
       "      <td>10.00</td>\n",
       "      <td>22.0</td>\n",
       "      <td>260.0</td>\n",
       "      <td>NaN</td>\n",
       "      <td>6.0</td>\n",
       "      <td>2020-01-01 07:20:00</td>\n",
       "      <td>2020-01-01 16:31:00</td>\n",
       "    </tr>\n",
       "    <tr>\n",
       "      <th>2020-01-01 02:00:00</th>\n",
       "      <td>29.810</td>\n",
       "      <td>19.0</td>\n",
       "      <td>22.0</td>\n",
       "      <td>0.0</td>\n",
       "      <td>-0.01</td>\n",
       "      <td>89.0</td>\n",
       "      <td>29.09</td>\n",
       "      <td>10.00</td>\n",
       "      <td>21.0</td>\n",
       "      <td>220.0</td>\n",
       "      <td>NaN</td>\n",
       "      <td>5.0</td>\n",
       "      <td>2020-01-01 07:20:00</td>\n",
       "      <td>2020-01-01 16:31:00</td>\n",
       "    </tr>\n",
       "    <tr>\n",
       "      <th>2020-01-01 03:00:00</th>\n",
       "      <td>29.800</td>\n",
       "      <td>19.0</td>\n",
       "      <td>21.0</td>\n",
       "      <td>0.0</td>\n",
       "      <td>NaN</td>\n",
       "      <td>92.0</td>\n",
       "      <td>29.08</td>\n",
       "      <td>10.00</td>\n",
       "      <td>20.0</td>\n",
       "      <td>230.0</td>\n",
       "      <td>NaN</td>\n",
       "      <td>6.0</td>\n",
       "      <td>2020-01-01 07:20:00</td>\n",
       "      <td>2020-01-01 16:31:00</td>\n",
       "    </tr>\n",
       "    <tr>\n",
       "      <th>2020-01-01 04:00:00</th>\n",
       "      <td>29.800</td>\n",
       "      <td>19.0</td>\n",
       "      <td>21.0</td>\n",
       "      <td>0.0</td>\n",
       "      <td>NaN</td>\n",
       "      <td>92.0</td>\n",
       "      <td>29.08</td>\n",
       "      <td>10.00</td>\n",
       "      <td>20.0</td>\n",
       "      <td>230.0</td>\n",
       "      <td>NaN</td>\n",
       "      <td>7.0</td>\n",
       "      <td>2020-01-01 07:20:00</td>\n",
       "      <td>2020-01-01 16:31:00</td>\n",
       "    </tr>\n",
       "    <tr>\n",
       "      <th>...</th>\n",
       "      <td>...</td>\n",
       "      <td>...</td>\n",
       "      <td>...</td>\n",
       "      <td>...</td>\n",
       "      <td>...</td>\n",
       "      <td>...</td>\n",
       "      <td>...</td>\n",
       "      <td>...</td>\n",
       "      <td>...</td>\n",
       "      <td>...</td>\n",
       "      <td>...</td>\n",
       "      <td>...</td>\n",
       "      <td>...</td>\n",
       "      <td>...</td>\n",
       "    </tr>\n",
       "    <tr>\n",
       "      <th>2023-12-31 19:00:00</th>\n",
       "      <td>30.060</td>\n",
       "      <td>27.0</td>\n",
       "      <td>33.0</td>\n",
       "      <td>NaN</td>\n",
       "      <td>NaN</td>\n",
       "      <td>78.0</td>\n",
       "      <td>NaN</td>\n",
       "      <td>10.00</td>\n",
       "      <td>NaN</td>\n",
       "      <td>320.0</td>\n",
       "      <td>NaN</td>\n",
       "      <td>16.0</td>\n",
       "      <td>2023-12-31 07:19:00</td>\n",
       "      <td>2023-12-31 16:29:00</td>\n",
       "    </tr>\n",
       "    <tr>\n",
       "      <th>2023-12-31 20:00:00</th>\n",
       "      <td>30.075</td>\n",
       "      <td>27.5</td>\n",
       "      <td>33.0</td>\n",
       "      <td>NaN</td>\n",
       "      <td>-0.06</td>\n",
       "      <td>80.0</td>\n",
       "      <td>NaN</td>\n",
       "      <td>10.00</td>\n",
       "      <td>NaN</td>\n",
       "      <td>320.0</td>\n",
       "      <td>24.0</td>\n",
       "      <td>16.0</td>\n",
       "      <td>2023-12-31 07:19:00</td>\n",
       "      <td>2023-12-31 16:29:00</td>\n",
       "    </tr>\n",
       "    <tr>\n",
       "      <th>2023-12-31 21:00:00</th>\n",
       "      <td>30.090</td>\n",
       "      <td>27.0</td>\n",
       "      <td>33.0</td>\n",
       "      <td>NaN</td>\n",
       "      <td>-0.06</td>\n",
       "      <td>78.0</td>\n",
       "      <td>29.37</td>\n",
       "      <td>9.97</td>\n",
       "      <td>31.0</td>\n",
       "      <td>325.0</td>\n",
       "      <td>22.0</td>\n",
       "      <td>14.5</td>\n",
       "      <td>2023-12-31 07:19:00</td>\n",
       "      <td>2023-12-31 16:29:00</td>\n",
       "    </tr>\n",
       "    <tr>\n",
       "      <th>2023-12-31 22:00:00</th>\n",
       "      <td>30.110</td>\n",
       "      <td>27.0</td>\n",
       "      <td>33.0</td>\n",
       "      <td>NaN</td>\n",
       "      <td>NaN</td>\n",
       "      <td>78.0</td>\n",
       "      <td>NaN</td>\n",
       "      <td>10.00</td>\n",
       "      <td>NaN</td>\n",
       "      <td>330.0</td>\n",
       "      <td>24.0</td>\n",
       "      <td>16.0</td>\n",
       "      <td>2023-12-31 07:19:00</td>\n",
       "      <td>2023-12-31 16:29:00</td>\n",
       "    </tr>\n",
       "    <tr>\n",
       "      <th>2023-12-31 23:00:00</th>\n",
       "      <td>30.130</td>\n",
       "      <td>27.0</td>\n",
       "      <td>32.0</td>\n",
       "      <td>NaN</td>\n",
       "      <td>-0.05</td>\n",
       "      <td>82.0</td>\n",
       "      <td>NaN</td>\n",
       "      <td>10.00</td>\n",
       "      <td>NaN</td>\n",
       "      <td>330.0</td>\n",
       "      <td>NaN</td>\n",
       "      <td>13.0</td>\n",
       "      <td>2023-12-31 07:19:00</td>\n",
       "      <td>2023-12-31 16:29:00</td>\n",
       "    </tr>\n",
       "  </tbody>\n",
       "</table>\n",
       "<p>35064 rows × 14 columns</p>\n",
       "</div>"
      ],
      "text/plain": [
       "                     HourlyAltimeterSetting  HourlyDewPointTemperature  \\\n",
       "DATE                                                                     \n",
       "2020-01-01 00:00:00                  29.800                       20.5   \n",
       "2020-01-01 01:00:00                  29.800                       19.0   \n",
       "2020-01-01 02:00:00                  29.810                       19.0   \n",
       "2020-01-01 03:00:00                  29.800                       19.0   \n",
       "2020-01-01 04:00:00                  29.800                       19.0   \n",
       "...                                     ...                        ...   \n",
       "2023-12-31 19:00:00                  30.060                       27.0   \n",
       "2023-12-31 20:00:00                  30.075                       27.5   \n",
       "2023-12-31 21:00:00                  30.090                       27.0   \n",
       "2023-12-31 22:00:00                  30.110                       27.0   \n",
       "2023-12-31 23:00:00                  30.130                       27.0   \n",
       "\n",
       "                     HourlyDryBulbTemperature  HourlyPrecipitation  \\\n",
       "DATE                                                                 \n",
       "2020-01-01 00:00:00                      24.5                  0.0   \n",
       "2020-01-01 01:00:00                      23.0                  0.0   \n",
       "2020-01-01 02:00:00                      22.0                  0.0   \n",
       "2020-01-01 03:00:00                      21.0                  0.0   \n",
       "2020-01-01 04:00:00                      21.0                  0.0   \n",
       "...                                       ...                  ...   \n",
       "2023-12-31 19:00:00                      33.0                  NaN   \n",
       "2023-12-31 20:00:00                      33.0                  NaN   \n",
       "2023-12-31 21:00:00                      33.0                  NaN   \n",
       "2023-12-31 22:00:00                      33.0                  NaN   \n",
       "2023-12-31 23:00:00                      32.0                  NaN   \n",
       "\n",
       "                     HourlyPressureChange  HourlyRelativeHumidity  \\\n",
       "DATE                                                                \n",
       "2020-01-01 00:00:00                   NaN                    84.5   \n",
       "2020-01-01 01:00:00                   NaN                    85.0   \n",
       "2020-01-01 02:00:00                 -0.01                    89.0   \n",
       "2020-01-01 03:00:00                   NaN                    92.0   \n",
       "2020-01-01 04:00:00                   NaN                    92.0   \n",
       "...                                   ...                     ...   \n",
       "2023-12-31 19:00:00                   NaN                    78.0   \n",
       "2023-12-31 20:00:00                 -0.06                    80.0   \n",
       "2023-12-31 21:00:00                 -0.06                    78.0   \n",
       "2023-12-31 22:00:00                   NaN                    78.0   \n",
       "2023-12-31 23:00:00                 -0.05                    82.0   \n",
       "\n",
       "                     HourlyStationPressure  HourlyVisibility  \\\n",
       "DATE                                                           \n",
       "2020-01-01 00:00:00                  29.09              9.97   \n",
       "2020-01-01 01:00:00                  29.08             10.00   \n",
       "2020-01-01 02:00:00                  29.09             10.00   \n",
       "2020-01-01 03:00:00                  29.08             10.00   \n",
       "2020-01-01 04:00:00                  29.08             10.00   \n",
       "...                                    ...               ...   \n",
       "2023-12-31 19:00:00                    NaN             10.00   \n",
       "2023-12-31 20:00:00                    NaN             10.00   \n",
       "2023-12-31 21:00:00                  29.37              9.97   \n",
       "2023-12-31 22:00:00                    NaN             10.00   \n",
       "2023-12-31 23:00:00                    NaN             10.00   \n",
       "\n",
       "                     HourlyWetBulbTemperature  HourlyWindDirection  \\\n",
       "DATE                                                                 \n",
       "2020-01-01 00:00:00                      23.5                270.0   \n",
       "2020-01-01 01:00:00                      22.0                260.0   \n",
       "2020-01-01 02:00:00                      21.0                220.0   \n",
       "2020-01-01 03:00:00                      20.0                230.0   \n",
       "2020-01-01 04:00:00                      20.0                230.0   \n",
       "...                                       ...                  ...   \n",
       "2023-12-31 19:00:00                       NaN                320.0   \n",
       "2023-12-31 20:00:00                       NaN                320.0   \n",
       "2023-12-31 21:00:00                      31.0                325.0   \n",
       "2023-12-31 22:00:00                       NaN                330.0   \n",
       "2023-12-31 23:00:00                       NaN                330.0   \n",
       "\n",
       "                     HourlyWindGustSpeed  HourlyWindSpeed             Sunrise  \\\n",
       "DATE                                                                            \n",
       "2020-01-01 00:00:00                  NaN              8.0 2020-01-01 07:20:00   \n",
       "2020-01-01 01:00:00                  NaN              6.0 2020-01-01 07:20:00   \n",
       "2020-01-01 02:00:00                  NaN              5.0 2020-01-01 07:20:00   \n",
       "2020-01-01 03:00:00                  NaN              6.0 2020-01-01 07:20:00   \n",
       "2020-01-01 04:00:00                  NaN              7.0 2020-01-01 07:20:00   \n",
       "...                                  ...              ...                 ...   \n",
       "2023-12-31 19:00:00                  NaN             16.0 2023-12-31 07:19:00   \n",
       "2023-12-31 20:00:00                 24.0             16.0 2023-12-31 07:19:00   \n",
       "2023-12-31 21:00:00                 22.0             14.5 2023-12-31 07:19:00   \n",
       "2023-12-31 22:00:00                 24.0             16.0 2023-12-31 07:19:00   \n",
       "2023-12-31 23:00:00                  NaN             13.0 2023-12-31 07:19:00   \n",
       "\n",
       "                                 Sunset  \n",
       "DATE                                     \n",
       "2020-01-01 00:00:00 2020-01-01 16:31:00  \n",
       "2020-01-01 01:00:00 2020-01-01 16:31:00  \n",
       "2020-01-01 02:00:00 2020-01-01 16:31:00  \n",
       "2020-01-01 03:00:00 2020-01-01 16:31:00  \n",
       "2020-01-01 04:00:00 2020-01-01 16:31:00  \n",
       "...                                 ...  \n",
       "2023-12-31 19:00:00 2023-12-31 16:29:00  \n",
       "2023-12-31 20:00:00 2023-12-31 16:29:00  \n",
       "2023-12-31 21:00:00 2023-12-31 16:29:00  \n",
       "2023-12-31 22:00:00 2023-12-31 16:29:00  \n",
       "2023-12-31 23:00:00 2023-12-31 16:29:00  \n",
       "\n",
       "[35064 rows x 14 columns]"
      ]
     },
     "execution_count": 111,
     "metadata": {},
     "output_type": "execute_result"
    }
   ],
   "source": [
    "df_out = pd.concat(dfs, axis=1)\n",
    "df_out"
   ]
  },
  {
   "cell_type": "code",
   "execution_count": 112,
   "metadata": {},
   "outputs": [
    {
     "name": "stdout",
     "output_type": "stream",
     "text": [
      "<class 'pandas.core.frame.DataFrame'>\n",
      "DatetimeIndex: 35064 entries, 2020-01-01 00:00:00 to 2023-12-31 23:00:00\n",
      "Freq: H\n",
      "Data columns (total 14 columns):\n",
      " #   Column                     Non-Null Count  Dtype         \n",
      "---  ------                     --------------  -----         \n",
      " 0   HourlyAltimeterSetting     35062 non-null  float64       \n",
      " 1   HourlyDewPointTemperature  35058 non-null  float64       \n",
      " 2   HourlyDryBulbTemperature   35063 non-null  float64       \n",
      " 3   HourlyPrecipitation        31779 non-null  float64       \n",
      " 4   HourlyPressureChange       17501 non-null  float64       \n",
      " 5   HourlyRelativeHumidity     35058 non-null  Float64       \n",
      " 6   HourlyStationPressure      34957 non-null  float64       \n",
      " 7   HourlyVisibility           35063 non-null  float64       \n",
      " 8   HourlyWetBulbTemperature   34952 non-null  float64       \n",
      " 9   HourlyWindDirection        34698 non-null  Float64       \n",
      " 10  HourlyWindGustSpeed        7955 non-null   float64       \n",
      " 11  HourlyWindSpeed            35063 non-null  float64       \n",
      " 12  Sunrise                    35064 non-null  datetime64[ns]\n",
      " 13  Sunset                     35064 non-null  datetime64[ns]\n",
      "dtypes: Float64(2), datetime64[ns](2), float64(10)\n",
      "memory usage: 4.1 MB\n"
     ]
    }
   ],
   "source": [
    "df_out.info()"
   ]
  },
  {
   "cell_type": "code",
   "execution_count": 121,
   "metadata": {},
   "outputs": [],
   "source": [
    "# df_out[cols_sunrise_sunset].diff(axis=1).iloc[:,-1].dt.total_seconds().div(3600).plot()"
   ]
  },
  {
   "cell_type": "code",
   "execution_count": null,
   "metadata": {},
   "outputs": [],
   "source": [
    "# df.agg(col_null_policy).astype(cols_dtypes)\n",
    "# df.agg(col_null_policy).isna().sum()"
   ]
  },
  {
   "cell_type": "code",
   "execution_count": null,
   "metadata": {},
   "outputs": [],
   "source": [
    "# transform remaining null values per the 'col_null_policy'\n",
    "# df = df.agg(col_null_policy).astype(cols_dtypes)\n",
    "# display(pd.DataFrame({'Percent N/A': df.isnull().sum().divide(len(df))\\\n",
    "#                       .round(3)}).apply(lambda n: '{:,.1%}'.format(n)))"
   ]
  },
  {
   "cell_type": "code",
   "execution_count": 122,
   "metadata": {},
   "outputs": [
    {
     "data": {
      "text/plain": [
       "HourlyAltimeterSetting        0.0%\n",
       "HourlyDewPointTemperature     0.0%\n",
       "HourlyDryBulbTemperature      0.0%\n",
       "HourlyPrecipitation           9.4%\n",
       "HourlyPressureChange         50.1%\n",
       "HourlyRelativeHumidity        0.0%\n",
       "HourlyStationPressure         0.3%\n",
       "HourlyVisibility              0.0%\n",
       "HourlyWetBulbTemperature      0.3%\n",
       "HourlyWindDirection           1.0%\n",
       "HourlyWindGustSpeed          77.3%\n",
       "HourlyWindSpeed               0.0%\n",
       "Sunrise                       0.0%\n",
       "Sunset                        0.0%\n",
       "Name: Percent N/A, dtype: object"
      ]
     },
     "metadata": {},
     "output_type": "display_data"
    }
   ],
   "source": [
    "#     Check what percentage of data has null data and print to screen\n",
    "df_pct_null_data_post = pd.DataFrame({'Percent N/A': df_out.isnull().sum().divide(len(df_out)).round(3)})\n",
    "df_pct_null_data_post_formatted = df_pct_null_data_post['Percent N/A'].apply(lambda n: '{:,.1%}'.format(n))\n",
    "display(df_pct_null_data_post_formatted)"
   ]
  },
  {
   "cell_type": "code",
   "execution_count": 123,
   "metadata": {},
   "outputs": [
    {
     "data": {
      "text/plain": [
       "HourlyAltimeterSetting       11.9%\n",
       "HourlyDewPointTemperature     0.0%\n",
       "HourlyDryBulbTemperature      0.0%\n",
       "HourlyPrecipitation          32.4%\n",
       "HourlyPressureChange         65.1%\n",
       "HourlyRelativeHumidity        0.0%\n",
       "HourlyStationPressure         0.3%\n",
       "HourlyVisibility              0.1%\n",
       "HourlyWetBulbTemperature      0.3%\n",
       "HourlyWindDirection           1.2%\n",
       "HourlyWindGustSpeed          80.1%\n",
       "HourlyWindSpeed               0.0%\n",
       "Sunrise                       0.0%\n",
       "Sunset                        0.0%\n",
       "Name: Percent N/A, dtype: object"
      ]
     },
     "execution_count": 123,
     "metadata": {},
     "output_type": "execute_result"
    }
   ],
   "source": [
    "df_pct_null_data_formatted"
   ]
  },
  {
   "cell_type": "code",
   "execution_count": null,
   "metadata": {},
   "outputs": [],
   "source": [
    "for col_ in df.columns:\n",
    "    print(col_)\n",
    "    df[col_].resample(freqstr)"
   ]
  },
  {
   "cell_type": "code",
   "execution_count": null,
   "metadata": {},
   "outputs": [],
   "source": [
    "df.dtypes"
   ]
  },
  {
   "cell_type": "code",
   "execution_count": null,
   "metadata": {},
   "outputs": [],
   "source": [
    "pd.to_numeric(df['HourlyVisibility'])"
   ]
  },
  {
   "cell_type": "code",
   "execution_count": null,
   "metadata": {},
   "outputs": [],
   "source": [
    "pd.to_datetime(df['Sunrise'])"
   ]
  },
  {
   "cell_type": "code",
   "execution_count": null,
   "metadata": {},
   "outputs": [],
   "source": [
    "df.resample(freqstr).mean()"
   ]
  },
  {
   "cell_type": "code",
   "execution_count": null,
   "metadata": {},
   "outputs": [],
   "source": [
    "#     Resample data to produce evenly spaced interval data\n",
    "# df = df.resample(freqstr).median()\n",
    "df = df.resample(freqstr).mean()"
   ]
  },
  {
   "cell_type": "markdown",
   "metadata": {},
   "source": [
    "### Create Additional Columns"
   ]
  },
  {
   "cell_type": "code",
   "execution_count": null,
   "metadata": {},
   "outputs": [],
   "source": [
    "# #     assign seasons to df in new 'season' column\n",
    "#     df = weather_assign_season(df)\n",
    "# #     assign weekend or weekday tag to each day\n",
    "#     df['weekday'] = 'weekday'\n",
    "#     df.loc[~df.index.weekday.isin(list(range(0,5))),'weekday'] = 'weekend'\n",
    "#     df['weekday'] = df['weekday'].astype('category')   # keep memory size to a minimum\n",
    "# #     Add True/False Peak Coincident column\n",
    "#     df = is_month_and_hour_in_list(df, new_column='Peak Coincident', months=[6,7,8,9],hours=[14,15,16,17])\n",
    "# #     Add holiday True/False:\n",
    "#     years = list(df.index.year.unique())\n",
    "#     try:\n",
    "#         holiday_dates = generate_list_of_holidays(years=years)\n",
    "#         holiday_YMD = []\n",
    "#         for d in holiday_dates:\n",
    "#             holiday_YMD.append(datetime.datetime(d.year, d.month, d.day).date())\n",
    "#         df['holiday'] = [dat in holiday_YMD for dat in df.index.date]\n",
    "# #         alternatively:\n",
    "# # holiday_dates = generate_list_of_holidays(years=df.index.year.unique().to_list())\n",
    "# # df['Date_copy_delete'] = df.index.date.copy()\n",
    "# # df['holiday'] = df.Date_copy_delete.apply(lambda date: date in holiday_dates)\n",
    "# # df.drop(columns=['Date_copy_delete'], inplace=True)\n",
    "#     except:\n",
    "#         print(\"Holidays were not tagged.  Veritfy it 'Holidays' python package is installed\")\n",
    "# #     Add temperature bins\n",
    "#     temp_bins = list(range(-30,110,5))\n",
    "#     df['DryBulbTemperature_bin'] = pd.cut(df['HourlyDryBulbTemperature'],bins=temp_bins)"
   ]
  },
  {
   "cell_type": "markdown",
   "metadata": {},
   "source": [
    "### Export df to Disk"
   ]
  },
  {
   "cell_type": "markdown",
   "metadata": {},
   "source": [
    "#### Rename Columns - remove 'hourly' from names"
   ]
  },
  {
   "cell_type": "code",
   "execution_count": null,
   "metadata": {},
   "outputs": [],
   "source": []
  },
  {
   "cell_type": "markdown",
   "metadata": {},
   "source": [
    "#### Name export file "
   ]
  },
  {
   "cell_type": "code",
   "execution_count": null,
   "metadata": {},
   "outputs": [],
   "source": [
    "# city = input(\"Input city or project name:  \")\n",
    "# export_name = \"{}_\".format(city) + start_str + \"_to_\" + end_str + f\"_{df.index.freqstr}.csv\"\n",
    "# export_name"
   ]
  },
  {
   "cell_type": "code",
   "execution_count": 7,
   "metadata": {},
   "outputs": [
    {
     "ename": "KeyError",
     "evalue": "'from_str'",
     "output_type": "error",
     "traceback": [
      "\u001b[1;31m---------------------------------------------------------------------------\u001b[0m",
      "\u001b[1;31mKeyError\u001b[0m                                  Traceback (most recent call last)",
      "Cell \u001b[1;32mIn[7], line 1\u001b[0m\n\u001b[1;32m----> 1\u001b[0m \u001b[43mfile_output_format\u001b[49m\u001b[38;5;241;43m.\u001b[39;49m\u001b[43mformat\u001b[49m\u001b[43m(\u001b[49m\u001b[43mSTATION_NAME\u001b[49m\u001b[43m \u001b[49m\u001b[38;5;241;43m=\u001b[39;49m\u001b[43m \u001b[49m\u001b[38;5;124;43m'\u001b[39;49m\u001b[38;5;124;43mbilly\u001b[39;49m\u001b[38;5;124;43m'\u001b[39;49m\u001b[43m)\u001b[49m\n",
      "\u001b[1;31mKeyError\u001b[0m: 'from_str'"
     ]
    }
   ],
   "source": [
    "file_output_format.format(STATION_NAME = 'billy',\n",
    "                         )"
   ]
  },
  {
   "cell_type": "code",
   "execution_count": null,
   "metadata": {},
   "outputs": [],
   "source": [
    "file_out_name = f\"{station_details['']city) + start_str + \"_to_\" + end_str + f\"_{df.index.freqstr}.csv\"\n",
    "file_out = dir_cwd / file_out_name\n",
    "file_out_name"
   ]
  },
  {
   "cell_type": "code",
   "execution_count": null,
   "metadata": {},
   "outputs": [],
   "source": [
    "# os.path.join(os.path.dirname(file),export_name)"
   ]
  },
  {
   "cell_type": "code",
   "execution_count": null,
   "metadata": {},
   "outputs": [],
   "source": [
    "[col.replace('Hourly','') for col in df.columns]"
   ]
  },
  {
   "cell_type": "code",
   "execution_count": null,
   "metadata": {},
   "outputs": [],
   "source": [
    "df.columns"
   ]
  },
  {
   "cell_type": "code",
   "execution_count": null,
   "metadata": {},
   "outputs": [],
   "source": [
    "df.to_csv(os.path.join(os.path.dirname(file),export_name))\n",
    "# os.path.join(os.path.dirname(directory),f'All_M_V_data {todays_date}.csv')"
   ]
  },
  {
   "cell_type": "markdown",
   "metadata": {},
   "source": [
    "# END"
   ]
  }
 ],
 "metadata": {
  "anaconda-cloud": {},
  "kernelspec": {
   "display_name": "NOAA_weather",
   "language": "python",
   "name": "noaa_weather"
  },
  "language_info": {
   "codemirror_mode": {
    "name": "ipython",
    "version": 3
   },
   "file_extension": ".py",
   "mimetype": "text/x-python",
   "name": "python",
   "nbconvert_exporter": "python",
   "pygments_lexer": "ipython3",
   "version": "3.8.10"
  }
 },
 "nbformat": 4,
 "nbformat_minor": 1
}
