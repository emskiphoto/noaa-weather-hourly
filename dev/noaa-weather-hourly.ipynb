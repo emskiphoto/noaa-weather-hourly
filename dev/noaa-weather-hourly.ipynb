{
 "cells": [
  {
   "cell_type": "markdown",
   "metadata": {},
   "source": [
    "# noaa-weather-hourly\n",
    "This script cleans and formats a manually downloaded \"National Oceanic and Atmospheric Administration\" (NOAA) \"LCD CSV\" weather file.  This is the development version of the script, not the publishable version.\n",
    "\n",
    " __Originated From:__\n",
    "https://github.com/emskiphoto/Process-historical-NOAA-LCD-weather<BR>\n",
    "    \n",
    "Copyright Matt Chmielewski<BR>\n",
    "https://github.com/emskiphoto/noaa-weather-hourly<BR>\n",
    "January 1, 2025"
   ]
  },
  {
   "cell_type": "markdown",
   "metadata": {},
   "source": [
    "### Load Python packages"
   ]
  },
  {
   "cell_type": "code",
   "execution_count": 1,
   "metadata": {},
   "outputs": [],
   "source": [
    "# direct the jupyter notebook development script to add package path to PYTHONPATH\n",
    "# to allow for loading of source modules.\n",
    "import sys\n",
    "sys.path.append('../noaa-weather-hourly')"
   ]
  },
  {
   "cell_type": "code",
   "execution_count": 2,
   "metadata": {},
   "outputs": [],
   "source": [
    "# import modules specific to this package \n",
    "from config import *\n",
    "from utils import *"
   ]
  },
  {
   "cell_type": "code",
   "execution_count": 3,
   "metadata": {},
   "outputs": [],
   "source": [
    "import pandas as pd\n",
    "import csv\n",
    "import pathlib\n",
    "import re\n",
    "# turn off Jedi autocomplete (that was causing more problems than benefits post Win10 update 3-13-2020)\n",
    "%config Completer.use_jedi = False "
   ]
  },
  {
   "cell_type": "markdown",
   "metadata": {},
   "source": [
    "### Parameters - Store in config.py"
   ]
  },
  {
   "cell_type": "code",
   "execution_count": 4,
   "metadata": {},
   "outputs": [],
   "source": [
    "is_development = True"
   ]
  },
  {
   "cell_type": "markdown",
   "metadata": {},
   "source": [
    "### Command Line Arguments\n",
    "Which arguments can be provided in the command line?"
   ]
  },
  {
   "cell_type": "code",
   "execution_count": 5,
   "metadata": {},
   "outputs": [
    {
     "data": {
      "text/plain": [
       "('', 'H')"
      ]
     },
     "execution_count": 5,
     "metadata": {},
     "output_type": "execute_result"
    }
   ],
   "source": [
    "filename, freqstr"
   ]
  },
  {
   "cell_type": "markdown",
   "metadata": {},
   "source": [
    "## Locations"
   ]
  },
  {
   "cell_type": "code",
   "execution_count": 6,
   "metadata": {},
   "outputs": [
    {
     "data": {
      "text/plain": [
       "WindowsPath('C:/Users/user/OneDrive/python_envs/noaa-weather-hourly-cli/dev')"
      ]
     },
     "execution_count": 6,
     "metadata": {},
     "output_type": "execute_result"
    }
   ],
   "source": [
    "dir_cwd = pathlib.Path.cwd()\n",
    "dir_cwd"
   ]
  },
  {
   "cell_type": "code",
   "execution_count": 7,
   "metadata": {},
   "outputs": [],
   "source": [
    "# using 'data' within 'dev' folder - potentially different from 'data' in package folder\n",
    "# dir_data should be dir_cwd in production script\n",
    "if is_development:\n",
    "    dir_data = dir_cwd / 'data'\n",
    "else:\n",
    "    dir_data = dir_cwd\n",
    "assert dir_data.is_dir()"
   ]
  },
  {
   "cell_type": "markdown",
   "metadata": {},
   "source": [
    "#### Are there any .CSV files of any naming format?\n",
    "If not, stop the script, there is nothing to do without the local .csv's."
   ]
  },
  {
   "cell_type": "code",
   "execution_count": 8,
   "metadata": {},
   "outputs": [],
   "source": [
    "# pretty name of directory\n",
    "dir_data_posix = dir_data.as_posix()\n",
    "# list of all .csv files in dir_data\n",
    "dir_data_csv_files = sorted([f_.name for f_ in dir_data.glob('*.csv') if f_.is_file()])"
   ]
  },
  {
   "cell_type": "code",
   "execution_count": 9,
   "metadata": {},
   "outputs": [],
   "source": [
    "# if 'filename' was provided, work with that .csv.\n",
    "# if 'filename' was not provided, review available .csv's.\n",
    "# if some .csv files are present, continue.  \n",
    "# Otherwise halt process and inform user.\n",
    "if filename == '':\n",
    "    try:\n",
    "        assert len(dir_data_csv_files) >= 1\n",
    "    except:\n",
    "        message_ = message_no_csv_files_found.format(\n",
    "            dir_data_posix = dir_data_posix)\n",
    "        print(message_)\n",
    "    #     assert\n",
    "        raise\n",
    "# elif filename != '':\n",
    "    \n",
    "# string version of list of all csv files\n",
    "dir_data_csv_files_str = ', '.join(dir_data_csv_files)"
   ]
  },
  {
   "cell_type": "markdown",
   "metadata": {},
   "source": [
    "### Locate LCD .CSV file(s) 'files_lcd_input'\n",
    "This script is intended to be executed from a terminal command line.  The LCD input file(s) are expected to be saved in the same directory that the command line is executed in.  The file name(s) are expected to match the pattern associated with multiple LCD file versions in 'patterns_lcd_input_files' (two versions currently).  However, if a file(s) with this pattern is not identifed, do NOT attempt to use any non-matching .CSV file in the same directory.  Inform user that no matching file was found and no files will be opened or created.\n",
    "\n",
    "The benefits of this approach are:\n",
    "1. code will not mistakenly use non-LCD files\n",
    "2. User can be sloppy (or organized) with their LCD file storage.  New source files and output files can simply be accumulated in the same folder with no data loss.\n",
    "3. Simple command line requires no mandatory input, only optional frequency and parameter setting inputs."
   ]
  },
  {
   "cell_type": "markdown",
   "metadata": {},
   "source": [
    "### which version of LCD files are avaialble and which are the most recent?\n",
    "1. find all files that match v1 or v2 naming\n",
    "2. find the most recent file\n",
    "3. Determine if most recent file is v1 or v2 format 'lcd_version'\n",
    "4. see if there is more than one file with the same station ID\n",
    "5. create list 'files_lcd' with one or more lcd files of same station id "
   ]
  },
  {
   "cell_type": "code",
   "execution_count": 10,
   "metadata": {},
   "outputs": [
    {
     "data": {
      "text/plain": [
       "{1: [WindowsPath('C:/Users/user/OneDrive/python_envs/noaa-weather-hourly-cli/dev/data/3876540.csv'),\n",
       "  WindowsPath('C:/Users/user/OneDrive/python_envs/noaa-weather-hourly-cli/dev/data/3875753.csv')],\n",
       " 2: [WindowsPath('C:/Users/user/OneDrive/python_envs/noaa-weather-hourly-cli/dev/data/LCD_USW00014939_2023.csv'),\n",
       "  WindowsPath('C:/Users/user/OneDrive/python_envs/noaa-weather-hourly-cli/dev/data/LCD_USW00014939_2022.csv'),\n",
       "  WindowsPath('C:/Users/user/OneDrive/python_envs/noaa-weather-hourly-cli/dev/data/LCD_USW00014939_2021.csv'),\n",
       "  WindowsPath('C:/Users/user/OneDrive/python_envs/noaa-weather-hourly-cli/dev/data/LCD_USW00014939_2020.csv'),\n",
       "  WindowsPath('C:/Users/user/OneDrive/python_envs/noaa-weather-hourly-cli/dev/data/LCD_USW00094846_2023.csv'),\n",
       "  WindowsPath('C:/Users/user/OneDrive/python_envs/noaa-weather-hourly-cli/dev/data/LCD_USW00094846_2022.csv'),\n",
       "  WindowsPath('C:/Users/user/OneDrive/python_envs/noaa-weather-hourly-cli/dev/data/LCD_USW00094846_2021.csv'),\n",
       "  WindowsPath('C:/Users/user/OneDrive/python_envs/noaa-weather-hourly-cli/dev/data/LCD_USW00094846_2020.csv')]}"
      ]
     },
     "execution_count": 10,
     "metadata": {},
     "output_type": "execute_result"
    }
   ],
   "source": [
    "# 1. find all files that match v1 or v2 naming and sort by last modified date descending\n",
    "# create 'version_files' dictionary with LCD version number as key and list of matching \n",
    "# files as values\n",
    "version_files = {v_ : find_files_re_pattern_sorted_last_modified(dir_data, pattern_) for\n",
    "                 v_, pattern_ in version_pattern_lcd_input.items()}\n",
    "version_files"
   ]
  },
  {
   "cell_type": "code",
   "execution_count": 11,
   "metadata": {},
   "outputs": [],
   "source": [
    "files_pattern_match = [x for xs in version_files.values() for x in xs]"
   ]
  },
  {
   "cell_type": "code",
   "execution_count": 12,
   "metadata": {},
   "outputs": [],
   "source": [
    "# what if no files were found?  \n",
    "# return message and halt process\n",
    "# which files matched lcd patterns, regardless of version or date?\n",
    "# files_pattern_match = [x for xs in version_files.values() for x in xs]\n",
    "try:\n",
    "    assert len(files_pattern_match) >= 1\n",
    "except:\n",
    "    message_ = message_no_lcd_files_found.format(dir_data_posix = dir_data_posix,\n",
    "                                 patterns_lcd_examples_str = patterns_lcd_examples_str,\n",
    "                                dir_data_csv_files_str = dir_data_csv_files_str)\n",
    "    print(message_)\n",
    "#     assert\n",
    "    raise"
   ]
  },
  {
   "cell_type": "code",
   "execution_count": 13,
   "metadata": {},
   "outputs": [
    {
     "data": {
      "text/plain": [
       "{1: WindowsPath('C:/Users/user/OneDrive/python_envs/noaa-weather-hourly-cli/dev/data/3876540.csv'),\n",
       " 2: WindowsPath('C:/Users/user/OneDrive/python_envs/noaa-weather-hourly-cli/dev/data/LCD_USW00014939_2023.csv')}"
      ]
     },
     "execution_count": 13,
     "metadata": {},
     "output_type": "execute_result"
    }
   ],
   "source": [
    "# find most recently modified file by lcd version\n",
    "version_file_last_modified = {version_ : files_[0] for version_, files_ in version_files.items()}\n",
    "version_file_last_modified"
   ]
  },
  {
   "cell_type": "code",
   "execution_count": 14,
   "metadata": {},
   "outputs": [],
   "source": [
    "# 2. find the most recent file\n",
    "file_last_modified = sorted([(f, f.stat().st_mtime) for\n",
    "                  f in version_file_last_modified.values()],\n",
    "           key=lambda x: x[1], reverse=True)[0][0]\n",
    "# 3. Determine if most recent file is v1 or v2 format 'lcd_version'\n",
    "# versions start with '1' so need to add 1 to zero-indexed list\n",
    "lcd_version = list(version_file_last_modified.values())\\\n",
    "                            .index(file_last_modified) + 1\n",
    "# file_last_modified, lcd_version"
   ]
  },
  {
   "cell_type": "code",
   "execution_count": 15,
   "metadata": {},
   "outputs": [],
   "source": [
    "# make sure we have the right version\n",
    "assert file_last_modified in version_files[lcd_version]"
   ]
  },
  {
   "cell_type": "markdown",
   "metadata": {},
   "source": [
    "### Group LCD .CSV input file(s) as 'files_lcd_input'"
   ]
  },
  {
   "cell_type": "code",
   "execution_count": 16,
   "metadata": {},
   "outputs": [],
   "source": [
    "# 4. see if there is more than one file that has the same station ID\n",
    "# as found in 'file_last_modified'\n",
    "# This requires extraction of a unique identifier in LCD file name that is common to\n",
    "# other LCD files for same location (but probably different dates).  \n",
    "\n",
    "# Note that only the LCD v2 files need to be grouped.  LCD v1 files are \n",
    "# delivered with multi-year date ranges (if requested) while LCD v2\n",
    "# files are for discrete calendar years (or less), for example 'LCD_USW00014939_2020.csv'.  \n",
    "\n",
    "# Grouping LCD v1 files could be implemented, but this would require cooperation\n",
    "# from the user in terms of renaming the LCD v1 files in a specific format.\n",
    "# LCD v1 files are delivered with the same name ('3876540.csv') regardless\n",
    "# of date range of data in file.    "
   ]
  },
  {
   "cell_type": "code",
   "execution_count": 17,
   "metadata": {},
   "outputs": [],
   "source": [
    "# files_lcd_input - empty list to hold final, qualified selection of LCD input files\n",
    "files_lcd_input = []\n",
    "# different treatment for v2 LCD files\n",
    "if lcd_version == 2:\n",
    "# extract id_file_lcd2 as the blob of characters between first and second '_'\n",
    "# reference 'LCD_USW00014939_2023.csv'\n",
    "    id_file_lcd2 = file_last_modified.name.split('_')[1]\n",
    "#     which files contain id for the current lcd_version?\n",
    "    files_ = [file_ for file_ in version_files[lcd_version] if id_file_lcd2 in file_.name]\n",
    "    files_lcd_input.extend(files_)\n",
    "#     print('v2')\n",
    "else:\n",
    "    files_lcd_input.extend(file_last_modified)"
   ]
  },
  {
   "cell_type": "code",
   "execution_count": 18,
   "metadata": {},
   "outputs": [],
   "source": [
    "# string version of filenames from files_lcd_input as vertical list\n",
    "files_lcd_input_names_str = \"\\n\".join([f_.name for f_ in files_lcd_input])\n",
    "# files_lcd_input_names_str"
   ]
  },
  {
   "cell_type": "markdown",
   "metadata": {},
   "source": [
    "### Keep only files that have one or more columns from cols_noaa_processed"
   ]
  },
  {
   "cell_type": "markdown",
   "metadata": {},
   "source": [
    "#### Which columns are present by file in files_lcd_input?"
   ]
  },
  {
   "cell_type": "code",
   "execution_count": 19,
   "metadata": {},
   "outputs": [],
   "source": [
    "# read only headers of each file in files_lcd_input\n",
    "files_columns = {}\n",
    "for file_ in files_lcd_input:\n",
    "    try:\n",
    "#         this is 30x faster than pd.read_csv(file_, index_col=0, nrows=0).columns.tolist()\n",
    "        with open(file_, 'r') as infile:\n",
    "            reader = csv.DictReader(infile)\n",
    "            fieldnames = reader.fieldnames\n",
    "        files_columns[file_] = sorted(fieldnames)\n",
    "    except:\n",
    "        continue"
   ]
  },
  {
   "cell_type": "markdown",
   "metadata": {},
   "source": [
    "### Create files_usecols containing valid files and columns to be used"
   ]
  },
  {
   "cell_type": "markdown",
   "metadata": {},
   "source": [
    "#### Is 'DATE' available for every file in files_lcd_input?"
   ]
  },
  {
   "cell_type": "code",
   "execution_count": 22,
   "metadata": {},
   "outputs": [],
   "source": [
    "# keep only files that have a 'DATE' column - otherwise where is this data supposed to go?\n",
    "files_usecols = {file_ : cols_ for file_, cols_ in files_columns.items() if 'DATE' in cols_}\n",
    "# files_usecols"
   ]
  },
  {
   "cell_type": "markdown",
   "metadata": {},
   "source": [
    "#### Keep only files that have at least one cols_data column"
   ]
  },
  {
   "cell_type": "code",
   "execution_count": 23,
   "metadata": {},
   "outputs": [],
   "source": [
    "files_usecols = {file_ : cols_ for file_, cols_ in files_usecols.items()\n",
    "                 if len(set(cols_).intersection(set(cols_data))) >=1}\n",
    "# files_usecols"
   ]
  },
  {
   "cell_type": "code",
   "execution_count": 24,
   "metadata": {},
   "outputs": [],
   "source": [
    "# reduce files_usecols to only columns used in this process\n",
    "files_usecols = {file_ : sorted(set(cols_noaa_processed).intersection(set(cols_))) for\n",
    "                 file_, cols_ in files_usecols.items()}\n",
    "# files_usecols"
   ]
  },
  {
   "cell_type": "markdown",
   "metadata": {},
   "source": [
    "### Open and Concatenate all files in files_usecols"
   ]
  },
  {
   "cell_type": "code",
   "execution_count": 25,
   "metadata": {},
   "outputs": [
    {
     "data": {
      "text/html": [
       "<div>\n",
       "<style scoped>\n",
       "    .dataframe tbody tr th:only-of-type {\n",
       "        vertical-align: middle;\n",
       "    }\n",
       "\n",
       "    .dataframe tbody tr th {\n",
       "        vertical-align: top;\n",
       "    }\n",
       "\n",
       "    .dataframe thead th {\n",
       "        text-align: right;\n",
       "    }\n",
       "</style>\n",
       "<table border=\"1\" class=\"dataframe\">\n",
       "  <thead>\n",
       "    <tr style=\"text-align: right;\">\n",
       "      <th></th>\n",
       "      <th>STATION</th>\n",
       "      <th>HourlyAltimeterSetting</th>\n",
       "      <th>HourlyDewPointTemperature</th>\n",
       "      <th>HourlyDryBulbTemperature</th>\n",
       "      <th>HourlyPrecipitation</th>\n",
       "      <th>HourlyPressureChange</th>\n",
       "      <th>HourlyRelativeHumidity</th>\n",
       "      <th>HourlyStationPressure</th>\n",
       "      <th>HourlyVisibility</th>\n",
       "      <th>HourlyWetBulbTemperature</th>\n",
       "      <th>HourlyWindDirection</th>\n",
       "      <th>HourlyWindGustSpeed</th>\n",
       "      <th>HourlyWindSpeed</th>\n",
       "      <th>Sunrise</th>\n",
       "      <th>Sunset</th>\n",
       "    </tr>\n",
       "    <tr>\n",
       "      <th>DATE</th>\n",
       "      <th></th>\n",
       "      <th></th>\n",
       "      <th></th>\n",
       "      <th></th>\n",
       "      <th></th>\n",
       "      <th></th>\n",
       "      <th></th>\n",
       "      <th></th>\n",
       "      <th></th>\n",
       "      <th></th>\n",
       "      <th></th>\n",
       "      <th></th>\n",
       "      <th></th>\n",
       "      <th></th>\n",
       "      <th></th>\n",
       "    </tr>\n",
       "  </thead>\n",
       "  <tbody>\n",
       "    <tr>\n",
       "      <th>2020-01-01 00:00:00</th>\n",
       "      <td>USW00014939</td>\n",
       "      <td>NaN</td>\n",
       "      <td>-6.1</td>\n",
       "      <td>-2.8</td>\n",
       "      <td>NaN</td>\n",
       "      <td>-1.9</td>\n",
       "      <td>78.0</td>\n",
       "      <td>967.9</td>\n",
       "      <td>NaN</td>\n",
       "      <td>-3.9</td>\n",
       "      <td>220.0</td>\n",
       "      <td>NaN</td>\n",
       "      <td>2.6</td>\n",
       "      <td>NaN</td>\n",
       "      <td>NaN</td>\n",
       "    </tr>\n",
       "    <tr>\n",
       "      <th>2020-01-01 00:00:00</th>\n",
       "      <td>USW00014939</td>\n",
       "      <td>NaN</td>\n",
       "      <td>NaN</td>\n",
       "      <td>NaN</td>\n",
       "      <td>NaN</td>\n",
       "      <td>NaN</td>\n",
       "      <td>NaN</td>\n",
       "      <td>NaN</td>\n",
       "      <td>NaN</td>\n",
       "      <td>NaN</td>\n",
       "      <td>NaN</td>\n",
       "      <td>NaN</td>\n",
       "      <td>NaN</td>\n",
       "      <td>751.0</td>\n",
       "      <td>1709.0</td>\n",
       "    </tr>\n",
       "    <tr>\n",
       "      <th>2020-01-01 00:00:00</th>\n",
       "      <td>USW00014939</td>\n",
       "      <td>NaN</td>\n",
       "      <td>NaN</td>\n",
       "      <td>NaN</td>\n",
       "      <td>NaN</td>\n",
       "      <td>NaN</td>\n",
       "      <td>NaN</td>\n",
       "      <td>NaN</td>\n",
       "      <td>NaN</td>\n",
       "      <td>NaN</td>\n",
       "      <td>NaN</td>\n",
       "      <td>NaN</td>\n",
       "      <td>NaN</td>\n",
       "      <td>NaN</td>\n",
       "      <td>NaN</td>\n",
       "    </tr>\n",
       "    <tr>\n",
       "      <th>2020-01-01 00:54:00</th>\n",
       "      <td>USW00014939</td>\n",
       "      <td>1009.8</td>\n",
       "      <td>-7.8</td>\n",
       "      <td>-5.0</td>\n",
       "      <td>0.0</td>\n",
       "      <td>NaN</td>\n",
       "      <td>81.0</td>\n",
       "      <td>967.2</td>\n",
       "      <td>16.093</td>\n",
       "      <td>-5.9</td>\n",
       "      <td>170.0</td>\n",
       "      <td>NaN</td>\n",
       "      <td>2.6</td>\n",
       "      <td>NaN</td>\n",
       "      <td>NaN</td>\n",
       "    </tr>\n",
       "    <tr>\n",
       "      <th>2020-01-01 01:54:00</th>\n",
       "      <td>USW00014939</td>\n",
       "      <td>1008.1</td>\n",
       "      <td>-7.8</td>\n",
       "      <td>-4.4</td>\n",
       "      <td>0.0</td>\n",
       "      <td>NaN</td>\n",
       "      <td>77.0</td>\n",
       "      <td>965.5</td>\n",
       "      <td>16.093</td>\n",
       "      <td>-5.5</td>\n",
       "      <td>170.0</td>\n",
       "      <td>NaN</td>\n",
       "      <td>2.6</td>\n",
       "      <td>NaN</td>\n",
       "      <td>NaN</td>\n",
       "    </tr>\n",
       "    <tr>\n",
       "      <th>...</th>\n",
       "      <td>...</td>\n",
       "      <td>...</td>\n",
       "      <td>...</td>\n",
       "      <td>...</td>\n",
       "      <td>...</td>\n",
       "      <td>...</td>\n",
       "      <td>...</td>\n",
       "      <td>...</td>\n",
       "      <td>...</td>\n",
       "      <td>...</td>\n",
       "      <td>...</td>\n",
       "      <td>...</td>\n",
       "      <td>...</td>\n",
       "      <td>...</td>\n",
       "      <td>...</td>\n",
       "    </tr>\n",
       "    <tr>\n",
       "      <th>2023-12-31 20:54:00</th>\n",
       "      <td>USW00014939</td>\n",
       "      <td>1027.8</td>\n",
       "      <td>-6.1</td>\n",
       "      <td>-3.3</td>\n",
       "      <td>NaN</td>\n",
       "      <td>1.2</td>\n",
       "      <td>81.0</td>\n",
       "      <td>NaN</td>\n",
       "      <td>16.093</td>\n",
       "      <td>NaN</td>\n",
       "      <td>300</td>\n",
       "      <td>NaN</td>\n",
       "      <td>1.5</td>\n",
       "      <td>NaN</td>\n",
       "      <td>NaN</td>\n",
       "    </tr>\n",
       "    <tr>\n",
       "      <th>2023-12-31 21:00:00</th>\n",
       "      <td>USW00014939</td>\n",
       "      <td>NaN</td>\n",
       "      <td>-6.1</td>\n",
       "      <td>-3.3</td>\n",
       "      <td>NaN</td>\n",
       "      <td>1.2</td>\n",
       "      <td>81.0</td>\n",
       "      <td>984.3</td>\n",
       "      <td>16.0</td>\n",
       "      <td>-4.3</td>\n",
       "      <td>300</td>\n",
       "      <td>NaN</td>\n",
       "      <td>1.5</td>\n",
       "      <td>NaN</td>\n",
       "      <td>NaN</td>\n",
       "    </tr>\n",
       "    <tr>\n",
       "      <th>2023-12-31 21:54:00</th>\n",
       "      <td>USW00014939</td>\n",
       "      <td>1027.8</td>\n",
       "      <td>-7.8</td>\n",
       "      <td>-5.6</td>\n",
       "      <td>NaN</td>\n",
       "      <td>NaN</td>\n",
       "      <td>85.0</td>\n",
       "      <td>NaN</td>\n",
       "      <td>16.093</td>\n",
       "      <td>NaN</td>\n",
       "      <td>000</td>\n",
       "      <td>NaN</td>\n",
       "      <td>0.0</td>\n",
       "      <td>NaN</td>\n",
       "      <td>NaN</td>\n",
       "    </tr>\n",
       "    <tr>\n",
       "      <th>2023-12-31 22:54:00</th>\n",
       "      <td>USW00014939</td>\n",
       "      <td>1028.1</td>\n",
       "      <td>-7.8</td>\n",
       "      <td>-6.1</td>\n",
       "      <td>NaN</td>\n",
       "      <td>NaN</td>\n",
       "      <td>88.0</td>\n",
       "      <td>NaN</td>\n",
       "      <td>16.093</td>\n",
       "      <td>NaN</td>\n",
       "      <td>330</td>\n",
       "      <td>NaN</td>\n",
       "      <td>1.5</td>\n",
       "      <td>NaN</td>\n",
       "      <td>NaN</td>\n",
       "    </tr>\n",
       "    <tr>\n",
       "      <th>2023-12-31 23:54:00</th>\n",
       "      <td>USW00014939</td>\n",
       "      <td>1028.1</td>\n",
       "      <td>-8.9</td>\n",
       "      <td>-7.8</td>\n",
       "      <td>NaN</td>\n",
       "      <td>0.5</td>\n",
       "      <td>92.0</td>\n",
       "      <td>NaN</td>\n",
       "      <td>16.093</td>\n",
       "      <td>NaN</td>\n",
       "      <td>330</td>\n",
       "      <td>NaN</td>\n",
       "      <td>2.1</td>\n",
       "      <td>NaN</td>\n",
       "      <td>NaN</td>\n",
       "    </tr>\n",
       "  </tbody>\n",
       "</table>\n",
       "<p>50283 rows × 15 columns</p>\n",
       "</div>"
      ],
      "text/plain": [
       "                         STATION  HourlyAltimeterSetting  \\\n",
       "DATE                                                       \n",
       "2020-01-01 00:00:00  USW00014939                     NaN   \n",
       "2020-01-01 00:00:00  USW00014939                     NaN   \n",
       "2020-01-01 00:00:00  USW00014939                     NaN   \n",
       "2020-01-01 00:54:00  USW00014939                  1009.8   \n",
       "2020-01-01 01:54:00  USW00014939                  1008.1   \n",
       "...                          ...                     ...   \n",
       "2023-12-31 20:54:00  USW00014939                  1027.8   \n",
       "2023-12-31 21:00:00  USW00014939                     NaN   \n",
       "2023-12-31 21:54:00  USW00014939                  1027.8   \n",
       "2023-12-31 22:54:00  USW00014939                  1028.1   \n",
       "2023-12-31 23:54:00  USW00014939                  1028.1   \n",
       "\n",
       "                     HourlyDewPointTemperature  HourlyDryBulbTemperature  \\\n",
       "DATE                                                                       \n",
       "2020-01-01 00:00:00                       -6.1                      -2.8   \n",
       "2020-01-01 00:00:00                        NaN                       NaN   \n",
       "2020-01-01 00:00:00                        NaN                       NaN   \n",
       "2020-01-01 00:54:00                       -7.8                      -5.0   \n",
       "2020-01-01 01:54:00                       -7.8                      -4.4   \n",
       "...                                        ...                       ...   \n",
       "2023-12-31 20:54:00                       -6.1                      -3.3   \n",
       "2023-12-31 21:00:00                       -6.1                      -3.3   \n",
       "2023-12-31 21:54:00                       -7.8                      -5.6   \n",
       "2023-12-31 22:54:00                       -7.8                      -6.1   \n",
       "2023-12-31 23:54:00                       -8.9                      -7.8   \n",
       "\n",
       "                    HourlyPrecipitation  HourlyPressureChange  \\\n",
       "DATE                                                            \n",
       "2020-01-01 00:00:00                 NaN                  -1.9   \n",
       "2020-01-01 00:00:00                 NaN                   NaN   \n",
       "2020-01-01 00:00:00                 NaN                   NaN   \n",
       "2020-01-01 00:54:00                 0.0                   NaN   \n",
       "2020-01-01 01:54:00                 0.0                   NaN   \n",
       "...                                 ...                   ...   \n",
       "2023-12-31 20:54:00                 NaN                   1.2   \n",
       "2023-12-31 21:00:00                 NaN                   1.2   \n",
       "2023-12-31 21:54:00                 NaN                   NaN   \n",
       "2023-12-31 22:54:00                 NaN                   NaN   \n",
       "2023-12-31 23:54:00                 NaN                   0.5   \n",
       "\n",
       "                     HourlyRelativeHumidity  HourlyStationPressure  \\\n",
       "DATE                                                                 \n",
       "2020-01-01 00:00:00                    78.0                  967.9   \n",
       "2020-01-01 00:00:00                     NaN                    NaN   \n",
       "2020-01-01 00:00:00                     NaN                    NaN   \n",
       "2020-01-01 00:54:00                    81.0                  967.2   \n",
       "2020-01-01 01:54:00                    77.0                  965.5   \n",
       "...                                     ...                    ...   \n",
       "2023-12-31 20:54:00                    81.0                    NaN   \n",
       "2023-12-31 21:00:00                    81.0                  984.3   \n",
       "2023-12-31 21:54:00                    85.0                    NaN   \n",
       "2023-12-31 22:54:00                    88.0                    NaN   \n",
       "2023-12-31 23:54:00                    92.0                    NaN   \n",
       "\n",
       "                    HourlyVisibility  HourlyWetBulbTemperature  \\\n",
       "DATE                                                             \n",
       "2020-01-01 00:00:00              NaN                      -3.9   \n",
       "2020-01-01 00:00:00              NaN                       NaN   \n",
       "2020-01-01 00:00:00              NaN                       NaN   \n",
       "2020-01-01 00:54:00           16.093                      -5.9   \n",
       "2020-01-01 01:54:00           16.093                      -5.5   \n",
       "...                              ...                       ...   \n",
       "2023-12-31 20:54:00           16.093                       NaN   \n",
       "2023-12-31 21:00:00             16.0                      -4.3   \n",
       "2023-12-31 21:54:00           16.093                       NaN   \n",
       "2023-12-31 22:54:00           16.093                       NaN   \n",
       "2023-12-31 23:54:00           16.093                       NaN   \n",
       "\n",
       "                    HourlyWindDirection  HourlyWindGustSpeed  HourlyWindSpeed  \\\n",
       "DATE                                                                            \n",
       "2020-01-01 00:00:00               220.0                  NaN              2.6   \n",
       "2020-01-01 00:00:00                 NaN                  NaN              NaN   \n",
       "2020-01-01 00:00:00                 NaN                  NaN              NaN   \n",
       "2020-01-01 00:54:00               170.0                  NaN              2.6   \n",
       "2020-01-01 01:54:00               170.0                  NaN              2.6   \n",
       "...                                 ...                  ...              ...   \n",
       "2023-12-31 20:54:00                 300                  NaN              1.5   \n",
       "2023-12-31 21:00:00                 300                  NaN              1.5   \n",
       "2023-12-31 21:54:00                 000                  NaN              0.0   \n",
       "2023-12-31 22:54:00                 330                  NaN              1.5   \n",
       "2023-12-31 23:54:00                 330                  NaN              2.1   \n",
       "\n",
       "                     Sunrise  Sunset  \n",
       "DATE                                  \n",
       "2020-01-01 00:00:00      NaN     NaN  \n",
       "2020-01-01 00:00:00    751.0  1709.0  \n",
       "2020-01-01 00:00:00      NaN     NaN  \n",
       "2020-01-01 00:54:00      NaN     NaN  \n",
       "2020-01-01 01:54:00      NaN     NaN  \n",
       "...                      ...     ...  \n",
       "2023-12-31 20:54:00      NaN     NaN  \n",
       "2023-12-31 21:00:00      NaN     NaN  \n",
       "2023-12-31 21:54:00      NaN     NaN  \n",
       "2023-12-31 22:54:00      NaN     NaN  \n",
       "2023-12-31 23:54:00      NaN     NaN  \n",
       "\n",
       "[50283 rows x 15 columns]"
      ]
     },
     "execution_count": 25,
     "metadata": {},
     "output_type": "execute_result"
    }
   ],
   "source": [
    "df = pd.concat((pd.read_csv(f_, usecols=cols_, parse_dates=['DATE'],\n",
    "                            index_col='DATE', low_memory=False) for\n",
    "                f_, cols_ in files_usecols.items()), axis=0)\\\n",
    "                .reset_index().drop_duplicates()\n",
    "df = df.set_index('DATE', drop=True).sort_index()\n",
    "df"
   ]
  },
  {
   "cell_type": "code",
   "execution_count": 26,
   "metadata": {},
   "outputs": [],
   "source": [
    "# keep track of the count of raw timestamps prior to processing\n",
    "n_records_raw = df.shape[0]\n",
    "# track statistics by column prior to processing, omit 'Sunrise' & 'Sunset' from stats\n",
    "cols_sunrise_sunset = df.columns.intersection(['Sunrise', 'Sunset']).tolist()\n",
    "df_stats_pre = df.loc[:, df.columns.difference(cols_sunrise_sunset)].describe()"
   ]
  },
  {
   "cell_type": "code",
   "execution_count": 27,
   "metadata": {},
   "outputs": [
    {
     "data": {
      "text/plain": [
       "(50283, 15)"
      ]
     },
     "execution_count": 27,
     "metadata": {},
     "output_type": "execute_result"
    }
   ],
   "source": [
    "# df = df[cols_use].copy()\n",
    "df.shape"
   ]
  },
  {
   "cell_type": "code",
   "execution_count": 28,
   "metadata": {},
   "outputs": [
    {
     "data": {
      "text/html": [
       "<div>\n",
       "<style scoped>\n",
       "    .dataframe tbody tr th:only-of-type {\n",
       "        vertical-align: middle;\n",
       "    }\n",
       "\n",
       "    .dataframe tbody tr th {\n",
       "        vertical-align: top;\n",
       "    }\n",
       "\n",
       "    .dataframe thead th {\n",
       "        text-align: right;\n",
       "    }\n",
       "</style>\n",
       "<table border=\"1\" class=\"dataframe\">\n",
       "  <thead>\n",
       "    <tr style=\"text-align: right;\">\n",
       "      <th></th>\n",
       "      <th>STATION</th>\n",
       "      <th>HourlyAltimeterSetting</th>\n",
       "      <th>HourlyDewPointTemperature</th>\n",
       "      <th>HourlyDryBulbTemperature</th>\n",
       "      <th>HourlyPrecipitation</th>\n",
       "      <th>HourlyPressureChange</th>\n",
       "      <th>HourlyRelativeHumidity</th>\n",
       "      <th>HourlyStationPressure</th>\n",
       "      <th>HourlyVisibility</th>\n",
       "      <th>HourlyWetBulbTemperature</th>\n",
       "      <th>HourlyWindDirection</th>\n",
       "      <th>HourlyWindGustSpeed</th>\n",
       "      <th>HourlyWindSpeed</th>\n",
       "      <th>Sunrise</th>\n",
       "      <th>Sunset</th>\n",
       "    </tr>\n",
       "    <tr>\n",
       "      <th>DATE</th>\n",
       "      <th></th>\n",
       "      <th></th>\n",
       "      <th></th>\n",
       "      <th></th>\n",
       "      <th></th>\n",
       "      <th></th>\n",
       "      <th></th>\n",
       "      <th></th>\n",
       "      <th></th>\n",
       "      <th></th>\n",
       "      <th></th>\n",
       "      <th></th>\n",
       "      <th></th>\n",
       "      <th></th>\n",
       "      <th></th>\n",
       "    </tr>\n",
       "  </thead>\n",
       "  <tbody>\n",
       "    <tr>\n",
       "      <th>2020-01-01 00:00:00</th>\n",
       "      <td>USW00014939</td>\n",
       "      <td>NaN</td>\n",
       "      <td>-6.1</td>\n",
       "      <td>-2.8</td>\n",
       "      <td>NaN</td>\n",
       "      <td>-1.9</td>\n",
       "      <td>78.0</td>\n",
       "      <td>967.9</td>\n",
       "      <td>NaN</td>\n",
       "      <td>-3.9</td>\n",
       "      <td>220.0</td>\n",
       "      <td>NaN</td>\n",
       "      <td>2.6</td>\n",
       "      <td>NaN</td>\n",
       "      <td>NaN</td>\n",
       "    </tr>\n",
       "    <tr>\n",
       "      <th>2020-01-01 00:00:00</th>\n",
       "      <td>USW00014939</td>\n",
       "      <td>NaN</td>\n",
       "      <td>NaN</td>\n",
       "      <td>NaN</td>\n",
       "      <td>NaN</td>\n",
       "      <td>NaN</td>\n",
       "      <td>NaN</td>\n",
       "      <td>NaN</td>\n",
       "      <td>NaN</td>\n",
       "      <td>NaN</td>\n",
       "      <td>NaN</td>\n",
       "      <td>NaN</td>\n",
       "      <td>NaN</td>\n",
       "      <td>751.0</td>\n",
       "      <td>1709.0</td>\n",
       "    </tr>\n",
       "    <tr>\n",
       "      <th>2020-01-01 00:00:00</th>\n",
       "      <td>USW00014939</td>\n",
       "      <td>NaN</td>\n",
       "      <td>NaN</td>\n",
       "      <td>NaN</td>\n",
       "      <td>NaN</td>\n",
       "      <td>NaN</td>\n",
       "      <td>NaN</td>\n",
       "      <td>NaN</td>\n",
       "      <td>NaN</td>\n",
       "      <td>NaN</td>\n",
       "      <td>NaN</td>\n",
       "      <td>NaN</td>\n",
       "      <td>NaN</td>\n",
       "      <td>NaN</td>\n",
       "      <td>NaN</td>\n",
       "    </tr>\n",
       "    <tr>\n",
       "      <th>2020-01-01 00:54:00</th>\n",
       "      <td>USW00014939</td>\n",
       "      <td>1009.8</td>\n",
       "      <td>-7.8</td>\n",
       "      <td>-5.0</td>\n",
       "      <td>0.0</td>\n",
       "      <td>NaN</td>\n",
       "      <td>81.0</td>\n",
       "      <td>967.2</td>\n",
       "      <td>16.093</td>\n",
       "      <td>-5.9</td>\n",
       "      <td>170.0</td>\n",
       "      <td>NaN</td>\n",
       "      <td>2.6</td>\n",
       "      <td>NaN</td>\n",
       "      <td>NaN</td>\n",
       "    </tr>\n",
       "    <tr>\n",
       "      <th>2020-01-01 01:54:00</th>\n",
       "      <td>USW00014939</td>\n",
       "      <td>1008.1</td>\n",
       "      <td>-7.8</td>\n",
       "      <td>-4.4</td>\n",
       "      <td>0.0</td>\n",
       "      <td>NaN</td>\n",
       "      <td>77.0</td>\n",
       "      <td>965.5</td>\n",
       "      <td>16.093</td>\n",
       "      <td>-5.5</td>\n",
       "      <td>170.0</td>\n",
       "      <td>NaN</td>\n",
       "      <td>2.6</td>\n",
       "      <td>NaN</td>\n",
       "      <td>NaN</td>\n",
       "    </tr>\n",
       "  </tbody>\n",
       "</table>\n",
       "</div>"
      ],
      "text/plain": [
       "                         STATION  HourlyAltimeterSetting  \\\n",
       "DATE                                                       \n",
       "2020-01-01 00:00:00  USW00014939                     NaN   \n",
       "2020-01-01 00:00:00  USW00014939                     NaN   \n",
       "2020-01-01 00:00:00  USW00014939                     NaN   \n",
       "2020-01-01 00:54:00  USW00014939                  1009.8   \n",
       "2020-01-01 01:54:00  USW00014939                  1008.1   \n",
       "\n",
       "                     HourlyDewPointTemperature  HourlyDryBulbTemperature  \\\n",
       "DATE                                                                       \n",
       "2020-01-01 00:00:00                       -6.1                      -2.8   \n",
       "2020-01-01 00:00:00                        NaN                       NaN   \n",
       "2020-01-01 00:00:00                        NaN                       NaN   \n",
       "2020-01-01 00:54:00                       -7.8                      -5.0   \n",
       "2020-01-01 01:54:00                       -7.8                      -4.4   \n",
       "\n",
       "                    HourlyPrecipitation  HourlyPressureChange  \\\n",
       "DATE                                                            \n",
       "2020-01-01 00:00:00                 NaN                  -1.9   \n",
       "2020-01-01 00:00:00                 NaN                   NaN   \n",
       "2020-01-01 00:00:00                 NaN                   NaN   \n",
       "2020-01-01 00:54:00                 0.0                   NaN   \n",
       "2020-01-01 01:54:00                 0.0                   NaN   \n",
       "\n",
       "                     HourlyRelativeHumidity  HourlyStationPressure  \\\n",
       "DATE                                                                 \n",
       "2020-01-01 00:00:00                    78.0                  967.9   \n",
       "2020-01-01 00:00:00                     NaN                    NaN   \n",
       "2020-01-01 00:00:00                     NaN                    NaN   \n",
       "2020-01-01 00:54:00                    81.0                  967.2   \n",
       "2020-01-01 01:54:00                    77.0                  965.5   \n",
       "\n",
       "                    HourlyVisibility  HourlyWetBulbTemperature  \\\n",
       "DATE                                                             \n",
       "2020-01-01 00:00:00              NaN                      -3.9   \n",
       "2020-01-01 00:00:00              NaN                       NaN   \n",
       "2020-01-01 00:00:00              NaN                       NaN   \n",
       "2020-01-01 00:54:00           16.093                      -5.9   \n",
       "2020-01-01 01:54:00           16.093                      -5.5   \n",
       "\n",
       "                    HourlyWindDirection  HourlyWindGustSpeed  HourlyWindSpeed  \\\n",
       "DATE                                                                            \n",
       "2020-01-01 00:00:00               220.0                  NaN              2.6   \n",
       "2020-01-01 00:00:00                 NaN                  NaN              NaN   \n",
       "2020-01-01 00:00:00                 NaN                  NaN              NaN   \n",
       "2020-01-01 00:54:00               170.0                  NaN              2.6   \n",
       "2020-01-01 01:54:00               170.0                  NaN              2.6   \n",
       "\n",
       "                     Sunrise  Sunset  \n",
       "DATE                                  \n",
       "2020-01-01 00:00:00      NaN     NaN  \n",
       "2020-01-01 00:00:00    751.0  1709.0  \n",
       "2020-01-01 00:00:00      NaN     NaN  \n",
       "2020-01-01 00:54:00      NaN     NaN  \n",
       "2020-01-01 01:54:00      NaN     NaN  "
      ]
     },
     "execution_count": 28,
     "metadata": {},
     "output_type": "execute_result"
    }
   ],
   "source": [
    "df.head()"
   ]
  },
  {
   "cell_type": "markdown",
   "metadata": {},
   "source": [
    "### Identify and Display Weather Station Information"
   ]
  },
  {
   "cell_type": "code",
   "execution_count": 29,
   "metadata": {},
   "outputs": [
    {
     "data": {
      "text/plain": [
       "('USW00014939', '14939')"
      ]
     },
     "execution_count": 29,
     "metadata": {},
     "output_type": "execute_result"
    }
   ],
   "source": [
    "# v1 & v2\n",
    "# identify WBAN station\n",
    "station_lcd = str(df['STATION'].value_counts().index[0])\n",
    "station_wban = station_lcd[6:]  #important - this is index for the isd-history table\n",
    "station_lcd, station_wban"
   ]
  },
  {
   "cell_type": "code",
   "execution_count": 30,
   "metadata": {},
   "outputs": [],
   "source": [
    "# remove 'STATION', 'REPORT_TYPE', 'SOURCE' columns - not needed anymore\n",
    "df.drop(columns=['STATION', 'REPORT_TYPE', 'SOURCE'], inplace=True, errors='ignore')"
   ]
  },
  {
   "cell_type": "markdown",
   "metadata": {},
   "source": [
    "#### Open 'isd-history.csv' containing Station details\n",
    "This is supplemental, non-essential information.   It is important that any errors with this step do not negatively impact the core process."
   ]
  },
  {
   "cell_type": "code",
   "execution_count": 31,
   "metadata": {},
   "outputs": [],
   "source": [
    "isd_history_available = False\n",
    "file_isd_history = find_latest_file(dir_data, pattern_isd_history_file)\n",
    "if file_isd_history.is_file():\n",
    "    isd_history_available = True"
   ]
  },
  {
   "cell_type": "code",
   "execution_count": 32,
   "metadata": {},
   "outputs": [
    {
     "data": {
      "text/html": [
       "<div>\n",
       "<style scoped>\n",
       "    .dataframe tbody tr th:only-of-type {\n",
       "        vertical-align: middle;\n",
       "    }\n",
       "\n",
       "    .dataframe tbody tr th {\n",
       "        vertical-align: top;\n",
       "    }\n",
       "\n",
       "    .dataframe thead th {\n",
       "        text-align: right;\n",
       "    }\n",
       "</style>\n",
       "<table border=\"1\" class=\"dataframe\">\n",
       "  <thead>\n",
       "    <tr style=\"text-align: right;\">\n",
       "      <th></th>\n",
       "      <th>USAF</th>\n",
       "      <th>STATION NAME</th>\n",
       "      <th>CTRY</th>\n",
       "      <th>ST</th>\n",
       "      <th>CALL</th>\n",
       "      <th>LAT</th>\n",
       "      <th>LON</th>\n",
       "      <th>ELEV(M)</th>\n",
       "      <th>BEGIN</th>\n",
       "      <th>END</th>\n",
       "    </tr>\n",
       "    <tr>\n",
       "      <th>WBAN</th>\n",
       "      <th></th>\n",
       "      <th></th>\n",
       "      <th></th>\n",
       "      <th></th>\n",
       "      <th></th>\n",
       "      <th></th>\n",
       "      <th></th>\n",
       "      <th></th>\n",
       "      <th></th>\n",
       "      <th></th>\n",
       "    </tr>\n",
       "  </thead>\n",
       "  <tbody>\n",
       "    <tr>\n",
       "      <th>00145</th>\n",
       "      <td>949999</td>\n",
       "      <td>MAREEBAQWRC</td>\n",
       "      <td>AS</td>\n",
       "      <td>NaN</td>\n",
       "      <td>NaN</td>\n",
       "      <td>-17.000</td>\n",
       "      <td>+145.430</td>\n",
       "      <td>+0335.0</td>\n",
       "      <td>1956-12-31</td>\n",
       "      <td>1982-08-30</td>\n",
       "    </tr>\n",
       "    <tr>\n",
       "      <th>00320</th>\n",
       "      <td>A07049</td>\n",
       "      <td>PETALUMA MUNICIPAL AIRPORT</td>\n",
       "      <td>US</td>\n",
       "      <td>CA</td>\n",
       "      <td>KO69</td>\n",
       "      <td>+38.250</td>\n",
       "      <td>-122.600</td>\n",
       "      <td>+0027.1</td>\n",
       "      <td>2014-07-31</td>\n",
       "      <td>2024-12-15</td>\n",
       "    </tr>\n",
       "    <tr>\n",
       "      <th>04128</th>\n",
       "      <td>999999</td>\n",
       "      <td>RILEY 10 WSW</td>\n",
       "      <td>US</td>\n",
       "      <td>OR</td>\n",
       "      <td>NaN</td>\n",
       "      <td>+43.471</td>\n",
       "      <td>-119.692</td>\n",
       "      <td>+1396.9</td>\n",
       "      <td>2003-07-03</td>\n",
       "      <td>2024-12-15</td>\n",
       "    </tr>\n",
       "    <tr>\n",
       "      <th>23062</th>\n",
       "      <td>999999</td>\n",
       "      <td>DENVER STAPLETON AIRFIELD</td>\n",
       "      <td>US</td>\n",
       "      <td>CO</td>\n",
       "      <td>KDNR</td>\n",
       "      <td>+39.767</td>\n",
       "      <td>-104.883</td>\n",
       "      <td>+1626.1</td>\n",
       "      <td>1967-01-01</td>\n",
       "      <td>1972-12-31</td>\n",
       "    </tr>\n",
       "    <tr>\n",
       "      <th>26501</th>\n",
       "      <td>702220</td>\n",
       "      <td>GALENA AIRPORT</td>\n",
       "      <td>US</td>\n",
       "      <td>AK</td>\n",
       "      <td>PAGA</td>\n",
       "      <td>+64.737</td>\n",
       "      <td>-156.934</td>\n",
       "      <td>+0046.6</td>\n",
       "      <td>2006-01-01</td>\n",
       "      <td>2024-12-15</td>\n",
       "    </tr>\n",
       "  </tbody>\n",
       "</table>\n",
       "</div>"
      ],
      "text/plain": [
       "         USAF                STATION NAME CTRY   ST  CALL      LAT       LON  \\\n",
       "WBAN                                                                           \n",
       "00145  949999                 MAREEBAQWRC   AS  NaN   NaN  -17.000  +145.430   \n",
       "00320  A07049  PETALUMA MUNICIPAL AIRPORT   US   CA  KO69  +38.250  -122.600   \n",
       "04128  999999                RILEY 10 WSW   US   OR   NaN  +43.471  -119.692   \n",
       "23062  999999   DENVER STAPLETON AIRFIELD   US   CO  KDNR  +39.767  -104.883   \n",
       "26501  702220              GALENA AIRPORT   US   AK  PAGA  +64.737  -156.934   \n",
       "\n",
       "       ELEV(M)       BEGIN         END  \n",
       "WBAN                                    \n",
       "00145  +0335.0  1956-12-31  1982-08-30  \n",
       "00320  +0027.1  2014-07-31  2024-12-15  \n",
       "04128  +1396.9  2003-07-03  2024-12-15  \n",
       "23062  +1626.1  1967-01-01  1972-12-31  \n",
       "26501  +0046.6  2006-01-01  2024-12-15  "
      ]
     },
     "execution_count": 32,
     "metadata": {},
     "output_type": "execute_result"
    }
   ],
   "source": [
    "df_isd_history = pd.read_csv(file_isd_history, index_col='WBAN',\n",
    "                             dtype={'WBAN': object}).sort_values(by=['USAF', 'BEGIN'],\n",
    "                                                             ascending=[True, False])\n",
    "df_isd_history.sample(5).sort_index()"
   ]
  },
  {
   "cell_type": "code",
   "execution_count": 33,
   "metadata": {},
   "outputs": [
    {
     "data": {
      "text/html": [
       "<div>\n",
       "<style scoped>\n",
       "    .dataframe tbody tr th:only-of-type {\n",
       "        vertical-align: middle;\n",
       "    }\n",
       "\n",
       "    .dataframe tbody tr th {\n",
       "        vertical-align: top;\n",
       "    }\n",
       "\n",
       "    .dataframe thead th {\n",
       "        text-align: right;\n",
       "    }\n",
       "</style>\n",
       "<table border=\"1\" class=\"dataframe\">\n",
       "  <thead>\n",
       "    <tr style=\"text-align: right;\">\n",
       "      <th></th>\n",
       "      <th>WBAN</th>\n",
       "      <th>USAF</th>\n",
       "      <th>STATION NAME</th>\n",
       "      <th>CTRY</th>\n",
       "      <th>ST</th>\n",
       "      <th>CALL</th>\n",
       "      <th>LAT</th>\n",
       "      <th>LON</th>\n",
       "      <th>ELEV(M)</th>\n",
       "      <th>BEGIN</th>\n",
       "      <th>END</th>\n",
       "    </tr>\n",
       "  </thead>\n",
       "  <tbody>\n",
       "    <tr>\n",
       "      <th>0</th>\n",
       "      <td>14939</td>\n",
       "      <td>725510</td>\n",
       "      <td>LINCOLN MUNICIPAL AIRPORT</td>\n",
       "      <td>US</td>\n",
       "      <td>NE</td>\n",
       "      <td>KLNK</td>\n",
       "      <td>+40.848</td>\n",
       "      <td>-096.765</td>\n",
       "      <td>+0356.7</td>\n",
       "      <td>1942-10-01</td>\n",
       "      <td>2024-12-16</td>\n",
       "    </tr>\n",
       "    <tr>\n",
       "      <th>1</th>\n",
       "      <td>14939</td>\n",
       "      <td>999999</td>\n",
       "      <td>LINCOLN AIR BASE</td>\n",
       "      <td>US</td>\n",
       "      <td>NE</td>\n",
       "      <td>KLNK</td>\n",
       "      <td>+40.851</td>\n",
       "      <td>-096.748</td>\n",
       "      <td>+0362.4</td>\n",
       "      <td>1948-01-01</td>\n",
       "      <td>1972-12-31</td>\n",
       "    </tr>\n",
       "  </tbody>\n",
       "</table>\n",
       "</div>"
      ],
      "text/plain": [
       "    WBAN    USAF               STATION NAME CTRY  ST  CALL      LAT       LON  \\\n",
       "0  14939  725510  LINCOLN MUNICIPAL AIRPORT   US  NE  KLNK  +40.848  -096.765   \n",
       "1  14939  999999           LINCOLN AIR BASE   US  NE  KLNK  +40.851  -096.748   \n",
       "\n",
       "   ELEV(M)       BEGIN         END  \n",
       "0  +0356.7  1942-10-01  2024-12-16  \n",
       "1  +0362.4  1948-01-01  1972-12-31  "
      ]
     },
     "execution_count": 33,
     "metadata": {},
     "output_type": "execute_result"
    }
   ],
   "source": [
    "df_isd_history.loc[station_wban].reset_index()"
   ]
  },
  {
   "cell_type": "code",
   "execution_count": 34,
   "metadata": {},
   "outputs": [],
   "source": [
    "# df_isd_history.loc[int(station_wban)]\n",
    "# using station_wban, gather station details from isd history for the record with the most\n",
    "# recent 'END' date\n",
    "station_details = dict(df_isd_history.loc[station_wban].reset_index()\\\n",
    "                       .sort_values('END', ascending=False).iloc[0])\n",
    "# delete df_isd_history - no longer needed\n",
    "del df_isd_history"
   ]
  },
  {
   "cell_type": "code",
   "execution_count": 35,
   "metadata": {},
   "outputs": [
    {
     "data": {
      "text/plain": [
       "{'WBAN': '14939',\n",
       " 'USAF': '725510',\n",
       " 'STATION NAME': 'LINCOLN MUNICIPAL AIRPORT',\n",
       " 'CTRY': 'US',\n",
       " 'ST': 'NE',\n",
       " 'CALL': 'KLNK',\n",
       " 'LAT': '+40.848',\n",
       " 'LON': '-096.765',\n",
       " 'ELEV(M)': '+0356.7',\n",
       " 'BEGIN': '1942-10-01',\n",
       " 'END': '2024-12-16',\n",
       " 'GOOGLE MAP': 'https://maps.google.com/?q=+40.848,-096.765'}"
      ]
     },
     "execution_count": 35,
     "metadata": {},
     "output_type": "execute_result"
    }
   ],
   "source": [
    "# add url to google maps search of lat, lon values to station_details\n",
    "google_maps_lat_lon_url = \"\"\"https://maps.google.com/?q={lat},{long}\"\"\"\n",
    "google_maps_url = google_maps_lat_lon_url.format(lat = station_details['LAT'],\n",
    "                                                long = station_details['LON'])\n",
    "station_details['GOOGLE MAP'] = google_maps_url\n",
    "station_details"
   ]
  },
  {
   "cell_type": "code",
   "execution_count": 36,
   "metadata": {},
   "outputs": [
    {
     "data": {
      "text/plain": [
       "('2020-01-01', '2023-12-31')"
      ]
     },
     "execution_count": 36,
     "metadata": {},
     "output_type": "execute_result"
    }
   ],
   "source": [
    "#     create timestamps for consolidated table df\n",
    "start_dt = df.index[0]\n",
    "end_dt = df.index[-1]\n",
    "start_str = start_dt.strftime('%Y-%m-%d')\n",
    "end_str = end_dt.strftime('%Y-%m-%d')\n",
    "start_str, end_str"
   ]
  },
  {
   "cell_type": "code",
   "execution_count": null,
   "metadata": {},
   "outputs": [],
   "source": [
    "pd.DatetimeIndex()"
   ]
  },
  {
   "cell_type": "code",
   "execution_count": 74,
   "metadata": {},
   "outputs": [
    {
     "data": {
      "text/plain": [
       "DatetimeIndex(['2020-01-01 00:00:00', '2020-01-01 01:00:00',\n",
       "               '2020-01-01 02:00:00', '2020-01-01 03:00:00',\n",
       "               '2020-01-01 04:00:00', '2020-01-01 05:00:00',\n",
       "               '2020-01-01 06:00:00', '2020-01-01 07:00:00',\n",
       "               '2020-01-01 08:00:00', '2020-01-01 09:00:00',\n",
       "               ...\n",
       "               '2023-12-31 14:00:00', '2023-12-31 15:00:00',\n",
       "               '2023-12-31 16:00:00', '2023-12-31 17:00:00',\n",
       "               '2023-12-31 18:00:00', '2023-12-31 19:00:00',\n",
       "               '2023-12-31 20:00:00', '2023-12-31 21:00:00',\n",
       "               '2023-12-31 22:00:00', '2023-12-31 23:00:00'],\n",
       "              dtype='datetime64[ns]', length=35064, freq='H')"
      ]
     },
     "execution_count": 74,
     "metadata": {},
     "output_type": "execute_result"
    }
   ],
   "source": [
    "pd.date_range(start_dt, end_dt, freq='H')"
   ]
  },
  {
   "cell_type": "code",
   "execution_count": 94,
   "metadata": {},
   "outputs": [],
   "source": [
    "# identify hours where no source data was provided\n",
    "# This will be added as a boolean column later\n",
    "idx_hours_no_source_data = pd.date_range(start_dt, end_dt, freq='H')\\\n",
    "                            .difference(df.index.round('H'))\n",
    "n_hours_no_source_data = len(idx_hours_no_source_data)\n",
    "# idx_hours_no_source_data"
   ]
  },
  {
   "cell_type": "code",
   "execution_count": 37,
   "metadata": {},
   "outputs": [
    {
     "data": {
      "text/plain": [
       "HourlyAltimeterSetting       float64\n",
       "HourlyDewPointTemperature    float64\n",
       "HourlyDryBulbTemperature     float64\n",
       "HourlyPrecipitation           object\n",
       "HourlyPressureChange         float64\n",
       "HourlyRelativeHumidity       float64\n",
       "HourlyStationPressure        float64\n",
       "HourlyVisibility              object\n",
       "HourlyWetBulbTemperature     float64\n",
       "HourlyWindDirection           object\n",
       "HourlyWindGustSpeed          float64\n",
       "HourlyWindSpeed              float64\n",
       "Sunrise                      float64\n",
       "Sunset                       float64\n",
       "dtype: object"
      ]
     },
     "execution_count": 37,
     "metadata": {},
     "output_type": "execute_result"
    }
   ],
   "source": [
    "df.dtypes"
   ]
  },
  {
   "cell_type": "code",
   "execution_count": 38,
   "metadata": {},
   "outputs": [],
   "source": [
    "cols_dtypes = {'HourlyAltimeterSetting': 'float64',\n",
    "   'HourlyDewPointTemperature': 'float64',\n",
    "    'HourlyDryBulbTemperature': 'float64',\n",
    "    'HourlyPrecipitation': 'float64',\n",
    "    'HourlyPressureChange': 'float64',\n",
    "    'HourlyRelativeHumidity': 'Int64',\n",
    "    'HourlyStationPressure': 'float64',\n",
    "    'HourlyVisibility': 'float64',\n",
    "    'HourlyWetBulbTemperature': 'float64',\n",
    "    'HourlyWindDirection': 'Int64',\n",
    "    'HourlyWindGustSpeed': 'float64',\n",
    "    'HourlyWindSpeed': 'float64',\n",
    "    'Sunrise': 'float64',\n",
    "    'Sunset': 'float64'}\n",
    "#     'Sunrise': 'datetime64[s]',\n",
    "#     'Sunset': 'datetime64[s]'}\n",
    "# keep only items with corresponding column in df\n",
    "cols_dtypes = {k : v for k, v in cols_dtypes.items() if k in df.columns}"
   ]
  },
  {
   "cell_type": "code",
   "execution_count": 39,
   "metadata": {},
   "outputs": [],
   "source": [
    "# enforce dtypes for df\n",
    "# does this need to be done on pre- df?  Is post- df processing enough?\n",
    "for col_, type_ in cols_dtypes.items():\n",
    "    if type_ == 'float64':\n",
    "        df[col_] = pd.to_numeric(df[col_], errors='coerce')\n",
    "        try:\n",
    "            df[col_] = df[col_].astype(type_)\n",
    "        except:\n",
    "            pass\n",
    "    elif type_ == 'Int64':\n",
    "        df[col_] = pd.to_numeric(df[col_], errors='coerce')\n",
    "        try:\n",
    "            df[col_] = df[col_].astype(type_)\n",
    "        except:\n",
    "            pass"
   ]
  },
  {
   "cell_type": "code",
   "execution_count": 40,
   "metadata": {},
   "outputs": [
    {
     "data": {
      "text/plain": [
       "HourlyAltimeterSetting       float64\n",
       "HourlyDewPointTemperature    float64\n",
       "HourlyDryBulbTemperature     float64\n",
       "HourlyPrecipitation          float64\n",
       "HourlyPressureChange         float64\n",
       "HourlyRelativeHumidity         Int64\n",
       "HourlyStationPressure        float64\n",
       "HourlyVisibility             float64\n",
       "HourlyWetBulbTemperature     float64\n",
       "HourlyWindDirection            Int64\n",
       "HourlyWindGustSpeed          float64\n",
       "HourlyWindSpeed              float64\n",
       "Sunrise                      float64\n",
       "Sunset                       float64\n",
       "dtype: object"
      ]
     },
     "execution_count": 40,
     "metadata": {},
     "output_type": "execute_result"
    }
   ],
   "source": [
    "df.dtypes"
   ]
  },
  {
   "cell_type": "markdown",
   "metadata": {},
   "source": [
    "#### Resolve duplicate datetime index values"
   ]
  },
  {
   "cell_type": "code",
   "execution_count": 41,
   "metadata": {},
   "outputs": [
    {
     "data": {
      "text/plain": [
       "(48807, 14)"
      ]
     },
     "execution_count": 41,
     "metadata": {},
     "output_type": "execute_result"
    }
   ],
   "source": [
    "df = df.groupby(level=0).mean()\n",
    "df.shape"
   ]
  },
  {
   "cell_type": "markdown",
   "metadata": {},
   "source": [
    "#### Extract Sunrise and Sunset by date in to dictionaries\n",
    "\n",
    "to be applied\n",
    "to df_out towards end of script.\n",
    "Drop Sunrise and Sunset columns after extraction here\n",
    "date_sunrise, date_sunset\n",
    "The source data provides only one record per day and rest are NaN\n",
    "additionally, resampling datetime values was causing dtype challenges"
   ]
  },
  {
   "cell_type": "code",
   "execution_count": 42,
   "metadata": {},
   "outputs": [],
   "source": [
    "# create date_sunrise/sunset dictionaries with dates as keys and \n",
    "# timestamp values for time to be added back in to resampled df\n",
    "date_sunrise = datetime_from_HHMM(df['Sunrise'].dropna()).to_dict()\n",
    "date_sunset = datetime_from_HHMM(df['Sunset'].dropna()).to_dict()"
   ]
  },
  {
   "cell_type": "code",
   "execution_count": 43,
   "metadata": {},
   "outputs": [],
   "source": [
    "# drop sunrise/sunset columns as their information is now \n",
    "# contained in the date_sunrise/sunset dictionaries\n",
    "df.drop(columns=cols_sunrise_sunset, inplace=True, errors='ignore')"
   ]
  },
  {
   "cell_type": "markdown",
   "metadata": {},
   "source": [
    "#### are there timestamps that have a high count of null values?\n",
    "In v1 LCD files the '23:59:00' timestamp is suspect and appears to only be a placeholder\n",
    "for posting sunrise/sunset times.  Important that this step be done after\n",
    "forward filling sunrise/sunset values. \n",
    "V2 LCD files do not seem to have the '23:59:00' timestamp issue."
   ]
  },
  {
   "cell_type": "code",
   "execution_count": 44,
   "metadata": {},
   "outputs": [
    {
     "data": {
      "text/plain": [
       "24403"
      ]
     },
     "execution_count": 44,
     "metadata": {},
     "output_type": "execute_result"
    }
   ],
   "source": [
    "# n_records_hourly_approx = int(df.shape[0]/(24))\n",
    "# n_max_null = pct_null_timestamp_max * n_records_hourly_approx\n",
    "n_max_null = int(pct_null_timestamp_max * df.shape[0])\n",
    "n_max_null"
   ]
  },
  {
   "cell_type": "code",
   "execution_count": 45,
   "metadata": {},
   "outputs": [],
   "source": [
    "temp = df.loc[:, df.columns.difference(cols_sunrise_sunset)]\n",
    "df_nan_ts = temp.groupby(temp.index.time).apply(lambda x: x.isna().sum()\\\n",
    "                            .gt(n_max_null)).all(axis=1)\n",
    "times_nan = df_nan_ts.loc[df_nan_ts].index.tolist()\n",
    "del temp\n",
    "del df_nan_ts"
   ]
  },
  {
   "cell_type": "code",
   "execution_count": 46,
   "metadata": {},
   "outputs": [
    {
     "name": "stdout",
     "output_type": "stream",
     "text": [
      "<class 'pandas.core.frame.DataFrame'>\n",
      "DatetimeIndex: 48807 entries, 2020-01-01 00:00:00 to 2023-12-31 23:54:00\n",
      "Data columns (total 12 columns):\n",
      " #   Column                     Non-Null Count  Dtype  \n",
      "---  ------                     --------------  -----  \n",
      " 0   HourlyAltimeterSetting     42846 non-null  float64\n",
      " 1   HourlyDewPointTemperature  48754 non-null  float64\n",
      " 2   HourlyDryBulbTemperature   48772 non-null  float64\n",
      " 3   HourlyPrecipitation        34925 non-null  float64\n",
      " 4   HourlyPressureChange       17481 non-null  float64\n",
      " 5   HourlyRelativeHumidity     48754 non-null  Float64\n",
      " 6   HourlyStationPressure      48642 non-null  float64\n",
      " 7   HourlyVisibility           43696 non-null  float64\n",
      " 8   HourlyWetBulbTemperature   48623 non-null  float64\n",
      " 9   HourlyWindDirection        43923 non-null  Float64\n",
      " 10  HourlyWindGustSpeed        8119 non-null   float64\n",
      " 11  HourlyWindSpeed            48579 non-null  float64\n",
      "dtypes: Float64(2), float64(10)\n",
      "memory usage: 4.9 MB\n"
     ]
    }
   ],
   "source": [
    "# remove records for timestamps with a high percentage of Null values.\n",
    "# note that the '23:59:00' timestamp is suspect and appears to only be a placeholder\n",
    "# for posting sunrise/sunset times.  Important that this step be done after\n",
    "# forward filling sunrise/sunset values.\n",
    "filter_nan_times = pd.Series(df.index.time).isin(times_nan).values\n",
    "df = df.loc[~filter_nan_times]\n",
    "df.info()"
   ]
  },
  {
   "cell_type": "code",
   "execution_count": 47,
   "metadata": {},
   "outputs": [
    {
     "data": {
      "text/html": [
       "<div>\n",
       "<style scoped>\n",
       "    .dataframe tbody tr th:only-of-type {\n",
       "        vertical-align: middle;\n",
       "    }\n",
       "\n",
       "    .dataframe tbody tr th {\n",
       "        vertical-align: top;\n",
       "    }\n",
       "\n",
       "    .dataframe thead th {\n",
       "        text-align: right;\n",
       "    }\n",
       "</style>\n",
       "<table border=\"1\" class=\"dataframe\">\n",
       "  <thead>\n",
       "    <tr style=\"text-align: right;\">\n",
       "      <th></th>\n",
       "      <th>HourlyAltimeterSetting</th>\n",
       "      <th>HourlyDewPointTemperature</th>\n",
       "      <th>HourlyDryBulbTemperature</th>\n",
       "      <th>HourlyPrecipitation</th>\n",
       "      <th>HourlyPressureChange</th>\n",
       "      <th>HourlyRelativeHumidity</th>\n",
       "      <th>HourlyStationPressure</th>\n",
       "      <th>HourlyVisibility</th>\n",
       "      <th>HourlyWetBulbTemperature</th>\n",
       "      <th>HourlyWindDirection</th>\n",
       "      <th>HourlyWindGustSpeed</th>\n",
       "      <th>HourlyWindSpeed</th>\n",
       "    </tr>\n",
       "  </thead>\n",
       "  <tbody>\n",
       "    <tr>\n",
       "      <th>00:00:00</th>\n",
       "      <td>2019.6</td>\n",
       "      <td>5909.6</td>\n",
       "      <td>13355.7</td>\n",
       "      <td>1.7</td>\n",
       "      <td>429.2</td>\n",
       "      <td>102080.0</td>\n",
       "      <td>1390264.6</td>\n",
       "      <td>3130.854</td>\n",
       "      <td>9881.6</td>\n",
       "      <td>249289.0</td>\n",
       "      <td>0.0</td>\n",
       "      <td>5134.7</td>\n",
       "    </tr>\n",
       "    <tr>\n",
       "      <th>00:01:00</th>\n",
       "      <td>9151.4</td>\n",
       "      <td>73.1</td>\n",
       "      <td>97.4</td>\n",
       "      <td>0.0</td>\n",
       "      <td>0.0</td>\n",
       "      <td>760.0</td>\n",
       "      <td>8765.3</td>\n",
       "      <td>100.179</td>\n",
       "      <td>84.5</td>\n",
       "      <td>1820.0</td>\n",
       "      <td>18.0</td>\n",
       "      <td>42.8</td>\n",
       "    </tr>\n",
       "    <tr>\n",
       "      <th>00:02:00</th>\n",
       "      <td>8103.7</td>\n",
       "      <td>29.9</td>\n",
       "      <td>42.3</td>\n",
       "      <td>0.7</td>\n",
       "      <td>0.0</td>\n",
       "      <td>720.0</td>\n",
       "      <td>7761.7</td>\n",
       "      <td>61.556</td>\n",
       "      <td>36.8</td>\n",
       "      <td>1380.0</td>\n",
       "      <td>26.8</td>\n",
       "      <td>41.7</td>\n",
       "    </tr>\n",
       "    <tr>\n",
       "      <th>00:03:00</th>\n",
       "      <td>8129.1</td>\n",
       "      <td>52.2</td>\n",
       "      <td>76.7</td>\n",
       "      <td>0.5</td>\n",
       "      <td>0.0</td>\n",
       "      <td>648.0</td>\n",
       "      <td>7786.0</td>\n",
       "      <td>113.456</td>\n",
       "      <td>66.6</td>\n",
       "      <td>2100.0</td>\n",
       "      <td>14.4</td>\n",
       "      <td>43.8</td>\n",
       "    </tr>\n",
       "    <tr>\n",
       "      <th>00:04:00</th>\n",
       "      <td>6056.2</td>\n",
       "      <td>53.9</td>\n",
       "      <td>65.0</td>\n",
       "      <td>1.4</td>\n",
       "      <td>0.0</td>\n",
       "      <td>531.0</td>\n",
       "      <td>5800.4</td>\n",
       "      <td>73.223</td>\n",
       "      <td>59.2</td>\n",
       "      <td>500.0</td>\n",
       "      <td>11.3</td>\n",
       "      <td>32.5</td>\n",
       "    </tr>\n",
       "    <tr>\n",
       "      <th>...</th>\n",
       "      <td>...</td>\n",
       "      <td>...</td>\n",
       "      <td>...</td>\n",
       "      <td>...</td>\n",
       "      <td>...</td>\n",
       "      <td>...</td>\n",
       "      <td>...</td>\n",
       "      <td>...</td>\n",
       "      <td>...</td>\n",
       "      <td>...</td>\n",
       "      <td>...</td>\n",
       "      <td>...</td>\n",
       "    </tr>\n",
       "    <tr>\n",
       "      <th>23:54:00</th>\n",
       "      <td>1482354.9</td>\n",
       "      <td>6054.4</td>\n",
       "      <td>13670.9</td>\n",
       "      <td>100.1</td>\n",
       "      <td>438.3</td>\n",
       "      <td>104213.0</td>\n",
       "      <td>1411051.9</td>\n",
       "      <td>22073.600</td>\n",
       "      <td>10033.1</td>\n",
       "      <td>252780.0</td>\n",
       "      <td>1994.1</td>\n",
       "      <td>5220.0</td>\n",
       "    </tr>\n",
       "    <tr>\n",
       "      <th>23:56:00</th>\n",
       "      <td>2024.7</td>\n",
       "      <td>32.8</td>\n",
       "      <td>36.6</td>\n",
       "      <td>0.2</td>\n",
       "      <td>0.0</td>\n",
       "      <td>178.0</td>\n",
       "      <td>1939.2</td>\n",
       "      <td>18.507</td>\n",
       "      <td>34.2</td>\n",
       "      <td>390.0</td>\n",
       "      <td>13.9</td>\n",
       "      <td>10.8</td>\n",
       "    </tr>\n",
       "    <tr>\n",
       "      <th>23:57:00</th>\n",
       "      <td>1010.8</td>\n",
       "      <td>-10.0</td>\n",
       "      <td>-8.9</td>\n",
       "      <td>0.0</td>\n",
       "      <td>0.0</td>\n",
       "      <td>92.0</td>\n",
       "      <td>968.2</td>\n",
       "      <td>0.000</td>\n",
       "      <td>-9.2</td>\n",
       "      <td>360.0</td>\n",
       "      <td>0.0</td>\n",
       "      <td>1.5</td>\n",
       "    </tr>\n",
       "    <tr>\n",
       "      <th>23:58:00</th>\n",
       "      <td>4041.0</td>\n",
       "      <td>41.1</td>\n",
       "      <td>45.0</td>\n",
       "      <td>2.9</td>\n",
       "      <td>0.0</td>\n",
       "      <td>374.0</td>\n",
       "      <td>3870.2</td>\n",
       "      <td>17.702</td>\n",
       "      <td>43.0</td>\n",
       "      <td>460.0</td>\n",
       "      <td>12.9</td>\n",
       "      <td>20.1</td>\n",
       "    </tr>\n",
       "    <tr>\n",
       "      <th>23:59:00</th>\n",
       "      <td>1009.1</td>\n",
       "      <td>18.3</td>\n",
       "      <td>26.1</td>\n",
       "      <td>0.0</td>\n",
       "      <td>0.0</td>\n",
       "      <td>62.0</td>\n",
       "      <td>966.5</td>\n",
       "      <td>16.093</td>\n",
       "      <td>21.0</td>\n",
       "      <td>260.0</td>\n",
       "      <td>21.6</td>\n",
       "      <td>16.5</td>\n",
       "    </tr>\n",
       "  </tbody>\n",
       "</table>\n",
       "<p>113 rows × 12 columns</p>\n",
       "</div>"
      ],
      "text/plain": [
       "          HourlyAltimeterSetting  HourlyDewPointTemperature  \\\n",
       "00:00:00                  2019.6                     5909.6   \n",
       "00:01:00                  9151.4                       73.1   \n",
       "00:02:00                  8103.7                       29.9   \n",
       "00:03:00                  8129.1                       52.2   \n",
       "00:04:00                  6056.2                       53.9   \n",
       "...                          ...                        ...   \n",
       "23:54:00               1482354.9                     6054.4   \n",
       "23:56:00                  2024.7                       32.8   \n",
       "23:57:00                  1010.8                      -10.0   \n",
       "23:58:00                  4041.0                       41.1   \n",
       "23:59:00                  1009.1                       18.3   \n",
       "\n",
       "          HourlyDryBulbTemperature  HourlyPrecipitation  HourlyPressureChange  \\\n",
       "00:00:00                   13355.7                  1.7                 429.2   \n",
       "00:01:00                      97.4                  0.0                   0.0   \n",
       "00:02:00                      42.3                  0.7                   0.0   \n",
       "00:03:00                      76.7                  0.5                   0.0   \n",
       "00:04:00                      65.0                  1.4                   0.0   \n",
       "...                            ...                  ...                   ...   \n",
       "23:54:00                   13670.9                100.1                 438.3   \n",
       "23:56:00                      36.6                  0.2                   0.0   \n",
       "23:57:00                      -8.9                  0.0                   0.0   \n",
       "23:58:00                      45.0                  2.9                   0.0   \n",
       "23:59:00                      26.1                  0.0                   0.0   \n",
       "\n",
       "          HourlyRelativeHumidity  HourlyStationPressure  HourlyVisibility  \\\n",
       "00:00:00                102080.0              1390264.6          3130.854   \n",
       "00:01:00                   760.0                 8765.3           100.179   \n",
       "00:02:00                   720.0                 7761.7            61.556   \n",
       "00:03:00                   648.0                 7786.0           113.456   \n",
       "00:04:00                   531.0                 5800.4            73.223   \n",
       "...                          ...                    ...               ...   \n",
       "23:54:00                104213.0              1411051.9         22073.600   \n",
       "23:56:00                   178.0                 1939.2            18.507   \n",
       "23:57:00                    92.0                  968.2             0.000   \n",
       "23:58:00                   374.0                 3870.2            17.702   \n",
       "23:59:00                    62.0                  966.5            16.093   \n",
       "\n",
       "          HourlyWetBulbTemperature  HourlyWindDirection  HourlyWindGustSpeed  \\\n",
       "00:00:00                    9881.6             249289.0                  0.0   \n",
       "00:01:00                      84.5               1820.0                 18.0   \n",
       "00:02:00                      36.8               1380.0                 26.8   \n",
       "00:03:00                      66.6               2100.0                 14.4   \n",
       "00:04:00                      59.2                500.0                 11.3   \n",
       "...                            ...                  ...                  ...   \n",
       "23:54:00                   10033.1             252780.0               1994.1   \n",
       "23:56:00                      34.2                390.0                 13.9   \n",
       "23:57:00                      -9.2                360.0                  0.0   \n",
       "23:58:00                      43.0                460.0                 12.9   \n",
       "23:59:00                      21.0                260.0                 21.6   \n",
       "\n",
       "          HourlyWindSpeed  \n",
       "00:00:00           5134.7  \n",
       "00:01:00             42.8  \n",
       "00:02:00             41.7  \n",
       "00:03:00             43.8  \n",
       "00:04:00             32.5  \n",
       "...                   ...  \n",
       "23:54:00           5220.0  \n",
       "23:56:00             10.8  \n",
       "23:57:00              1.5  \n",
       "23:58:00             20.1  \n",
       "23:59:00             16.5  \n",
       "\n",
       "[113 rows x 12 columns]"
      ]
     },
     "execution_count": 47,
     "metadata": {},
     "output_type": "execute_result"
    }
   ],
   "source": [
    "test = df.between_time('23:01:00', '00:59:00').select_dtypes(include=[int, float])\n",
    "test.groupby(test.index.time).sum()"
   ]
  },
  {
   "cell_type": "code",
   "execution_count": 48,
   "metadata": {},
   "outputs": [
    {
     "data": {
      "image/png": "[encoded data removed]",
      "text/plain": [
       "<Figure size 1100x300 with 1 Axes>"
      ]
     },
     "metadata": {},
     "output_type": "display_data"
    }
   ],
   "source": [
    "if is_development:\n",
    "    df.groupby(df.index.time).count().max(axis=1).sort_index().plot(figsize=(11,3),\n",
    "   title='Count of Maximum Non-Null Readings per Timestamp')"
   ]
  },
  {
   "cell_type": "code",
   "execution_count": 49,
   "metadata": {},
   "outputs": [],
   "source": [
    "# df.loc[filter_nan_times]"
   ]
  },
  {
   "cell_type": "code",
   "execution_count": 50,
   "metadata": {},
   "outputs": [],
   "source": [
    "#     Check what percentage of data has null data and print to screen\n",
    "df_pct_null_data = pd.DataFrame({'Percent N/A': df.isnull().sum().divide(len(df)).round(3)})\n",
    "df_pct_null_data_pre_formatted = df_pct_null_data['Percent N/A']\\\n",
    "                            .apply(lambda n: '{:,.1%}'.format(n))\n",
    "# remove 'Hourly' prefix for display only\n",
    "col_rename_remove_hourly = {col_ : col_.replace('Hourly', '') for\n",
    "                            col_ in df_pct_null_data_pre_formatted.index}"
   ]
  },
  {
   "cell_type": "markdown",
   "metadata": {},
   "source": [
    "#### Display Station Details"
   ]
  },
  {
   "cell_type": "code",
   "execution_count": 51,
   "metadata": {},
   "outputs": [],
   "source": [
    "# exclude station lifetime history dates - could cause confusion\n",
    "station_details_exclude = ['BEGIN', 'END']\n",
    "station_details_display = {k_ : v_ for k_, v_ in station_details.items() if\n",
    "                           k_ not in station_details_exclude}"
   ]
  },
  {
   "cell_type": "code",
   "execution_count": 52,
   "metadata": {},
   "outputs": [
    {
     "name": "stdout",
     "output_type": "stream",
     "text": [
      "--------------------------------------------\n",
      "------ ISD Weather Station Properties ------\n",
      "--------------------------------------------\n",
      "WBAN            14939     \n",
      "USAF            725510    \n",
      "STATION NAME    LINCOLN MUNICIPAL AIRPORT\n",
      "CTRY            US        \n",
      "ST              NE        \n",
      "CALL            KLNK      \n",
      "LAT             +40.848   \n",
      "LON             -096.765  \n",
      "ELEV(M)         +0356.7   \n",
      "GOOGLE MAP      https://maps.google.com/?q=+40.848,-096.765\n",
      "\n",
      "\n"
     ]
    }
   ],
   "source": [
    "print('--------------------------------------------')\n",
    "print('------ ISD Weather Station Properties ------')\n",
    "print('--------------------------------------------')\n",
    "for k_, v_ in station_details_display.items():\n",
    "    print(\"{:<15} {:<10}\".format(k_, v_))\n",
    "print('\\n')"
   ]
  },
  {
   "cell_type": "code",
   "execution_count": 53,
   "metadata": {},
   "outputs": [
    {
     "name": "stdout",
     "output_type": "stream",
     "text": [
      "Percent Missing Values by Column from 2020-01-01 to 2023-12-31 for LCD source file(s):\n",
      "\n",
      "LCD_USW00014939_2023.csv\n",
      "LCD_USW00014939_2022.csv\n",
      "LCD_USW00014939_2021.csv\n",
      "LCD_USW00014939_2020.csv\n"
     ]
    }
   ],
   "source": [
    "# message_pct_null_data = f\"\"\"Percent Missing Values by Column for LCD source file '{file_lcd_input.name}' for USAF station {station_usaf} at '{station_details['STATION NAME']}' from {start_str} to {end_str}.\"\"\"\n",
    "# message_pct_null_data = \"\"\"Percent Missing Values by Column for LCD source file(s):\n",
    "# {files_lcd_input_names_str}\\n\\nFor USAF station {station_usaf} at '{station_name}'\n",
    "# from {start_str} to {end_str}.\"\"\"\n",
    "message_pct_null_data = \"\"\"Percent Missing Values by Column from {start_str} to {end_str} for LCD source file(s):\\n\n",
    "{files_lcd_input_names_str}\"\"\"\n",
    "message_ = message_pct_null_data.format(files_lcd_input_names_str = files_lcd_input_names_str,\n",
    "                            station_usaf = station_details['USAF'],\n",
    "                            station_name = station_details['STATION NAME'],\n",
    "                            start_str = start_str,\n",
    "                            end_str = end_str)\n",
    "\n",
    "print(message_)"
   ]
  },
  {
   "cell_type": "code",
   "execution_count": 54,
   "metadata": {},
   "outputs": [
    {
     "name": "stdout",
     "output_type": "stream",
     "text": [
      "--------------------------------------------------------------\n",
      "------ Percent Null Values by Column Before Processing -------\n",
      "--------------------------------------------------------------\n"
     ]
    },
    {
     "data": {
      "text/plain": [
       "AltimeterSetting       12.2%\n",
       "DewPointTemperature     0.1%\n",
       "DryBulbTemperature      0.1%\n",
       "Precipitation          28.4%\n",
       "PressureChange         64.2%\n",
       "RelativeHumidity        0.1%\n",
       "StationPressure         0.3%\n",
       "Visibility             10.5%\n",
       "WetBulbTemperature      0.4%\n",
       "WindDirection          10.0%\n",
       "WindGustSpeed          83.4%\n",
       "WindSpeed               0.5%\n",
       "Name: Percent N/A, dtype: object"
      ]
     },
     "metadata": {},
     "output_type": "display_data"
    }
   ],
   "source": [
    "print('--------------------------------------------------------------')\n",
    "print('------ Percent Null Values by Column Before Processing -------')\n",
    "print('--------------------------------------------------------------')\n",
    "display(df_pct_null_data_pre_formatted.rename(index=col_rename_remove_hourly))"
   ]
  },
  {
   "cell_type": "markdown",
   "metadata": {},
   "source": [
    "### Define Policy dictionaries for filling of Nulls and Resampling"
   ]
  },
  {
   "cell_type": "markdown",
   "metadata": {},
   "source": [
    "#### How to handle Null values - col_null_policy"
   ]
  },
  {
   "cell_type": "code",
   "execution_count": 55,
   "metadata": {},
   "outputs": [],
   "source": [
    "# # create dictionary 'col_null_policy' to manually guide the resolution of null values by column\n",
    "# # in general, data that is expected to have a non-zero/non-null reading at all times\n",
    "# # will have nulls filled through interpolation.  Data that normally has 0 or null readings\n",
    "# # like 'HourlyPrecipitation' will have null values filled with 0 in the interest of having\n",
    "# # a 100% clean dataset to facilitate manual analysis.\n",
    "# col_null_policy = {'HourlyAltimeterSetting': pd.Series.interpolate,\n",
    "#  'HourlyDewPointTemperature': pd.Series.interpolate,\n",
    "#  'HourlyDryBulbTemperature': pd.Series.interpolate,\n",
    "#  'HourlyPrecipitation': lambda x: x.fillna(0),\n",
    "#  'HourlyPressureChange': pd.Series.interpolate,\n",
    "#  'HourlyRelativeHumidity': pd.Series.interpolate,\n",
    "#  'HourlyStationPressure': pd.Series.interpolate,\n",
    "#  'HourlyVisibility': pd.Series.interpolate,\n",
    "#  'HourlyWetBulbTemperature': pd.Series.interpolate,\n",
    "#  'HourlyWindDirection': pd.Series.interpolate,\n",
    "#  'HourlyWindGustSpeed': lambda x: x,\n",
    "#  'HourlyWindSpeed': pd.Series.interpolate}\n",
    "# #  'Sunrise': pd.Series.ffill,\n",
    "# #  'Sunset': pd.Series.bfill}\n",
    "# # keep only items with corresponding column in df\n",
    "# col_null_policy = {k : v for k, v in col_null_policy.items() if k in df.columns}\n",
    "# # assert len(df.columns.intersection(col_null_policy.keys())) == df.shape[1]"
   ]
  },
  {
   "cell_type": "code",
   "execution_count": 56,
   "metadata": {},
   "outputs": [
    {
     "data": {
      "text/plain": [
       "HourlyAltimeterSetting       float64\n",
       "HourlyDewPointTemperature    float64\n",
       "HourlyDryBulbTemperature     float64\n",
       "HourlyPrecipitation          float64\n",
       "HourlyPressureChange         float64\n",
       "HourlyRelativeHumidity       Float64\n",
       "HourlyStationPressure        float64\n",
       "HourlyVisibility             float64\n",
       "HourlyWetBulbTemperature     float64\n",
       "HourlyWindDirection          Float64\n",
       "HourlyWindGustSpeed          float64\n",
       "HourlyWindSpeed              float64\n",
       "dtype: object"
      ]
     },
     "execution_count": 56,
     "metadata": {},
     "output_type": "execute_result"
    }
   ],
   "source": [
    "df.dtypes"
   ]
  },
  {
   "cell_type": "code",
   "execution_count": 129,
   "metadata": {},
   "outputs": [
    {
     "name": "stdout",
     "output_type": "stream",
     "text": [
      "HourlyAltimeterSetting\n",
      "HourlyDewPointTemperature\n",
      "HourlyDryBulbTemperature\n",
      "HourlyPrecipitation\n",
      "HourlyPressureChange\n",
      "HourlyRelativeHumidity\n",
      "HourlyStationPressure\n",
      "HourlyVisibility\n",
      "HourlyWetBulbTemperature\n",
      "HourlyWindDirection\n",
      "HourlyWindGustSpeed\n",
      "HourlyWindSpeed\n",
      "CPU times: total: 62.5 ms\n",
      "Wall time: 71.9 ms\n"
     ]
    }
   ],
   "source": [
    "%%time\n",
    "dfs = {}\n",
    "# individually resample each column. This will produce series\n",
    "# with perfect, complete datetime indexes.  However, it is quite\n",
    "# possible that NaN values will remain.  Remaining NaN values will\n",
    "# be resolved through interpolation later in the script.\n",
    "# this method is used because NaN values can appear at different timestamps\n",
    "# in each column\n",
    "# at this point the df should contain only floats and ints\n",
    "for col_ in df.columns:\n",
    "    print(col_)\n",
    "#     dfs[col_] = df[col_].dropna().resample(freqstr).agg(col_resample_policy[col_])\n",
    "#     dfs[col_] = df[col_].dropna().resample(freqstr).mean()\n",
    "    dfs[col_] = df[col_].dropna().resample('H').mean()\n",
    "#     dfs1[col_] = df[col_].dropna().resample(freqstr).interpolate()"
   ]
  },
  {
   "cell_type": "code",
   "execution_count": 130,
   "metadata": {},
   "outputs": [
    {
     "data": {
      "text/html": [
       "<div>\n",
       "<style scoped>\n",
       "    .dataframe tbody tr th:only-of-type {\n",
       "        vertical-align: middle;\n",
       "    }\n",
       "\n",
       "    .dataframe tbody tr th {\n",
       "        vertical-align: top;\n",
       "    }\n",
       "\n",
       "    .dataframe thead th {\n",
       "        text-align: right;\n",
       "    }\n",
       "</style>\n",
       "<table border=\"1\" class=\"dataframe\">\n",
       "  <thead>\n",
       "    <tr style=\"text-align: right;\">\n",
       "      <th></th>\n",
       "      <th>HourlyAltimeterSetting</th>\n",
       "      <th>HourlyDewPointTemperature</th>\n",
       "      <th>HourlyDryBulbTemperature</th>\n",
       "      <th>HourlyPrecipitation</th>\n",
       "      <th>HourlyPressureChange</th>\n",
       "      <th>HourlyRelativeHumidity</th>\n",
       "      <th>HourlyStationPressure</th>\n",
       "      <th>HourlyVisibility</th>\n",
       "      <th>HourlyWetBulbTemperature</th>\n",
       "      <th>HourlyWindDirection</th>\n",
       "      <th>HourlyWindGustSpeed</th>\n",
       "      <th>HourlyWindSpeed</th>\n",
       "    </tr>\n",
       "    <tr>\n",
       "      <th>DATE</th>\n",
       "      <th></th>\n",
       "      <th></th>\n",
       "      <th></th>\n",
       "      <th></th>\n",
       "      <th></th>\n",
       "      <th></th>\n",
       "      <th></th>\n",
       "      <th></th>\n",
       "      <th></th>\n",
       "      <th></th>\n",
       "      <th></th>\n",
       "      <th></th>\n",
       "    </tr>\n",
       "  </thead>\n",
       "  <tbody>\n",
       "    <tr>\n",
       "      <th>2020-01-01 00:00:00</th>\n",
       "      <td>1009.8</td>\n",
       "      <td>-6.95</td>\n",
       "      <td>-3.90</td>\n",
       "      <td>0.0</td>\n",
       "      <td>-1.9</td>\n",
       "      <td>79.5</td>\n",
       "      <td>967.55</td>\n",
       "      <td>16.0930</td>\n",
       "      <td>-4.9</td>\n",
       "      <td>195.0</td>\n",
       "      <td>NaN</td>\n",
       "      <td>2.60</td>\n",
       "    </tr>\n",
       "    <tr>\n",
       "      <th>2020-01-01 01:00:00</th>\n",
       "      <td>1008.1</td>\n",
       "      <td>-7.80</td>\n",
       "      <td>-4.40</td>\n",
       "      <td>0.0</td>\n",
       "      <td>NaN</td>\n",
       "      <td>77.0</td>\n",
       "      <td>965.50</td>\n",
       "      <td>16.0930</td>\n",
       "      <td>-5.5</td>\n",
       "      <td>170.0</td>\n",
       "      <td>NaN</td>\n",
       "      <td>2.60</td>\n",
       "    </tr>\n",
       "    <tr>\n",
       "      <th>2020-01-01 02:00:00</th>\n",
       "      <td>1007.5</td>\n",
       "      <td>-7.80</td>\n",
       "      <td>-4.40</td>\n",
       "      <td>0.0</td>\n",
       "      <td>-3.4</td>\n",
       "      <td>77.0</td>\n",
       "      <td>964.90</td>\n",
       "      <td>16.0930</td>\n",
       "      <td>-5.5</td>\n",
       "      <td>170.0</td>\n",
       "      <td>NaN</td>\n",
       "      <td>2.60</td>\n",
       "    </tr>\n",
       "    <tr>\n",
       "      <th>2020-01-01 03:00:00</th>\n",
       "      <td>1006.8</td>\n",
       "      <td>-7.80</td>\n",
       "      <td>-3.30</td>\n",
       "      <td>0.0</td>\n",
       "      <td>NaN</td>\n",
       "      <td>71.0</td>\n",
       "      <td>964.20</td>\n",
       "      <td>16.0930</td>\n",
       "      <td>-4.8</td>\n",
       "      <td>150.0</td>\n",
       "      <td>NaN</td>\n",
       "      <td>2.10</td>\n",
       "    </tr>\n",
       "    <tr>\n",
       "      <th>2020-01-01 04:00:00</th>\n",
       "      <td>1005.4</td>\n",
       "      <td>-6.70</td>\n",
       "      <td>-2.20</td>\n",
       "      <td>0.0</td>\n",
       "      <td>NaN</td>\n",
       "      <td>72.0</td>\n",
       "      <td>962.90</td>\n",
       "      <td>16.0930</td>\n",
       "      <td>-3.7</td>\n",
       "      <td>210.0</td>\n",
       "      <td>NaN</td>\n",
       "      <td>3.60</td>\n",
       "    </tr>\n",
       "    <tr>\n",
       "      <th>...</th>\n",
       "      <td>...</td>\n",
       "      <td>...</td>\n",
       "      <td>...</td>\n",
       "      <td>...</td>\n",
       "      <td>...</td>\n",
       "      <td>...</td>\n",
       "      <td>...</td>\n",
       "      <td>...</td>\n",
       "      <td>...</td>\n",
       "      <td>...</td>\n",
       "      <td>...</td>\n",
       "      <td>...</td>\n",
       "    </tr>\n",
       "    <tr>\n",
       "      <th>2023-12-31 19:00:00</th>\n",
       "      <td>1027.4</td>\n",
       "      <td>-5.85</td>\n",
       "      <td>-2.20</td>\n",
       "      <td>NaN</td>\n",
       "      <td>NaN</td>\n",
       "      <td>76.5</td>\n",
       "      <td>NaN</td>\n",
       "      <td>16.0930</td>\n",
       "      <td>NaN</td>\n",
       "      <td>330.0</td>\n",
       "      <td>NaN</td>\n",
       "      <td>3.60</td>\n",
       "    </tr>\n",
       "    <tr>\n",
       "      <th>2023-12-31 20:00:00</th>\n",
       "      <td>1027.8</td>\n",
       "      <td>-6.10</td>\n",
       "      <td>-3.05</td>\n",
       "      <td>NaN</td>\n",
       "      <td>1.2</td>\n",
       "      <td>79.5</td>\n",
       "      <td>NaN</td>\n",
       "      <td>16.0930</td>\n",
       "      <td>NaN</td>\n",
       "      <td>310.0</td>\n",
       "      <td>NaN</td>\n",
       "      <td>1.50</td>\n",
       "    </tr>\n",
       "    <tr>\n",
       "      <th>2023-12-31 21:00:00</th>\n",
       "      <td>1027.8</td>\n",
       "      <td>-6.95</td>\n",
       "      <td>-4.45</td>\n",
       "      <td>NaN</td>\n",
       "      <td>1.2</td>\n",
       "      <td>83.0</td>\n",
       "      <td>984.30</td>\n",
       "      <td>16.0465</td>\n",
       "      <td>-4.3</td>\n",
       "      <td>150.0</td>\n",
       "      <td>NaN</td>\n",
       "      <td>0.75</td>\n",
       "    </tr>\n",
       "    <tr>\n",
       "      <th>2023-12-31 22:00:00</th>\n",
       "      <td>1028.1</td>\n",
       "      <td>-7.80</td>\n",
       "      <td>-6.10</td>\n",
       "      <td>NaN</td>\n",
       "      <td>NaN</td>\n",
       "      <td>88.0</td>\n",
       "      <td>NaN</td>\n",
       "      <td>16.0930</td>\n",
       "      <td>NaN</td>\n",
       "      <td>330.0</td>\n",
       "      <td>NaN</td>\n",
       "      <td>1.50</td>\n",
       "    </tr>\n",
       "    <tr>\n",
       "      <th>2023-12-31 23:00:00</th>\n",
       "      <td>1028.1</td>\n",
       "      <td>-8.90</td>\n",
       "      <td>-7.80</td>\n",
       "      <td>NaN</td>\n",
       "      <td>0.5</td>\n",
       "      <td>92.0</td>\n",
       "      <td>NaN</td>\n",
       "      <td>16.0930</td>\n",
       "      <td>NaN</td>\n",
       "      <td>330.0</td>\n",
       "      <td>NaN</td>\n",
       "      <td>2.10</td>\n",
       "    </tr>\n",
       "  </tbody>\n",
       "</table>\n",
       "<p>35064 rows × 12 columns</p>\n",
       "</div>"
      ],
      "text/plain": [
       "                     HourlyAltimeterSetting  HourlyDewPointTemperature  \\\n",
       "DATE                                                                     \n",
       "2020-01-01 00:00:00                  1009.8                      -6.95   \n",
       "2020-01-01 01:00:00                  1008.1                      -7.80   \n",
       "2020-01-01 02:00:00                  1007.5                      -7.80   \n",
       "2020-01-01 03:00:00                  1006.8                      -7.80   \n",
       "2020-01-01 04:00:00                  1005.4                      -6.70   \n",
       "...                                     ...                        ...   \n",
       "2023-12-31 19:00:00                  1027.4                      -5.85   \n",
       "2023-12-31 20:00:00                  1027.8                      -6.10   \n",
       "2023-12-31 21:00:00                  1027.8                      -6.95   \n",
       "2023-12-31 22:00:00                  1028.1                      -7.80   \n",
       "2023-12-31 23:00:00                  1028.1                      -8.90   \n",
       "\n",
       "                     HourlyDryBulbTemperature  HourlyPrecipitation  \\\n",
       "DATE                                                                 \n",
       "2020-01-01 00:00:00                     -3.90                  0.0   \n",
       "2020-01-01 01:00:00                     -4.40                  0.0   \n",
       "2020-01-01 02:00:00                     -4.40                  0.0   \n",
       "2020-01-01 03:00:00                     -3.30                  0.0   \n",
       "2020-01-01 04:00:00                     -2.20                  0.0   \n",
       "...                                       ...                  ...   \n",
       "2023-12-31 19:00:00                     -2.20                  NaN   \n",
       "2023-12-31 20:00:00                     -3.05                  NaN   \n",
       "2023-12-31 21:00:00                     -4.45                  NaN   \n",
       "2023-12-31 22:00:00                     -6.10                  NaN   \n",
       "2023-12-31 23:00:00                     -7.80                  NaN   \n",
       "\n",
       "                     HourlyPressureChange  HourlyRelativeHumidity  \\\n",
       "DATE                                                                \n",
       "2020-01-01 00:00:00                  -1.9                    79.5   \n",
       "2020-01-01 01:00:00                   NaN                    77.0   \n",
       "2020-01-01 02:00:00                  -3.4                    77.0   \n",
       "2020-01-01 03:00:00                   NaN                    71.0   \n",
       "2020-01-01 04:00:00                   NaN                    72.0   \n",
       "...                                   ...                     ...   \n",
       "2023-12-31 19:00:00                   NaN                    76.5   \n",
       "2023-12-31 20:00:00                   1.2                    79.5   \n",
       "2023-12-31 21:00:00                   1.2                    83.0   \n",
       "2023-12-31 22:00:00                   NaN                    88.0   \n",
       "2023-12-31 23:00:00                   0.5                    92.0   \n",
       "\n",
       "                     HourlyStationPressure  HourlyVisibility  \\\n",
       "DATE                                                           \n",
       "2020-01-01 00:00:00                 967.55           16.0930   \n",
       "2020-01-01 01:00:00                 965.50           16.0930   \n",
       "2020-01-01 02:00:00                 964.90           16.0930   \n",
       "2020-01-01 03:00:00                 964.20           16.0930   \n",
       "2020-01-01 04:00:00                 962.90           16.0930   \n",
       "...                                    ...               ...   \n",
       "2023-12-31 19:00:00                    NaN           16.0930   \n",
       "2023-12-31 20:00:00                    NaN           16.0930   \n",
       "2023-12-31 21:00:00                 984.30           16.0465   \n",
       "2023-12-31 22:00:00                    NaN           16.0930   \n",
       "2023-12-31 23:00:00                    NaN           16.0930   \n",
       "\n",
       "                     HourlyWetBulbTemperature  HourlyWindDirection  \\\n",
       "DATE                                                                 \n",
       "2020-01-01 00:00:00                      -4.9                195.0   \n",
       "2020-01-01 01:00:00                      -5.5                170.0   \n",
       "2020-01-01 02:00:00                      -5.5                170.0   \n",
       "2020-01-01 03:00:00                      -4.8                150.0   \n",
       "2020-01-01 04:00:00                      -3.7                210.0   \n",
       "...                                       ...                  ...   \n",
       "2023-12-31 19:00:00                       NaN                330.0   \n",
       "2023-12-31 20:00:00                       NaN                310.0   \n",
       "2023-12-31 21:00:00                      -4.3                150.0   \n",
       "2023-12-31 22:00:00                       NaN                330.0   \n",
       "2023-12-31 23:00:00                       NaN                330.0   \n",
       "\n",
       "                     HourlyWindGustSpeed  HourlyWindSpeed  \n",
       "DATE                                                       \n",
       "2020-01-01 00:00:00                  NaN             2.60  \n",
       "2020-01-01 01:00:00                  NaN             2.60  \n",
       "2020-01-01 02:00:00                  NaN             2.60  \n",
       "2020-01-01 03:00:00                  NaN             2.10  \n",
       "2020-01-01 04:00:00                  NaN             3.60  \n",
       "...                                  ...              ...  \n",
       "2023-12-31 19:00:00                  NaN             3.60  \n",
       "2023-12-31 20:00:00                  NaN             1.50  \n",
       "2023-12-31 21:00:00                  NaN             0.75  \n",
       "2023-12-31 22:00:00                  NaN             1.50  \n",
       "2023-12-31 23:00:00                  NaN             2.10  \n",
       "\n",
       "[35064 rows x 12 columns]"
      ]
     },
     "execution_count": 130,
     "metadata": {},
     "output_type": "execute_result"
    }
   ],
   "source": [
    "df_out = pd.concat(dfs, axis=1).drop_duplicates().asfreq('H')\n",
    "del dfs\n",
    "# del df\n",
    "df_out"
   ]
  },
  {
   "cell_type": "code",
   "execution_count": 131,
   "metadata": {},
   "outputs": [],
   "source": [
    "# df['HourlyRelativeHumidity'].fillna(0).iloc[300:700].plot(lw=0.2, marker='o', markersize=2, figsize=(11,3))\n",
    "# df['HourlyRelativeHumidity'].fillna(0).iloc[300:700].plot(lw=0.2, marker='o', markersize=2, figsize=(11,3))"
   ]
  },
  {
   "cell_type": "code",
   "execution_count": 133,
   "metadata": {},
   "outputs": [],
   "source": [
    "# enforce dtypes for df_out\n",
    "# does this need to be done on pre- df_out?  Is post- df_out processing enough?\n",
    "# for col_, type_ in cols_dtypes.items():\n",
    "for col_ in df_out.columns:\n",
    "    type_ = cols_dtypes[col_]\n",
    "    if type_ == 'float64':\n",
    "        df_out[col_] = pd.to_numeric(df_out[col_], errors='coerce')\n",
    "        try:\n",
    "            df_out[col_] = df_out[col_].astype(type_)\n",
    "        except:\n",
    "            pass\n",
    "    elif type_ == 'Int64':\n",
    "        df_out[col_] = pd.to_numeric(df_out[col_], errors='coerce')\n",
    "        try:\n",
    "            df_out[col_] = df_out[col_].astype(type_)\n",
    "        except:\n",
    "            pass\n",
    "#     elif type_ == 'datetime64[s]':\n",
    "#         df_out[col_] = pd.to_datetime(df_out[col_], errors='coerce')\n",
    "#         try:\n",
    "#             df_out[col_] = df_out[col_].astype(type_)\n",
    "#         except:\n",
    "#             pass"
   ]
  },
  {
   "cell_type": "markdown",
   "metadata": {},
   "source": [
    "# Resolve Sunrise/Sunset"
   ]
  },
  {
   "cell_type": "code",
   "execution_count": 134,
   "metadata": {},
   "outputs": [],
   "source": [
    "# apply date_sunrise/sunset to df_out index to create sunrise/sunset columns\n",
    "df_out['Sunrise'] = pd.Series(df_out.index.map(date_sunrise),\n",
    "                              index=df_out.index).ffill().astype('datetime64[s]')\n",
    "df_out['Sunset'] = pd.Series(df_out.index.map(date_sunset),\n",
    "                             index=df_out.index).ffill().astype('datetime64[s]')"
   ]
  },
  {
   "cell_type": "code",
   "execution_count": 135,
   "metadata": {},
   "outputs": [
    {
     "data": {
      "text/html": [
       "<div>\n",
       "<style scoped>\n",
       "    .dataframe tbody tr th:only-of-type {\n",
       "        vertical-align: middle;\n",
       "    }\n",
       "\n",
       "    .dataframe tbody tr th {\n",
       "        vertical-align: top;\n",
       "    }\n",
       "\n",
       "    .dataframe thead th {\n",
       "        text-align: right;\n",
       "    }\n",
       "</style>\n",
       "<table border=\"1\" class=\"dataframe\">\n",
       "  <thead>\n",
       "    <tr style=\"text-align: right;\">\n",
       "      <th></th>\n",
       "      <th>HourlyAltimeterSetting</th>\n",
       "      <th>HourlyDewPointTemperature</th>\n",
       "      <th>HourlyDryBulbTemperature</th>\n",
       "      <th>HourlyPressureChange</th>\n",
       "      <th>HourlyRelativeHumidity</th>\n",
       "      <th>HourlyStationPressure</th>\n",
       "      <th>HourlyWetBulbTemperature</th>\n",
       "      <th>HourlyWindGustSpeed</th>\n",
       "      <th>HourlyWindSpeed</th>\n",
       "    </tr>\n",
       "  </thead>\n",
       "  <tbody>\n",
       "    <tr>\n",
       "      <th>count</th>\n",
       "      <td>34977.000000</td>\n",
       "      <td>34974.000000</td>\n",
       "      <td>34977.000000</td>\n",
       "      <td>17481.000000</td>\n",
       "      <td>34974.0</td>\n",
       "      <td>34878.000000</td>\n",
       "      <td>34874.000000</td>\n",
       "      <td>6651.000000</td>\n",
       "      <td>34861.000000</td>\n",
       "    </tr>\n",
       "    <tr>\n",
       "      <th>mean</th>\n",
       "      <td>1016.471511</td>\n",
       "      <td>4.339591</td>\n",
       "      <td>12.050943</td>\n",
       "      <td>0.000440</td>\n",
       "      <td>63.018099</td>\n",
       "      <td>973.569894</td>\n",
       "      <td>8.195601</td>\n",
       "      <td>12.974051</td>\n",
       "      <td>4.376544</td>\n",
       "    </tr>\n",
       "    <tr>\n",
       "      <th>std</th>\n",
       "      <td>7.490799</td>\n",
       "      <td>11.302829</td>\n",
       "      <td>12.407358</td>\n",
       "      <td>1.500063</td>\n",
       "      <td>19.029542</td>\n",
       "      <td>7.235153</td>\n",
       "      <td>10.603644</td>\n",
       "      <td>2.994208</td>\n",
       "      <td>2.905698</td>\n",
       "    </tr>\n",
       "    <tr>\n",
       "      <th>min</th>\n",
       "      <td>984.350000</td>\n",
       "      <td>-37.200000</td>\n",
       "      <td>-33.900000</td>\n",
       "      <td>-8.700000</td>\n",
       "      <td>10.0</td>\n",
       "      <td>942.575000</td>\n",
       "      <td>-34.000000</td>\n",
       "      <td>7.200000</td>\n",
       "      <td>0.000000</td>\n",
       "    </tr>\n",
       "    <tr>\n",
       "      <th>25%</th>\n",
       "      <td>1011.900000</td>\n",
       "      <td>-4.400000</td>\n",
       "      <td>2.200000</td>\n",
       "      <td>-0.900000</td>\n",
       "      <td>49.0</td>\n",
       "      <td>969.100000</td>\n",
       "      <td>0.000000</td>\n",
       "      <td>10.800000</td>\n",
       "      <td>2.100000</td>\n",
       "    </tr>\n",
       "    <tr>\n",
       "      <th>50%</th>\n",
       "      <td>1016.300000</td>\n",
       "      <td>3.900000</td>\n",
       "      <td>12.650000</td>\n",
       "      <td>0.000000</td>\n",
       "      <td>65.0</td>\n",
       "      <td>973.400000</td>\n",
       "      <td>8.300000</td>\n",
       "      <td>12.400000</td>\n",
       "      <td>4.100000</td>\n",
       "    </tr>\n",
       "    <tr>\n",
       "      <th>75%</th>\n",
       "      <td>1021.000000</td>\n",
       "      <td>15.000000</td>\n",
       "      <td>22.200000</td>\n",
       "      <td>0.900000</td>\n",
       "      <td>79.0</td>\n",
       "      <td>978.000000</td>\n",
       "      <td>17.800000</td>\n",
       "      <td>14.400000</td>\n",
       "      <td>6.200000</td>\n",
       "    </tr>\n",
       "    <tr>\n",
       "      <th>max</th>\n",
       "      <td>1044.000000</td>\n",
       "      <td>27.200000</td>\n",
       "      <td>40.600000</td>\n",
       "      <td>11.800000</td>\n",
       "      <td>100.0</td>\n",
       "      <td>1000.200000</td>\n",
       "      <td>29.300000</td>\n",
       "      <td>31.933333</td>\n",
       "      <td>17.833333</td>\n",
       "    </tr>\n",
       "  </tbody>\n",
       "</table>\n",
       "</div>"
      ],
      "text/plain": [
       "       HourlyAltimeterSetting  HourlyDewPointTemperature  \\\n",
       "count            34977.000000               34974.000000   \n",
       "mean              1016.471511                   4.339591   \n",
       "std                  7.490799                  11.302829   \n",
       "min                984.350000                 -37.200000   \n",
       "25%               1011.900000                  -4.400000   \n",
       "50%               1016.300000                   3.900000   \n",
       "75%               1021.000000                  15.000000   \n",
       "max               1044.000000                  27.200000   \n",
       "\n",
       "       HourlyDryBulbTemperature  HourlyPressureChange  HourlyRelativeHumidity  \\\n",
       "count              34977.000000          17481.000000                 34974.0   \n",
       "mean                  12.050943              0.000440               63.018099   \n",
       "std                   12.407358              1.500063               19.029542   \n",
       "min                  -33.900000             -8.700000                    10.0   \n",
       "25%                    2.200000             -0.900000                    49.0   \n",
       "50%                   12.650000              0.000000                    65.0   \n",
       "75%                   22.200000              0.900000                    79.0   \n",
       "max                   40.600000             11.800000                   100.0   \n",
       "\n",
       "       HourlyStationPressure  HourlyWetBulbTemperature  HourlyWindGustSpeed  \\\n",
       "count           34878.000000              34874.000000          6651.000000   \n",
       "mean              973.569894                  8.195601            12.974051   \n",
       "std                 7.235153                 10.603644             2.994208   \n",
       "min               942.575000                -34.000000             7.200000   \n",
       "25%               969.100000                  0.000000            10.800000   \n",
       "50%               973.400000                  8.300000            12.400000   \n",
       "75%               978.000000                 17.800000            14.400000   \n",
       "max              1000.200000                 29.300000            31.933333   \n",
       "\n",
       "       HourlyWindSpeed  \n",
       "count     34861.000000  \n",
       "mean          4.376544  \n",
       "std           2.905698  \n",
       "min           0.000000  \n",
       "25%           2.100000  \n",
       "50%           4.100000  \n",
       "75%           6.200000  \n",
       "max          17.833333  "
      ]
     },
     "execution_count": 135,
     "metadata": {},
     "output_type": "execute_result"
    }
   ],
   "source": [
    "df_stats_post = df_out[df_stats_pre.columns].describe()\n",
    "df_stats_post"
   ]
  },
  {
   "cell_type": "code",
   "execution_count": 136,
   "metadata": {},
   "outputs": [
    {
     "data": {
      "text/html": [
       "<div>\n",
       "<style scoped>\n",
       "    .dataframe tbody tr th:only-of-type {\n",
       "        vertical-align: middle;\n",
       "    }\n",
       "\n",
       "    .dataframe tbody tr th {\n",
       "        vertical-align: top;\n",
       "    }\n",
       "\n",
       "    .dataframe thead th {\n",
       "        text-align: right;\n",
       "    }\n",
       "</style>\n",
       "<table border=\"1\" class=\"dataframe\">\n",
       "  <thead>\n",
       "    <tr style=\"text-align: right;\">\n",
       "      <th></th>\n",
       "      <th>Source Mean</th>\n",
       "      <th>Processed Mean</th>\n",
       "      <th>% Difference</th>\n",
       "    </tr>\n",
       "  </thead>\n",
       "  <tbody>\n",
       "    <tr>\n",
       "      <th>HourlyAltimeterSetting</th>\n",
       "      <td>1016.13</td>\n",
       "      <td>1016.47</td>\n",
       "      <td>0.0</td>\n",
       "    </tr>\n",
       "    <tr>\n",
       "      <th>HourlyDewPointTemperature</th>\n",
       "      <td>4.49</td>\n",
       "      <td>4.34</td>\n",
       "      <td>-3.3</td>\n",
       "    </tr>\n",
       "    <tr>\n",
       "      <th>HourlyDryBulbTemperature</th>\n",
       "      <td>11.44</td>\n",
       "      <td>12.05</td>\n",
       "      <td>5.3</td>\n",
       "    </tr>\n",
       "    <tr>\n",
       "      <th>HourlyPressureChange</th>\n",
       "      <td>0.00</td>\n",
       "      <td>0.0</td>\n",
       "      <td>0.0</td>\n",
       "    </tr>\n",
       "    <tr>\n",
       "      <th>HourlyRelativeHumidity</th>\n",
       "      <td>66.18</td>\n",
       "      <td>63.02</td>\n",
       "      <td>-4.8</td>\n",
       "    </tr>\n",
       "    <tr>\n",
       "      <th>HourlyStationPressure</th>\n",
       "      <td>973.28</td>\n",
       "      <td>973.57</td>\n",
       "      <td>0.0</td>\n",
       "    </tr>\n",
       "    <tr>\n",
       "      <th>HourlyWetBulbTemperature</th>\n",
       "      <td>7.98</td>\n",
       "      <td>8.2</td>\n",
       "      <td>2.8</td>\n",
       "    </tr>\n",
       "    <tr>\n",
       "      <th>HourlyWindGustSpeed</th>\n",
       "      <td>13.33</td>\n",
       "      <td>12.97</td>\n",
       "      <td>-2.7</td>\n",
       "    </tr>\n",
       "    <tr>\n",
       "      <th>HourlyWindSpeed</th>\n",
       "      <td>4.50</td>\n",
       "      <td>4.38</td>\n",
       "      <td>-2.7</td>\n",
       "    </tr>\n",
       "  </tbody>\n",
       "</table>\n",
       "</div>"
      ],
      "text/plain": [
       "                           Source Mean  Processed Mean  % Difference\n",
       "HourlyAltimeterSetting         1016.13         1016.47           0.0\n",
       "HourlyDewPointTemperature         4.49            4.34          -3.3\n",
       "HourlyDryBulbTemperature         11.44           12.05           5.3\n",
       "HourlyPressureChange              0.00             0.0           0.0\n",
       "HourlyRelativeHumidity           66.18           63.02          -4.8\n",
       "HourlyStationPressure           973.28          973.57           0.0\n",
       "HourlyWetBulbTemperature          7.98             8.2           2.8\n",
       "HourlyWindGustSpeed              13.33           12.97          -2.7\n",
       "HourlyWindSpeed                   4.50            4.38          -2.7"
      ]
     },
     "execution_count": 136,
     "metadata": {},
     "output_type": "execute_result"
    }
   ],
   "source": [
    "df_mean_comp = pd.concat([df_stats_pre.loc['mean'].T, df_stats_post.loc['mean'].T],\n",
    "                         axis=1, keys=['Source Mean', 'Processed Mean']).round(2)\n",
    "df_mean_comp['% Difference'] = df_mean_comp.pct_change(axis=1).iloc[:,-1]\\\n",
    "                                .mul(100).fillna(0).round(1)\n",
    "df_mean_comp"
   ]
  },
  {
   "cell_type": "code",
   "execution_count": 137,
   "metadata": {},
   "outputs": [
    {
     "data": {
      "text/plain": [
       "-0.6000000000000001"
      ]
     },
     "execution_count": 137,
     "metadata": {},
     "output_type": "execute_result"
    }
   ],
   "source": [
    "df_mean_comp['% Difference'].mean()"
   ]
  },
  {
   "cell_type": "code",
   "execution_count": 138,
   "metadata": {},
   "outputs": [
    {
     "data": {
      "text/plain": [
       "0.04220432878694552"
      ]
     },
     "execution_count": 138,
     "metadata": {},
     "output_type": "execute_result"
    }
   ],
   "source": [
    "# TO-DO:  Overall pre- post- statistics check\n",
    "df_stats_pre.sub(df_stats_post).div(df_stats_pre).mean().mean()\n",
    "# df_stats_pre.pct_change(df_stats_post)\n",
    "# df_stats_pre.eq(df_stats_post).sum().sum()\n",
    "# df_stats_pre.size"
   ]
  },
  {
   "cell_type": "code",
   "execution_count": 139,
   "metadata": {},
   "outputs": [],
   "source": [
    "# add column to document hourly obervations where no source data was provided.\n",
    "df_out['No source data'] = df_out.index.isin(idx_hours_no_source_data)"
   ]
  },
  {
   "cell_type": "code",
   "execution_count": 140,
   "metadata": {},
   "outputs": [
    {
     "data": {
      "image/png": "[encoded data removed]",
      "text/plain": [
       "<Figure size 1100x300 with 1 Axes>"
      ]
     },
     "metadata": {},
     "output_type": "display_data"
    }
   ],
   "source": [
    "if is_development:\n",
    "#     df_out[cols_sunrise_sunset].diff(axis=1).iloc[:,-1].dt.total_seconds().div(3600).plot()\n",
    "    df_out[cols_sunrise_sunset].diff(axis=1).iloc[:,-1].div(3600).plot(\n",
    "        title = 'Duration of Daylight', figsize = (11,3))"
   ]
  },
  {
   "cell_type": "markdown",
   "metadata": {},
   "source": [
    "### Optional Frequency Resample"
   ]
  },
  {
   "cell_type": "code",
   "execution_count": 146,
   "metadata": {},
   "outputs": [],
   "source": [
    "# # create dictionary 'col_resample_policy' to manually guide the resolution of null values by column\n",
    "# # in general, data that is expected to have a non-zero/non-null reading at all times\n",
    "# # will have nulls filled through interpolation.  Data that normally has 0 or null readings\n",
    "# # like 'HourlyPrecipitation' will have null values filled with 0 in the interest of having\n",
    "# # a 100% clean dataset to facilitate manual analysis.\n",
    "col_resample_policy = {'HourlyAltimeterSetting': 'mean',\n",
    " 'HourlyDewPointTemperature': 'mean',\n",
    " 'HourlyDryBulbTemperature': 'mean',\n",
    " 'HourlyPrecipitation': 'mean',\n",
    " 'HourlyPressureChange': 'mean',\n",
    " 'HourlyRelativeHumidity': 'mean',\n",
    " 'HourlyStationPressure': 'mean',\n",
    " 'HourlyVisibility': 'mean',\n",
    " 'HourlyWetBulbTemperature': 'mean',\n",
    " 'HourlyWindDirection': 'mean',\n",
    " 'HourlyWindGustSpeed': 'mean',\n",
    " 'HourlyWindSpeed': 'mean',\n",
    " 'Sunrise': pd.Series.mode,\n",
    " 'Sunset': pd.Series.mode}\n",
    "# # keep only items with corresponding column in df_out\n",
    "col_resample_policy = {k : v for k, v in col_resample_policy.items() if k in df_out.columns}\n",
    "# # assert len(df.columns.intersection(col_resample_policy.keys())) == df.shape[1]"
   ]
  },
  {
   "cell_type": "code",
   "execution_count": 150,
   "metadata": {},
   "outputs": [
    {
     "data": {
      "text/plain": [
       "<Axes: xlabel='Sunrise'>"
      ]
     },
     "execution_count": 150,
     "metadata": {},
     "output_type": "execute_result"
    },
    {
     "data": {
      "image/png": "[encoded data removed]",
      "text/plain": [
       "<Figure size 640x480 with 1 Axes>"
      ]
     },
     "metadata": {},
     "output_type": "display_data"
    }
   ],
   "source": [
    "df_out['Sunrise'].dt.time.value_counts().sort_index().plot()"
   ]
  },
  {
   "cell_type": "code",
   "execution_count": null,
   "metadata": {},
   "outputs": [],
   "source": [
    "if df_out.index.freqstr != freqstr:\n",
    "    for col_ in df_out.columns.intersection(cols_data)\n",
    "    \n",
    "    df_out = df_out.resample()"
   ]
  },
  {
   "cell_type": "code",
   "execution_count": null,
   "metadata": {},
   "outputs": [],
   "source": [
    "# df.agg(col_null_policy).astype(cols_dtypes)\n",
    "# df.agg(col_null_policy).isna().sum()"
   ]
  },
  {
   "cell_type": "code",
   "execution_count": null,
   "metadata": {},
   "outputs": [],
   "source": [
    "# transform remaining null values per the 'col_null_policy'\n",
    "# df = df.agg(col_null_policy).astype(cols_dtypes)\n",
    "# display(pd.DataFrame({'Percent N/A': df.isnull().sum().divide(len(df))\\\n",
    "#                       .round(3)}).apply(lambda n: '{:,.1%}'.format(n)))"
   ]
  },
  {
   "cell_type": "code",
   "execution_count": null,
   "metadata": {},
   "outputs": [],
   "source": [
    "#     Check what percentage of data has null data and print to screen\n",
    "df_pct_null_data_post = pd.DataFrame({'Percent N/A': df_out.isnull().sum().divide(len(df_out)).round(3)})\n",
    "df_pct_null_data_post_formatted = df_pct_null_data_post['Percent N/A'].apply(lambda n: '{:,.1%}'.format(n))\n",
    "display(df_pct_null_data_post_formatted.rename(index = col_rename_remove_hourly))"
   ]
  },
  {
   "cell_type": "code",
   "execution_count": null,
   "metadata": {},
   "outputs": [],
   "source": [
    "display(df_pct_null_data_pre_formatted.rename(index=col_rename_remove_hourly))"
   ]
  },
  {
   "cell_type": "code",
   "execution_count": null,
   "metadata": {},
   "outputs": [],
   "source": [
    "df_pct_null_data_pre_formatted"
   ]
  },
  {
   "cell_type": "code",
   "execution_count": null,
   "metadata": {},
   "outputs": [],
   "source": [
    "for col_ in df.columns:\n",
    "    print(col_)\n",
    "    df[col_].resample(freqstr)"
   ]
  },
  {
   "cell_type": "code",
   "execution_count": null,
   "metadata": {},
   "outputs": [],
   "source": [
    "df.dtypes"
   ]
  },
  {
   "cell_type": "code",
   "execution_count": null,
   "metadata": {},
   "outputs": [],
   "source": [
    "pd.to_numeric(df['HourlyVisibility'])"
   ]
  },
  {
   "cell_type": "code",
   "execution_count": null,
   "metadata": {},
   "outputs": [],
   "source": [
    "pd.to_datetime(df['Sunrise'])"
   ]
  },
  {
   "cell_type": "code",
   "execution_count": null,
   "metadata": {},
   "outputs": [],
   "source": [
    "df.resample(freqstr).mean()"
   ]
  },
  {
   "cell_type": "code",
   "execution_count": null,
   "metadata": {},
   "outputs": [],
   "source": [
    "#     Resample data to produce evenly spaced interval data\n",
    "# df = df.resample(freqstr).median()\n",
    "df = df.resample(freqstr).mean()"
   ]
  },
  {
   "cell_type": "markdown",
   "metadata": {},
   "source": [
    "### Quality Control"
   ]
  },
  {
   "cell_type": "markdown",
   "metadata": {},
   "source": [
    "#### No duplicate records"
   ]
  },
  {
   "cell_type": "markdown",
   "metadata": {},
   "source": [
    "#### Complete and consistent timestamps"
   ]
  },
  {
   "cell_type": "markdown",
   "metadata": {},
   "source": [
    "#### correct dtypes"
   ]
  },
  {
   "cell_type": "markdown",
   "metadata": {},
   "source": [
    "#### Nan values only in columns permitted to have NaN"
   ]
  },
  {
   "cell_type": "markdown",
   "metadata": {},
   "source": [
    "## Create Additional Columns (not implemented)"
   ]
  },
  {
   "cell_type": "code",
   "execution_count": null,
   "metadata": {},
   "outputs": [],
   "source": [
    "# #     assign seasons to df in new 'season' column\n",
    "#     df = weather_assign_season(df)\n",
    "# #     assign weekend or weekday tag to each day\n",
    "#     df['weekday'] = 'weekday'\n",
    "#     df.loc[~df.index.weekday.isin(list(range(0,5))),'weekday'] = 'weekend'\n",
    "#     df['weekday'] = df['weekday'].astype('category')   # keep memory size to a minimum\n",
    "# #     Add True/False Peak Coincident column\n",
    "#     df = is_month_and_hour_in_list(df, new_column='Peak Coincident', months=[6,7,8,9],hours=[14,15,16,17])\n",
    "# #     Add holiday True/False:\n",
    "#     years = list(df.index.year.unique())\n",
    "#     try:\n",
    "#         holiday_dates = generate_list_of_holidays(years=years)\n",
    "#         holiday_YMD = []\n",
    "#         for d in holiday_dates:\n",
    "#             holiday_YMD.append(datetime.datetime(d.year, d.month, d.day).date())\n",
    "#         df['holiday'] = [dat in holiday_YMD for dat in df.index.date]\n",
    "# #         alternatively:\n",
    "# # holiday_dates = generate_list_of_holidays(years=df.index.year.unique().to_list())\n",
    "# # df['Date_copy_delete'] = df.index.date.copy()\n",
    "# # df['holiday'] = df.Date_copy_delete.apply(lambda date: date in holiday_dates)\n",
    "# # df.drop(columns=['Date_copy_delete'], inplace=True)\n",
    "#     except:\n",
    "#         print(\"Holidays were not tagged.  Veritfy it 'Holidays' python package is installed\")\n",
    "# #     Add temperature bins\n",
    "#     temp_bins = list(range(-30,110,5))\n",
    "#     df['DryBulbTemperature_bin'] = pd.cut(df['HourlyDryBulbTemperature'],bins=temp_bins)"
   ]
  },
  {
   "cell_type": "markdown",
   "metadata": {},
   "source": [
    "### Export df to Disk"
   ]
  },
  {
   "cell_type": "markdown",
   "metadata": {},
   "source": [
    "#### Rename Columns - remove 'hourly' from names"
   ]
  },
  {
   "cell_type": "code",
   "execution_count": null,
   "metadata": {},
   "outputs": [],
   "source": []
  },
  {
   "cell_type": "markdown",
   "metadata": {},
   "source": [
    "#### Name export file "
   ]
  },
  {
   "cell_type": "code",
   "execution_count": null,
   "metadata": {},
   "outputs": [],
   "source": [
    "# city = input(\"Input city or project name:  \")\n",
    "# export_name = \"{}_\".format(city) + start_str + \"_to_\" + end_str + f\"_{df.index.freqstr}.csv\"\n",
    "# export_name"
   ]
  },
  {
   "cell_type": "code",
   "execution_count": null,
   "metadata": {},
   "outputs": [],
   "source": [
    "file_output_format.format(STATION_NAME = 'billy',\n",
    "                         )"
   ]
  },
  {
   "cell_type": "code",
   "execution_count": null,
   "metadata": {},
   "outputs": [],
   "source": [
    "file_out_name = f\"{station_details['']city) + start_str + \"_to_\" + end_str + f\"_{df.index.freqstr}.csv\"\n",
    "file_out = dir_cwd / file_out_name\n",
    "file_out_name"
   ]
  },
  {
   "cell_type": "code",
   "execution_count": null,
   "metadata": {},
   "outputs": [],
   "source": [
    "# os.path.join(os.path.dirname(file),export_name)"
   ]
  },
  {
   "cell_type": "code",
   "execution_count": null,
   "metadata": {},
   "outputs": [],
   "source": [
    "[col.replace('Hourly','') for col in df.columns]"
   ]
  },
  {
   "cell_type": "code",
   "execution_count": null,
   "metadata": {},
   "outputs": [],
   "source": [
    "df.columns"
   ]
  },
  {
   "cell_type": "code",
   "execution_count": null,
   "metadata": {},
   "outputs": [],
   "source": [
    "df.to_csv(os.path.join(os.path.dirname(file),export_name))\n",
    "# os.path.join(os.path.dirname(directory),f'All_M_V_data {todays_date}.csv')"
   ]
  },
  {
   "cell_type": "markdown",
   "metadata": {},
   "source": [
    "# END"
   ]
  }
 ],
 "metadata": {
  "anaconda-cloud": {},
  "kernelspec": {
   "display_name": "NOAA_weather",
   "language": "python",
   "name": "noaa_weather"
  },
  "language_info": {
   "codemirror_mode": {
    "name": "ipython",
    "version": 3
   },
   "file_extension": ".py",
   "mimetype": "text/x-python",
   "name": "python",
   "nbconvert_exporter": "python",
   "pygments_lexer": "ipython3",
   "version": "3.8.10"
  }
 },
 "nbformat": 4,
 "nbformat_minor": 1
}
