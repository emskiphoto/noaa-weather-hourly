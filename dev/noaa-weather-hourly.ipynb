{
 "cells": [
  {
   "cell_type": "markdown",
   "metadata": {},
   "source": [
    "# noaa-weather-hourly\n",
    "This script cleans and formats a manually downloaded National Oceanic and Atmospheric Administration (NOAA) Local Climatological Data (LCD) CSV weather file.  \n",
    "\n",
    "This is the jupyter notebook development version of the script.  This script is converted to a .py file in the final published version.\n",
    "\n",
    " __Originated From:__\n",
    "https://github.com/emskiphoto/Process-historical-NOAA-LCD-weather<BR>\n",
    "    \n",
    "Copyright Matt Chmielewski<BR>\n",
    "https://github.com/emskiphoto/noaa-weather-hourly<BR>\n",
    "January 1, 2025"
   ]
  },
  {
   "cell_type": "markdown",
   "metadata": {},
   "source": [
    "### Load Python packages"
   ]
  },
  {
   "cell_type": "code",
   "execution_count": 1,
   "metadata": {},
   "outputs": [],
   "source": [
    "# direct the jupyter notebook development script to add package path to PYTHONPATH\n",
    "# to allow for loading of source modules.\n",
    "import sys\n",
    "sys.path.append('../noaa-weather-hourly')"
   ]
  },
  {
   "cell_type": "code",
   "execution_count": 2,
   "metadata": {},
   "outputs": [],
   "source": [
    "# import modules specific to this package \n",
    "from config import *\n",
    "from utils import *"
   ]
  },
  {
   "cell_type": "code",
   "execution_count": 3,
   "metadata": {},
   "outputs": [],
   "source": [
    "import pandas as pd\n",
    "import csv\n",
    "import pathlib\n",
    "import re\n",
    "# turn off Jedi autocomplete (that was causing more problems than benefits post Win10 update 3-13-2020)\n",
    "%config Completer.use_jedi = False "
   ]
  },
  {
   "cell_type": "markdown",
   "metadata": {},
   "source": [
    "### Parameters - Store in config.py"
   ]
  },
  {
   "cell_type": "code",
   "execution_count": 34,
   "metadata": {},
   "outputs": [],
   "source": [
    "# turn on development mode to enable visualizations and other intermittent\n",
    "# quality checks that aren't avaiable in the final version\n",
    "is_development = True\n",
    "# is_development = False"
   ]
  },
  {
   "cell_type": "markdown",
   "metadata": {},
   "source": [
    "### Command Line Arguments\n",
    "Which arguments can be provided in the command line?"
   ]
  },
  {
   "cell_type": "code",
   "execution_count": 35,
   "metadata": {},
   "outputs": [
    {
     "data": {
      "text/plain": [
       "('', '30T')"
      ]
     },
     "execution_count": 35,
     "metadata": {},
     "output_type": "execute_result"
    }
   ],
   "source": [
    "filename, freqstr"
   ]
  },
  {
   "cell_type": "code",
   "execution_count": 36,
   "metadata": {},
   "outputs": [],
   "source": [
    "freqstr = '30T'"
   ]
  },
  {
   "cell_type": "markdown",
   "metadata": {},
   "source": [
    "## Locations"
   ]
  },
  {
   "cell_type": "code",
   "execution_count": 37,
   "metadata": {},
   "outputs": [
    {
     "data": {
      "text/plain": [
       "WindowsPath('C:/Users/user/OneDrive/python_envs/noaa-weather-hourly-cli/dev')"
      ]
     },
     "execution_count": 37,
     "metadata": {},
     "output_type": "execute_result"
    }
   ],
   "source": [
    "dir_cwd = pathlib.Path.cwd()\n",
    "dir_cwd"
   ]
  },
  {
   "cell_type": "code",
   "execution_count": 38,
   "metadata": {},
   "outputs": [],
   "source": [
    "# using 'data' within 'dev' folder - potentially different from 'data' in package folder\n",
    "# dir_data should be dir_cwd in production script\n",
    "if is_development:\n",
    "    dir_data = dir_cwd / 'data'\n",
    "else:\n",
    "    dir_data = dir_cwd\n",
    "assert dir_data.is_dir()"
   ]
  },
  {
   "cell_type": "markdown",
   "metadata": {},
   "source": [
    "#### Are there any .CSV files of any naming format?\n",
    "If not, stop the script, there is nothing to do without the local .csv's."
   ]
  },
  {
   "cell_type": "code",
   "execution_count": 39,
   "metadata": {},
   "outputs": [],
   "source": [
    "# pretty name of directory\n",
    "dir_data_posix = dir_data.as_posix()\n",
    "# list of all .csv files in dir_data\n",
    "dir_data_csv_files = sorted([f_.name for f_ in dir_data.glob('*.csv') if f_.is_file()])"
   ]
  },
  {
   "cell_type": "code",
   "execution_count": 40,
   "metadata": {},
   "outputs": [],
   "source": [
    "# if 'filename' was provided, work with that .csv.\n",
    "# if 'filename' was not provided, review available .csv's.\n",
    "# if some .csv files are present, continue.  \n",
    "# Otherwise halt process and inform user.\n",
    "if filename == '':\n",
    "    try:\n",
    "        assert len(dir_data_csv_files) >= 1\n",
    "    except:\n",
    "        message_ = message_no_csv_files_found.format(\n",
    "            dir_data_posix = dir_data_posix)\n",
    "        print(message_)\n",
    "    #     assert\n",
    "        raise\n",
    "# elif filename != '':\n",
    "    \n",
    "# string version of list of all csv files\n",
    "dir_data_csv_files_str = ', '.join(dir_data_csv_files)"
   ]
  },
  {
   "cell_type": "markdown",
   "metadata": {},
   "source": [
    "### Locate LCD .CSV file(s) 'files_lcd_input'\n",
    "This script is intended to be executed from a terminal command line.  The LCD input file(s) are expected to be saved in the same directory that the command line is executed in.  The file name(s) are expected to match the pattern associated with multiple LCD file versions in 'patterns_lcd_input_files' (two versions currently).  However, if a file(s) with this pattern is not identifed, do NOT attempt to use any non-matching .CSV file in the same directory.  Inform user that no matching file was found and no files will be opened or created.\n",
    "\n",
    "The benefits of this approach are:\n",
    "1. code will not mistakenly use non-LCD files\n",
    "2. User can be sloppy (or organized) with their LCD file storage.  New source files and output files can simply be accumulated in the same folder with no data loss.\n",
    "3. Simple command line requires no mandatory input, only optional frequency and parameter setting inputs."
   ]
  },
  {
   "cell_type": "markdown",
   "metadata": {},
   "source": [
    "### which version of LCD files are avaialble and which are the most recent?\n",
    "1. find all files that match v1 or v2 naming\n",
    "2. find the most recent file\n",
    "3. Determine if most recent file is v1 or v2 format 'lcd_version'\n",
    "4. see if there is more than one file with the same station ID\n",
    "5. create list 'files_lcd' with one or more lcd files of same station id "
   ]
  },
  {
   "cell_type": "code",
   "execution_count": 41,
   "metadata": {},
   "outputs": [
    {
     "data": {
      "text/plain": [
       "{1: [WindowsPath('C:/Users/user/OneDrive/python_envs/noaa-weather-hourly-cli/dev/data/3876540.csv'),\n",
       "  WindowsPath('C:/Users/user/OneDrive/python_envs/noaa-weather-hourly-cli/dev/data/3875753.csv')],\n",
       " 2: [WindowsPath('C:/Users/user/OneDrive/python_envs/noaa-weather-hourly-cli/dev/data/LCD_FRI0000LFPG_2003.csv'),\n",
       "  WindowsPath('C:/Users/user/OneDrive/python_envs/noaa-weather-hourly-cli/dev/data/LCD_USW00094846_2023.csv'),\n",
       "  WindowsPath('C:/Users/user/OneDrive/python_envs/noaa-weather-hourly-cli/dev/data/LCD_USW00094846_2022.csv'),\n",
       "  WindowsPath('C:/Users/user/OneDrive/python_envs/noaa-weather-hourly-cli/dev/data/LCD_USW00094846_2021.csv'),\n",
       "  WindowsPath('C:/Users/user/OneDrive/python_envs/noaa-weather-hourly-cli/dev/data/LCD_USW00094846_2020.csv')]}"
      ]
     },
     "execution_count": 41,
     "metadata": {},
     "output_type": "execute_result"
    }
   ],
   "source": [
    "# 1. find all files that match v1 or v2 naming and sort by last modified date descending\n",
    "# create 'version_files' dictionary with LCD version number as key and list of matching \n",
    "# files as values\n",
    "version_files = {v_ : find_files_re_pattern_sorted_last_modified(dir_data, pattern_) for\n",
    "                 v_, pattern_ in version_pattern_lcd_input.items()}\n",
    "version_files"
   ]
  },
  {
   "cell_type": "code",
   "execution_count": 42,
   "metadata": {},
   "outputs": [],
   "source": [
    "# what if no files were found?  \n",
    "# return message and halt process\n",
    "# which files matched lcd patterns, regardless of version or date?\n",
    "# files_pattern_match = [x for xs in version_files.values() for x in xs]\n",
    "files_pattern_match = [x for xs in version_files.values() for x in xs]\n",
    "try:\n",
    "    assert len(files_pattern_match) >= 1\n",
    "except:\n",
    "    message_ = message_no_lcd_files_found.format(dir_data_posix = dir_data_posix,\n",
    "                                 patterns_lcd_examples_str = patterns_lcd_examples_str,\n",
    "                                dir_data_csv_files_str = dir_data_csv_files_str)\n",
    "    print(message_)\n",
    "#     assert\n",
    "    raise"
   ]
  },
  {
   "cell_type": "code",
   "execution_count": 43,
   "metadata": {},
   "outputs": [
    {
     "data": {
      "text/plain": [
       "{1: WindowsPath('C:/Users/user/OneDrive/python_envs/noaa-weather-hourly-cli/dev/data/3876540.csv'),\n",
       " 2: WindowsPath('C:/Users/user/OneDrive/python_envs/noaa-weather-hourly-cli/dev/data/LCD_FRI0000LFPG_2003.csv')}"
      ]
     },
     "execution_count": 43,
     "metadata": {},
     "output_type": "execute_result"
    }
   ],
   "source": [
    "# find most recently modified file by lcd version\n",
    "version_file_last_modified = {version_ : files_[0] for version_, files_ in version_files.items()}\n",
    "version_file_last_modified"
   ]
  },
  {
   "cell_type": "code",
   "execution_count": 44,
   "metadata": {},
   "outputs": [],
   "source": [
    "# 2. find the most recent file\n",
    "file_last_modified = sorted([(f, f.stat().st_mtime) for\n",
    "                  f in version_file_last_modified.values()],\n",
    "           key=lambda x: x[1], reverse=True)[0][0]\n",
    "# 3. Determine if most recent file is v1 or v2 format 'lcd_version'\n",
    "# versions start with '1' so need to add 1 to zero-indexed list\n",
    "lcd_version = list(version_file_last_modified.values())\\\n",
    "                            .index(file_last_modified) + 1\n",
    "# file_last_modified, lcd_version"
   ]
  },
  {
   "cell_type": "code",
   "execution_count": 45,
   "metadata": {},
   "outputs": [],
   "source": [
    "# make sure we have the right version\n",
    "assert file_last_modified in version_files[lcd_version]"
   ]
  },
  {
   "cell_type": "markdown",
   "metadata": {},
   "source": [
    "### Group LCD .CSV input file(s) as 'files_lcd_input'"
   ]
  },
  {
   "cell_type": "code",
   "execution_count": 46,
   "metadata": {},
   "outputs": [],
   "source": [
    "# 4. see if there is more than one file that has the same station ID\n",
    "# as found in 'file_last_modified'\n",
    "# This requires extraction of a unique identifier in LCD file name that is common to\n",
    "# other LCD files for same location (but probably different dates).  \n",
    "\n",
    "# Note that only the LCD v2 files need to be grouped.  LCD v1 files are \n",
    "# delivered with multi-year date ranges (if requested) while LCD v2\n",
    "# files are for discrete calendar years (or less), for example 'LCD_USW00014939_2020.csv'.  \n",
    "\n",
    "# Grouping LCD v1 files could be implemented, but this would require cooperation\n",
    "# from the user in terms of renaming the LCD v1 files in a specific format.\n",
    "# LCD v1 files are delivered with the same name ('3876540.csv') regardless\n",
    "# of date range of data in file.    "
   ]
  },
  {
   "cell_type": "code",
   "execution_count": 47,
   "metadata": {},
   "outputs": [],
   "source": [
    "# files_lcd_input - empty list to hold final, qualified selection of LCD input files\n",
    "files_lcd_input = []\n",
    "# different treatment for v2 LCD files\n",
    "if lcd_version == 2:\n",
    "# extract id_file_lcd2 as the blob of characters between first and second '_'\n",
    "# reference 'LCD_USW00014939_2023.csv'\n",
    "    id_file_lcd2 = file_last_modified.name.split('_')[1]\n",
    "#     which files contain id for the current lcd_version?\n",
    "    files_ = [file_ for file_ in version_files[lcd_version] if id_file_lcd2 in file_.name]\n",
    "    files_lcd_input.extend(files_)\n",
    "#     print('v2')\n",
    "else:\n",
    "    files_lcd_input.extend(file_last_modified)"
   ]
  },
  {
   "cell_type": "code",
   "execution_count": 48,
   "metadata": {},
   "outputs": [],
   "source": [
    "# string version of filenames from files_lcd_input as vertical list\n",
    "files_lcd_input_names_str = \"\\n\".join([f_.name for f_ in files_lcd_input])\n",
    "# files_lcd_input_names_str"
   ]
  },
  {
   "cell_type": "markdown",
   "metadata": {},
   "source": [
    "#### Which columns are present by file in files_lcd_input?"
   ]
  },
  {
   "cell_type": "code",
   "execution_count": 49,
   "metadata": {},
   "outputs": [],
   "source": [
    "# read only headers of each file in files_lcd_input\n",
    "files_columns = {}\n",
    "for file_ in files_lcd_input:\n",
    "    try:\n",
    "#         this is 30x faster than pd.read_csv(file_, index_col=0, nrows=0).columns.tolist()\n",
    "        with open(file_, 'r') as infile:\n",
    "            reader = csv.DictReader(infile)\n",
    "            fieldnames = reader.fieldnames\n",
    "        files_columns[file_] = sorted(fieldnames)\n",
    "    except:\n",
    "        continue"
   ]
  },
  {
   "cell_type": "markdown",
   "metadata": {},
   "source": [
    "### Create files_usecols containing validated files\n",
    "and columns to be used\n",
    "_validation for each file:_\n",
    "* is their a 'DATE' column?\n",
    "* is at least one of the `cols_data` columns available?\n",
    "* keep only columns found in `cols_noaa_processed`"
   ]
  },
  {
   "cell_type": "markdown",
   "metadata": {},
   "source": [
    "#### Is 'DATE' available for every file in files_lcd_input?"
   ]
  },
  {
   "cell_type": "code",
   "execution_count": 50,
   "metadata": {},
   "outputs": [],
   "source": [
    "# keep only files that have a 'DATE' column - otherwise where is this data supposed to go?\n",
    "files_usecols = {file_ : cols_ for file_, cols_ in files_columns.items()\n",
    "                 if 'DATE' in cols_}"
   ]
  },
  {
   "cell_type": "markdown",
   "metadata": {},
   "source": [
    "#### Keep only files that have at least one cols_data column"
   ]
  },
  {
   "cell_type": "code",
   "execution_count": 51,
   "metadata": {},
   "outputs": [],
   "source": [
    "files_usecols = {file_ : cols_ for file_, cols_ in files_usecols.items()\n",
    "                 if len(set(cols_).intersection(set(cols_data))) >=1}"
   ]
  },
  {
   "cell_type": "code",
   "execution_count": 52,
   "metadata": {},
   "outputs": [],
   "source": [
    "# reduce files_usecols to only columns used in this process\n",
    "files_usecols = {file_ : sorted(set(cols_noaa_processed).intersection(set(cols_))) for\n",
    "                 file_, cols_ in files_usecols.items()}"
   ]
  },
  {
   "cell_type": "markdown",
   "metadata": {},
   "source": [
    "### Create df from files_usecols"
   ]
  },
  {
   "cell_type": "code",
   "execution_count": 127,
   "metadata": {},
   "outputs": [
    {
     "data": {
      "text/html": [
       "<div>\n",
       "<style scoped>\n",
       "    .dataframe tbody tr th:only-of-type {\n",
       "        vertical-align: middle;\n",
       "    }\n",
       "\n",
       "    .dataframe tbody tr th {\n",
       "        vertical-align: top;\n",
       "    }\n",
       "\n",
       "    .dataframe thead th {\n",
       "        text-align: right;\n",
       "    }\n",
       "</style>\n",
       "<table border=\"1\" class=\"dataframe\">\n",
       "  <thead>\n",
       "    <tr style=\"text-align: right;\">\n",
       "      <th></th>\n",
       "      <th>STATION</th>\n",
       "      <th>HourlyAltimeterSetting</th>\n",
       "      <th>HourlyDewPointTemperature</th>\n",
       "      <th>HourlyDryBulbTemperature</th>\n",
       "      <th>HourlyPrecipitation</th>\n",
       "      <th>HourlyPressureChange</th>\n",
       "      <th>HourlyRelativeHumidity</th>\n",
       "      <th>HourlyStationPressure</th>\n",
       "      <th>HourlyVisibility</th>\n",
       "      <th>HourlyWetBulbTemperature</th>\n",
       "      <th>HourlyWindDirection</th>\n",
       "      <th>HourlyWindGustSpeed</th>\n",
       "      <th>HourlyWindSpeed</th>\n",
       "      <th>Sunrise</th>\n",
       "      <th>Sunset</th>\n",
       "    </tr>\n",
       "    <tr>\n",
       "      <th>DATE</th>\n",
       "      <th></th>\n",
       "      <th></th>\n",
       "      <th></th>\n",
       "      <th></th>\n",
       "      <th></th>\n",
       "      <th></th>\n",
       "      <th></th>\n",
       "      <th></th>\n",
       "      <th></th>\n",
       "      <th></th>\n",
       "      <th></th>\n",
       "      <th></th>\n",
       "      <th></th>\n",
       "      <th></th>\n",
       "      <th></th>\n",
       "    </tr>\n",
       "  </thead>\n",
       "  <tbody>\n",
       "    <tr>\n",
       "      <th>2003-01-01 00:00:00</th>\n",
       "      <td>FRI0000LFPG</td>\n",
       "      <td>1013.9</td>\n",
       "      <td>1.9</td>\n",
       "      <td>3.4</td>\n",
       "      <td>NaN</td>\n",
       "      <td>-0.3</td>\n",
       "      <td>90.0</td>\n",
       "      <td>1001.2</td>\n",
       "      <td>7.0</td>\n",
       "      <td>2.6</td>\n",
       "      <td>220.0</td>\n",
       "      <td>NaN</td>\n",
       "      <td>1.0</td>\n",
       "      <td>NaN</td>\n",
       "      <td>NaN</td>\n",
       "    </tr>\n",
       "    <tr>\n",
       "      <th>2003-01-01 00:30:00</th>\n",
       "      <td>FRI0000LFPG</td>\n",
       "      <td>1013.9</td>\n",
       "      <td>2.0</td>\n",
       "      <td>4.0</td>\n",
       "      <td>NaN</td>\n",
       "      <td>NaN</td>\n",
       "      <td>87.0</td>\n",
       "      <td>NaN</td>\n",
       "      <td>8.0</td>\n",
       "      <td>NaN</td>\n",
       "      <td>NaN</td>\n",
       "      <td>NaN</td>\n",
       "      <td>0.0</td>\n",
       "      <td>NaN</td>\n",
       "      <td>NaN</td>\n",
       "    </tr>\n",
       "    <tr>\n",
       "      <th>2003-01-01 01:00:00</th>\n",
       "      <td>FRI0000LFPG</td>\n",
       "      <td>1013.9</td>\n",
       "      <td>2.1</td>\n",
       "      <td>3.7</td>\n",
       "      <td>NaN</td>\n",
       "      <td>-0.3</td>\n",
       "      <td>89.0</td>\n",
       "      <td>1000.8</td>\n",
       "      <td>8.0</td>\n",
       "      <td>3.2</td>\n",
       "      <td>200.0</td>\n",
       "      <td>NaN</td>\n",
       "      <td>2.1</td>\n",
       "      <td>NaN</td>\n",
       "      <td>NaN</td>\n",
       "    </tr>\n",
       "    <tr>\n",
       "      <th>2003-01-01 01:30:00</th>\n",
       "      <td>FRI0000LFPG</td>\n",
       "      <td>1012.9</td>\n",
       "      <td>2.0</td>\n",
       "      <td>4.0</td>\n",
       "      <td>NaN</td>\n",
       "      <td>NaN</td>\n",
       "      <td>87.0</td>\n",
       "      <td>NaN</td>\n",
       "      <td>8.0</td>\n",
       "      <td>NaN</td>\n",
       "      <td>170.0</td>\n",
       "      <td>NaN</td>\n",
       "      <td>1.5</td>\n",
       "      <td>NaN</td>\n",
       "      <td>NaN</td>\n",
       "    </tr>\n",
       "    <tr>\n",
       "      <th>2003-01-01 02:00:00</th>\n",
       "      <td>FRI0000LFPG</td>\n",
       "      <td>1012.9</td>\n",
       "      <td>2.4</td>\n",
       "      <td>3.9</td>\n",
       "      <td>NaN</td>\n",
       "      <td>-0.7</td>\n",
       "      <td>90.0</td>\n",
       "      <td>1000.4</td>\n",
       "      <td>7.0</td>\n",
       "      <td>3.2</td>\n",
       "      <td>160.0</td>\n",
       "      <td>NaN</td>\n",
       "      <td>3.1</td>\n",
       "      <td>NaN</td>\n",
       "      <td>NaN</td>\n",
       "    </tr>\n",
       "    <tr>\n",
       "      <th>...</th>\n",
       "      <td>...</td>\n",
       "      <td>...</td>\n",
       "      <td>...</td>\n",
       "      <td>...</td>\n",
       "      <td>...</td>\n",
       "      <td>...</td>\n",
       "      <td>...</td>\n",
       "      <td>...</td>\n",
       "      <td>...</td>\n",
       "      <td>...</td>\n",
       "      <td>...</td>\n",
       "      <td>...</td>\n",
       "      <td>...</td>\n",
       "      <td>...</td>\n",
       "      <td>...</td>\n",
       "    </tr>\n",
       "    <tr>\n",
       "      <th>2003-12-31 22:00:00</th>\n",
       "      <td>FRI0000LFPG</td>\n",
       "      <td>1024.0</td>\n",
       "      <td>-1.7</td>\n",
       "      <td>-0.9</td>\n",
       "      <td>NaN</td>\n",
       "      <td>-1.5</td>\n",
       "      <td>94.0</td>\n",
       "      <td>1011.3</td>\n",
       "      <td>4.0</td>\n",
       "      <td>-1.3</td>\n",
       "      <td>40.0</td>\n",
       "      <td>NaN</td>\n",
       "      <td>1.0</td>\n",
       "      <td>NaN</td>\n",
       "      <td>NaN</td>\n",
       "    </tr>\n",
       "    <tr>\n",
       "      <th>2003-12-31 22:30:00</th>\n",
       "      <td>FRI0000LFPG</td>\n",
       "      <td>1024.0</td>\n",
       "      <td>-2.0</td>\n",
       "      <td>-1.0</td>\n",
       "      <td>NaN</td>\n",
       "      <td>NaN</td>\n",
       "      <td>93.0</td>\n",
       "      <td>1011.0</td>\n",
       "      <td>3.0</td>\n",
       "      <td>-1.5</td>\n",
       "      <td>NaN</td>\n",
       "      <td>NaN</td>\n",
       "      <td>0.0</td>\n",
       "      <td>NaN</td>\n",
       "      <td>NaN</td>\n",
       "    </tr>\n",
       "    <tr>\n",
       "      <th>2003-12-31 23:00:00</th>\n",
       "      <td>FRI0000LFPG</td>\n",
       "      <td>1024.0</td>\n",
       "      <td>-1.9</td>\n",
       "      <td>-1.2</td>\n",
       "      <td>NaN</td>\n",
       "      <td>-1.8</td>\n",
       "      <td>95.0</td>\n",
       "      <td>1010.6</td>\n",
       "      <td>3.0</td>\n",
       "      <td>-1.3</td>\n",
       "      <td>280.0</td>\n",
       "      <td>NaN</td>\n",
       "      <td>2.1</td>\n",
       "      <td>NaN</td>\n",
       "      <td>NaN</td>\n",
       "    </tr>\n",
       "    <tr>\n",
       "      <th>2003-12-31 23:13:00</th>\n",
       "      <td>FRI0000LFPG</td>\n",
       "      <td>1023.0</td>\n",
       "      <td>-2.0</td>\n",
       "      <td>-1.0</td>\n",
       "      <td>NaN</td>\n",
       "      <td>NaN</td>\n",
       "      <td>93.0</td>\n",
       "      <td>1010.0</td>\n",
       "      <td>3.0</td>\n",
       "      <td>-1.5</td>\n",
       "      <td>290.0</td>\n",
       "      <td>NaN</td>\n",
       "      <td>2.1</td>\n",
       "      <td>NaN</td>\n",
       "      <td>NaN</td>\n",
       "    </tr>\n",
       "    <tr>\n",
       "      <th>2003-12-31 23:30:00</th>\n",
       "      <td>FRI0000LFPG</td>\n",
       "      <td>1023.0</td>\n",
       "      <td>-2.0</td>\n",
       "      <td>-1.0</td>\n",
       "      <td>NaN</td>\n",
       "      <td>NaN</td>\n",
       "      <td>93.0</td>\n",
       "      <td>1010.0</td>\n",
       "      <td>2.0</td>\n",
       "      <td>-1.5</td>\n",
       "      <td>NaN</td>\n",
       "      <td>NaN</td>\n",
       "      <td>0.0</td>\n",
       "      <td>NaN</td>\n",
       "      <td>NaN</td>\n",
       "    </tr>\n",
       "  </tbody>\n",
       "</table>\n",
       "<p>17763 rows × 15 columns</p>\n",
       "</div>"
      ],
      "text/plain": [
       "                         STATION  HourlyAltimeterSetting  \\\n",
       "DATE                                                       \n",
       "2003-01-01 00:00:00  FRI0000LFPG                  1013.9   \n",
       "2003-01-01 00:30:00  FRI0000LFPG                  1013.9   \n",
       "2003-01-01 01:00:00  FRI0000LFPG                  1013.9   \n",
       "2003-01-01 01:30:00  FRI0000LFPG                  1012.9   \n",
       "2003-01-01 02:00:00  FRI0000LFPG                  1012.9   \n",
       "...                          ...                     ...   \n",
       "2003-12-31 22:00:00  FRI0000LFPG                  1024.0   \n",
       "2003-12-31 22:30:00  FRI0000LFPG                  1024.0   \n",
       "2003-12-31 23:00:00  FRI0000LFPG                  1024.0   \n",
       "2003-12-31 23:13:00  FRI0000LFPG                  1023.0   \n",
       "2003-12-31 23:30:00  FRI0000LFPG                  1023.0   \n",
       "\n",
       "                     HourlyDewPointTemperature  HourlyDryBulbTemperature  \\\n",
       "DATE                                                                       \n",
       "2003-01-01 00:00:00                        1.9                       3.4   \n",
       "2003-01-01 00:30:00                        2.0                       4.0   \n",
       "2003-01-01 01:00:00                        2.1                       3.7   \n",
       "2003-01-01 01:30:00                        2.0                       4.0   \n",
       "2003-01-01 02:00:00                        2.4                       3.9   \n",
       "...                                        ...                       ...   \n",
       "2003-12-31 22:00:00                       -1.7                      -0.9   \n",
       "2003-12-31 22:30:00                       -2.0                      -1.0   \n",
       "2003-12-31 23:00:00                       -1.9                      -1.2   \n",
       "2003-12-31 23:13:00                       -2.0                      -1.0   \n",
       "2003-12-31 23:30:00                       -2.0                      -1.0   \n",
       "\n",
       "                     HourlyPrecipitation  HourlyPressureChange  \\\n",
       "DATE                                                             \n",
       "2003-01-01 00:00:00                  NaN                  -0.3   \n",
       "2003-01-01 00:30:00                  NaN                   NaN   \n",
       "2003-01-01 01:00:00                  NaN                  -0.3   \n",
       "2003-01-01 01:30:00                  NaN                   NaN   \n",
       "2003-01-01 02:00:00                  NaN                  -0.7   \n",
       "...                                  ...                   ...   \n",
       "2003-12-31 22:00:00                  NaN                  -1.5   \n",
       "2003-12-31 22:30:00                  NaN                   NaN   \n",
       "2003-12-31 23:00:00                  NaN                  -1.8   \n",
       "2003-12-31 23:13:00                  NaN                   NaN   \n",
       "2003-12-31 23:30:00                  NaN                   NaN   \n",
       "\n",
       "                     HourlyRelativeHumidity  HourlyStationPressure  \\\n",
       "DATE                                                                 \n",
       "2003-01-01 00:00:00                    90.0                 1001.2   \n",
       "2003-01-01 00:30:00                    87.0                    NaN   \n",
       "2003-01-01 01:00:00                    89.0                 1000.8   \n",
       "2003-01-01 01:30:00                    87.0                    NaN   \n",
       "2003-01-01 02:00:00                    90.0                 1000.4   \n",
       "...                                     ...                    ...   \n",
       "2003-12-31 22:00:00                    94.0                 1011.3   \n",
       "2003-12-31 22:30:00                    93.0                 1011.0   \n",
       "2003-12-31 23:00:00                    95.0                 1010.6   \n",
       "2003-12-31 23:13:00                    93.0                 1010.0   \n",
       "2003-12-31 23:30:00                    93.0                 1010.0   \n",
       "\n",
       "                     HourlyVisibility  HourlyWetBulbTemperature  \\\n",
       "DATE                                                              \n",
       "2003-01-01 00:00:00               7.0                       2.6   \n",
       "2003-01-01 00:30:00               8.0                       NaN   \n",
       "2003-01-01 01:00:00               8.0                       3.2   \n",
       "2003-01-01 01:30:00               8.0                       NaN   \n",
       "2003-01-01 02:00:00               7.0                       3.2   \n",
       "...                               ...                       ...   \n",
       "2003-12-31 22:00:00               4.0                      -1.3   \n",
       "2003-12-31 22:30:00               3.0                      -1.5   \n",
       "2003-12-31 23:00:00               3.0                      -1.3   \n",
       "2003-12-31 23:13:00               3.0                      -1.5   \n",
       "2003-12-31 23:30:00               2.0                      -1.5   \n",
       "\n",
       "                     HourlyWindDirection  HourlyWindGustSpeed  \\\n",
       "DATE                                                            \n",
       "2003-01-01 00:00:00                220.0                  NaN   \n",
       "2003-01-01 00:30:00                  NaN                  NaN   \n",
       "2003-01-01 01:00:00                200.0                  NaN   \n",
       "2003-01-01 01:30:00                170.0                  NaN   \n",
       "2003-01-01 02:00:00                160.0                  NaN   \n",
       "...                                  ...                  ...   \n",
       "2003-12-31 22:00:00                 40.0                  NaN   \n",
       "2003-12-31 22:30:00                  NaN                  NaN   \n",
       "2003-12-31 23:00:00                280.0                  NaN   \n",
       "2003-12-31 23:13:00                290.0                  NaN   \n",
       "2003-12-31 23:30:00                  NaN                  NaN   \n",
       "\n",
       "                     HourlyWindSpeed  Sunrise  Sunset  \n",
       "DATE                                                   \n",
       "2003-01-01 00:00:00              1.0      NaN     NaN  \n",
       "2003-01-01 00:30:00              0.0      NaN     NaN  \n",
       "2003-01-01 01:00:00              2.1      NaN     NaN  \n",
       "2003-01-01 01:30:00              1.5      NaN     NaN  \n",
       "2003-01-01 02:00:00              3.1      NaN     NaN  \n",
       "...                              ...      ...     ...  \n",
       "2003-12-31 22:00:00              1.0      NaN     NaN  \n",
       "2003-12-31 22:30:00              0.0      NaN     NaN  \n",
       "2003-12-31 23:00:00              2.1      NaN     NaN  \n",
       "2003-12-31 23:13:00              2.1      NaN     NaN  \n",
       "2003-12-31 23:30:00              0.0      NaN     NaN  \n",
       "\n",
       "[17763 rows x 15 columns]"
      ]
     },
     "execution_count": 127,
     "metadata": {},
     "output_type": "execute_result"
    }
   ],
   "source": [
    "df = pd.concat((pd.read_csv(f_, usecols=cols_, parse_dates=['DATE'],\n",
    "                            index_col='DATE', low_memory=False) for\n",
    "                f_, cols_ in files_usecols.items()), axis=0)\\\n",
    "                .reset_index().drop_duplicates()\n",
    "df = df.set_index('DATE', drop=True).sort_index()\n",
    "df"
   ]
  },
  {
   "cell_type": "code",
   "execution_count": 128,
   "metadata": {},
   "outputs": [],
   "source": [
    "# keep track of the count of raw timestamps prior to processing\n",
    "n_records_raw = df.shape[0]\n",
    "# track statistics by column prior to processing, omit 'Sunrise' & 'Sunset' from stats\n",
    "cols_sunrise_sunset = df.columns.intersection(['Sunrise', 'Sunset']).tolist()\n",
    "df_stats_pre = df.loc[:, df.columns.difference(cols_sunrise_sunset)].describe()"
   ]
  },
  {
   "cell_type": "code",
   "execution_count": 129,
   "metadata": {},
   "outputs": [
    {
     "data": {
      "text/plain": [
       "(17763, 15)"
      ]
     },
     "execution_count": 129,
     "metadata": {},
     "output_type": "execute_result"
    }
   ],
   "source": [
    "# df = df[cols_use].copy()\n",
    "df.shape"
   ]
  },
  {
   "cell_type": "code",
   "execution_count": 130,
   "metadata": {},
   "outputs": [
    {
     "data": {
      "text/html": [
       "<div>\n",
       "<style scoped>\n",
       "    .dataframe tbody tr th:only-of-type {\n",
       "        vertical-align: middle;\n",
       "    }\n",
       "\n",
       "    .dataframe tbody tr th {\n",
       "        vertical-align: top;\n",
       "    }\n",
       "\n",
       "    .dataframe thead th {\n",
       "        text-align: right;\n",
       "    }\n",
       "</style>\n",
       "<table border=\"1\" class=\"dataframe\">\n",
       "  <thead>\n",
       "    <tr style=\"text-align: right;\">\n",
       "      <th></th>\n",
       "      <th>STATION</th>\n",
       "      <th>HourlyAltimeterSetting</th>\n",
       "      <th>HourlyDewPointTemperature</th>\n",
       "      <th>HourlyDryBulbTemperature</th>\n",
       "      <th>HourlyPrecipitation</th>\n",
       "      <th>HourlyPressureChange</th>\n",
       "      <th>HourlyRelativeHumidity</th>\n",
       "      <th>HourlyStationPressure</th>\n",
       "      <th>HourlyVisibility</th>\n",
       "      <th>HourlyWetBulbTemperature</th>\n",
       "      <th>HourlyWindDirection</th>\n",
       "      <th>HourlyWindGustSpeed</th>\n",
       "      <th>HourlyWindSpeed</th>\n",
       "      <th>Sunrise</th>\n",
       "      <th>Sunset</th>\n",
       "    </tr>\n",
       "    <tr>\n",
       "      <th>DATE</th>\n",
       "      <th></th>\n",
       "      <th></th>\n",
       "      <th></th>\n",
       "      <th></th>\n",
       "      <th></th>\n",
       "      <th></th>\n",
       "      <th></th>\n",
       "      <th></th>\n",
       "      <th></th>\n",
       "      <th></th>\n",
       "      <th></th>\n",
       "      <th></th>\n",
       "      <th></th>\n",
       "      <th></th>\n",
       "      <th></th>\n",
       "    </tr>\n",
       "  </thead>\n",
       "  <tbody>\n",
       "    <tr>\n",
       "      <th>2003-01-01 00:00:00</th>\n",
       "      <td>FRI0000LFPG</td>\n",
       "      <td>1013.9</td>\n",
       "      <td>1.9</td>\n",
       "      <td>3.4</td>\n",
       "      <td>NaN</td>\n",
       "      <td>-0.3</td>\n",
       "      <td>90.0</td>\n",
       "      <td>1001.2</td>\n",
       "      <td>7.0</td>\n",
       "      <td>2.6</td>\n",
       "      <td>220.0</td>\n",
       "      <td>NaN</td>\n",
       "      <td>1.0</td>\n",
       "      <td>NaN</td>\n",
       "      <td>NaN</td>\n",
       "    </tr>\n",
       "    <tr>\n",
       "      <th>2003-01-01 00:30:00</th>\n",
       "      <td>FRI0000LFPG</td>\n",
       "      <td>1013.9</td>\n",
       "      <td>2.0</td>\n",
       "      <td>4.0</td>\n",
       "      <td>NaN</td>\n",
       "      <td>NaN</td>\n",
       "      <td>87.0</td>\n",
       "      <td>NaN</td>\n",
       "      <td>8.0</td>\n",
       "      <td>NaN</td>\n",
       "      <td>NaN</td>\n",
       "      <td>NaN</td>\n",
       "      <td>0.0</td>\n",
       "      <td>NaN</td>\n",
       "      <td>NaN</td>\n",
       "    </tr>\n",
       "    <tr>\n",
       "      <th>2003-01-01 01:00:00</th>\n",
       "      <td>FRI0000LFPG</td>\n",
       "      <td>1013.9</td>\n",
       "      <td>2.1</td>\n",
       "      <td>3.7</td>\n",
       "      <td>NaN</td>\n",
       "      <td>-0.3</td>\n",
       "      <td>89.0</td>\n",
       "      <td>1000.8</td>\n",
       "      <td>8.0</td>\n",
       "      <td>3.2</td>\n",
       "      <td>200.0</td>\n",
       "      <td>NaN</td>\n",
       "      <td>2.1</td>\n",
       "      <td>NaN</td>\n",
       "      <td>NaN</td>\n",
       "    </tr>\n",
       "    <tr>\n",
       "      <th>2003-01-01 01:30:00</th>\n",
       "      <td>FRI0000LFPG</td>\n",
       "      <td>1012.9</td>\n",
       "      <td>2.0</td>\n",
       "      <td>4.0</td>\n",
       "      <td>NaN</td>\n",
       "      <td>NaN</td>\n",
       "      <td>87.0</td>\n",
       "      <td>NaN</td>\n",
       "      <td>8.0</td>\n",
       "      <td>NaN</td>\n",
       "      <td>170.0</td>\n",
       "      <td>NaN</td>\n",
       "      <td>1.5</td>\n",
       "      <td>NaN</td>\n",
       "      <td>NaN</td>\n",
       "    </tr>\n",
       "    <tr>\n",
       "      <th>2003-01-01 02:00:00</th>\n",
       "      <td>FRI0000LFPG</td>\n",
       "      <td>1012.9</td>\n",
       "      <td>2.4</td>\n",
       "      <td>3.9</td>\n",
       "      <td>NaN</td>\n",
       "      <td>-0.7</td>\n",
       "      <td>90.0</td>\n",
       "      <td>1000.4</td>\n",
       "      <td>7.0</td>\n",
       "      <td>3.2</td>\n",
       "      <td>160.0</td>\n",
       "      <td>NaN</td>\n",
       "      <td>3.1</td>\n",
       "      <td>NaN</td>\n",
       "      <td>NaN</td>\n",
       "    </tr>\n",
       "  </tbody>\n",
       "</table>\n",
       "</div>"
      ],
      "text/plain": [
       "                         STATION  HourlyAltimeterSetting  \\\n",
       "DATE                                                       \n",
       "2003-01-01 00:00:00  FRI0000LFPG                  1013.9   \n",
       "2003-01-01 00:30:00  FRI0000LFPG                  1013.9   \n",
       "2003-01-01 01:00:00  FRI0000LFPG                  1013.9   \n",
       "2003-01-01 01:30:00  FRI0000LFPG                  1012.9   \n",
       "2003-01-01 02:00:00  FRI0000LFPG                  1012.9   \n",
       "\n",
       "                     HourlyDewPointTemperature  HourlyDryBulbTemperature  \\\n",
       "DATE                                                                       \n",
       "2003-01-01 00:00:00                        1.9                       3.4   \n",
       "2003-01-01 00:30:00                        2.0                       4.0   \n",
       "2003-01-01 01:00:00                        2.1                       3.7   \n",
       "2003-01-01 01:30:00                        2.0                       4.0   \n",
       "2003-01-01 02:00:00                        2.4                       3.9   \n",
       "\n",
       "                     HourlyPrecipitation  HourlyPressureChange  \\\n",
       "DATE                                                             \n",
       "2003-01-01 00:00:00                  NaN                  -0.3   \n",
       "2003-01-01 00:30:00                  NaN                   NaN   \n",
       "2003-01-01 01:00:00                  NaN                  -0.3   \n",
       "2003-01-01 01:30:00                  NaN                   NaN   \n",
       "2003-01-01 02:00:00                  NaN                  -0.7   \n",
       "\n",
       "                     HourlyRelativeHumidity  HourlyStationPressure  \\\n",
       "DATE                                                                 \n",
       "2003-01-01 00:00:00                    90.0                 1001.2   \n",
       "2003-01-01 00:30:00                    87.0                    NaN   \n",
       "2003-01-01 01:00:00                    89.0                 1000.8   \n",
       "2003-01-01 01:30:00                    87.0                    NaN   \n",
       "2003-01-01 02:00:00                    90.0                 1000.4   \n",
       "\n",
       "                     HourlyVisibility  HourlyWetBulbTemperature  \\\n",
       "DATE                                                              \n",
       "2003-01-01 00:00:00               7.0                       2.6   \n",
       "2003-01-01 00:30:00               8.0                       NaN   \n",
       "2003-01-01 01:00:00               8.0                       3.2   \n",
       "2003-01-01 01:30:00               8.0                       NaN   \n",
       "2003-01-01 02:00:00               7.0                       3.2   \n",
       "\n",
       "                     HourlyWindDirection  HourlyWindGustSpeed  \\\n",
       "DATE                                                            \n",
       "2003-01-01 00:00:00                220.0                  NaN   \n",
       "2003-01-01 00:30:00                  NaN                  NaN   \n",
       "2003-01-01 01:00:00                200.0                  NaN   \n",
       "2003-01-01 01:30:00                170.0                  NaN   \n",
       "2003-01-01 02:00:00                160.0                  NaN   \n",
       "\n",
       "                     HourlyWindSpeed  Sunrise  Sunset  \n",
       "DATE                                                   \n",
       "2003-01-01 00:00:00              1.0      NaN     NaN  \n",
       "2003-01-01 00:30:00              0.0      NaN     NaN  \n",
       "2003-01-01 01:00:00              2.1      NaN     NaN  \n",
       "2003-01-01 01:30:00              1.5      NaN     NaN  \n",
       "2003-01-01 02:00:00              3.1      NaN     NaN  "
      ]
     },
     "execution_count": 130,
     "metadata": {},
     "output_type": "execute_result"
    }
   ],
   "source": [
    "df.head()"
   ]
  },
  {
   "cell_type": "markdown",
   "metadata": {},
   "source": [
    "### Identify and Display Weather Station Information"
   ]
  },
  {
   "cell_type": "code",
   "execution_count": 131,
   "metadata": {},
   "outputs": [
    {
     "data": {
      "text/plain": [
       "('FRI0000LFPG', '0LFPG')"
      ]
     },
     "execution_count": 131,
     "metadata": {},
     "output_type": "execute_result"
    }
   ],
   "source": [
    "# v1 & v2\n",
    "# identify WBAN station\n",
    "station_lcd = str(df['STATION'].value_counts().index[0])\n",
    "station_wban = station_lcd[6:]  #important - this is index for the isd-history table\n",
    "station_call = station_lcd[-4:] #needed for non-USA locations with 99999 WBAN\n",
    "station_lcd, station_wban"
   ]
  },
  {
   "cell_type": "code",
   "execution_count": 132,
   "metadata": {},
   "outputs": [],
   "source": [
    "# remove 'STATION', 'REPORT_TYPE', 'SOURCE' columns - not needed anymore\n",
    "df.drop(columns=['STATION', 'REPORT_TYPE', 'SOURCE'],\n",
    "        inplace=True, errors='ignore')"
   ]
  },
  {
   "cell_type": "markdown",
   "metadata": {},
   "source": [
    "#### Open 'isd-history.csv' containing Station details\n",
    "This is location identification information.  source:  https://www.ncei.noaa.gov/pub/data/noaa/isd-history.txt.  Parsed by 'ISD History Station Table.py'."
   ]
  },
  {
   "cell_type": "code",
   "execution_count": 133,
   "metadata": {},
   "outputs": [],
   "source": [
    "isd_history_available = False\n",
    "file_isd_history = find_latest_file(dir_data, pattern_isd_history_file)\n",
    "if file_isd_history.is_file():\n",
    "    isd_history_available = True"
   ]
  },
  {
   "cell_type": "markdown",
   "metadata": {},
   "source": [
    "#### Create df_isd_history for Station Detail lookup"
   ]
  },
  {
   "cell_type": "code",
   "execution_count": 134,
   "metadata": {},
   "outputs": [
    {
     "data": {
      "text/html": [
       "<div>\n",
       "<style scoped>\n",
       "    .dataframe tbody tr th:only-of-type {\n",
       "        vertical-align: middle;\n",
       "    }\n",
       "\n",
       "    .dataframe tbody tr th {\n",
       "        vertical-align: top;\n",
       "    }\n",
       "\n",
       "    .dataframe thead th {\n",
       "        text-align: right;\n",
       "    }\n",
       "</style>\n",
       "<table border=\"1\" class=\"dataframe\">\n",
       "  <thead>\n",
       "    <tr style=\"text-align: right;\">\n",
       "      <th></th>\n",
       "      <th>USAF</th>\n",
       "      <th>STATION NAME</th>\n",
       "      <th>CTRY</th>\n",
       "      <th>ST</th>\n",
       "      <th>CALL</th>\n",
       "      <th>LAT</th>\n",
       "      <th>LON</th>\n",
       "      <th>ELEV(M)</th>\n",
       "      <th>BEGIN</th>\n",
       "      <th>END</th>\n",
       "    </tr>\n",
       "    <tr>\n",
       "      <th>WBAN</th>\n",
       "      <th></th>\n",
       "      <th></th>\n",
       "      <th></th>\n",
       "      <th></th>\n",
       "      <th></th>\n",
       "      <th></th>\n",
       "      <th></th>\n",
       "      <th></th>\n",
       "      <th></th>\n",
       "      <th></th>\n",
       "    </tr>\n",
       "  </thead>\n",
       "  <tbody>\n",
       "    <tr>\n",
       "      <th>00133</th>\n",
       "      <td>720401</td>\n",
       "      <td>CLINTON MUNICIPAL AIRPORT</td>\n",
       "      <td>US</td>\n",
       "      <td>AR</td>\n",
       "      <td>KCCA</td>\n",
       "      <td>+35.600</td>\n",
       "      <td>-092.450</td>\n",
       "      <td>+0157.3</td>\n",
       "      <td>2007-06-28</td>\n",
       "      <td>2024-12-31</td>\n",
       "    </tr>\n",
       "    <tr>\n",
       "      <th>23170</th>\n",
       "      <td>724733</td>\n",
       "      <td>HANKSVILLE</td>\n",
       "      <td>US</td>\n",
       "      <td>UT</td>\n",
       "      <td>KHVE</td>\n",
       "      <td>+38.417</td>\n",
       "      <td>-110.700</td>\n",
       "      <td>+1355.1</td>\n",
       "      <td>2014-07-24</td>\n",
       "      <td>2024-12-31</td>\n",
       "    </tr>\n",
       "    <tr>\n",
       "      <th>99999</th>\n",
       "      <td>012091</td>\n",
       "      <td>ORSTA-VOLDA/HOVD</td>\n",
       "      <td>NO</td>\n",
       "      <td>NaN</td>\n",
       "      <td>ENOV</td>\n",
       "      <td>+62.183</td>\n",
       "      <td>+006.050</td>\n",
       "      <td>+0074.0</td>\n",
       "      <td>1984-09-10</td>\n",
       "      <td>1984-11-27</td>\n",
       "    </tr>\n",
       "    <tr>\n",
       "      <th>99999</th>\n",
       "      <td>984295</td>\n",
       "      <td>NICHOLS AB</td>\n",
       "      <td>RP</td>\n",
       "      <td>NaN</td>\n",
       "      <td>RPAF</td>\n",
       "      <td>+14.517</td>\n",
       "      <td>+121.017</td>\n",
       "      <td>+0023.0</td>\n",
       "      <td>1973-06-20</td>\n",
       "      <td>1985-09-16</td>\n",
       "    </tr>\n",
       "    <tr>\n",
       "      <th>99999</th>\n",
       "      <td>711880</td>\n",
       "      <td>GASPE</td>\n",
       "      <td>CA</td>\n",
       "      <td>NaN</td>\n",
       "      <td>CYGP</td>\n",
       "      <td>+48.775</td>\n",
       "      <td>-064.479</td>\n",
       "      <td>+0032.9</td>\n",
       "      <td>1977-09-14</td>\n",
       "      <td>2024-12-31</td>\n",
       "    </tr>\n",
       "  </tbody>\n",
       "</table>\n",
       "</div>"
      ],
      "text/plain": [
       "         USAF               STATION NAME CTRY   ST  CALL      LAT       LON  \\\n",
       "WBAN                                                                          \n",
       "00133  720401  CLINTON MUNICIPAL AIRPORT   US   AR  KCCA  +35.600  -092.450   \n",
       "23170  724733                 HANKSVILLE   US   UT  KHVE  +38.417  -110.700   \n",
       "99999  012091           ORSTA-VOLDA/HOVD   NO  NaN  ENOV  +62.183  +006.050   \n",
       "99999  984295                 NICHOLS AB   RP  NaN  RPAF  +14.517  +121.017   \n",
       "99999  711880                      GASPE   CA  NaN  CYGP  +48.775  -064.479   \n",
       "\n",
       "       ELEV(M)       BEGIN         END  \n",
       "WBAN                                    \n",
       "00133  +0157.3  2007-06-28  2024-12-31  \n",
       "23170  +1355.1  2014-07-24  2024-12-31  \n",
       "99999  +0074.0  1984-09-10  1984-11-27  \n",
       "99999  +0023.0  1973-06-20  1985-09-16  \n",
       "99999  +0032.9  1977-09-14  2024-12-31  "
      ]
     },
     "execution_count": 134,
     "metadata": {},
     "output_type": "execute_result"
    }
   ],
   "source": [
    "df_isd_history = pd.read_csv(file_isd_history, index_col='WBAN',\n",
    "                     dtype={'WBAN': object}).sort_values(\n",
    "                    by=['USAF', 'BEGIN'], ascending=[True, False])\n",
    "df_isd_history.sample(5).sort_index()"
   ]
  },
  {
   "cell_type": "code",
   "execution_count": 135,
   "metadata": {},
   "outputs": [
    {
     "name": "stdout",
     "output_type": "stream",
     "text": [
      "<class 'pandas.core.frame.DataFrame'>\n",
      "Index: 11611 entries, 99999 to 00451\n",
      "Data columns (total 10 columns):\n",
      " #   Column        Non-Null Count  Dtype \n",
      "---  ------        --------------  ----- \n",
      " 0   USAF          11611 non-null  object\n",
      " 1   STATION NAME  11609 non-null  object\n",
      " 2   CTRY          11594 non-null  object\n",
      " 3   ST            5442 non-null   object\n",
      " 4   CALL          10661 non-null  object\n",
      " 5   LAT           11583 non-null  object\n",
      " 6   LON           11582 non-null  object\n",
      " 7   ELEV(M)       11556 non-null  object\n",
      " 8   BEGIN         11609 non-null  object\n",
      " 9   END           11611 non-null  object\n",
      "dtypes: object(10)\n",
      "memory usage: 997.8+ KB\n"
     ]
    }
   ],
   "source": [
    "df_isd_history.info()"
   ]
  },
  {
   "cell_type": "code",
   "execution_count": 136,
   "metadata": {},
   "outputs": [
    {
     "data": {
      "text/html": [
       "<div>\n",
       "<style scoped>\n",
       "    .dataframe tbody tr th:only-of-type {\n",
       "        vertical-align: middle;\n",
       "    }\n",
       "\n",
       "    .dataframe tbody tr th {\n",
       "        vertical-align: top;\n",
       "    }\n",
       "\n",
       "    .dataframe thead th {\n",
       "        text-align: right;\n",
       "    }\n",
       "</style>\n",
       "<table border=\"1\" class=\"dataframe\">\n",
       "  <thead>\n",
       "    <tr style=\"text-align: right;\">\n",
       "      <th></th>\n",
       "      <th>USAF</th>\n",
       "      <th>STATION NAME</th>\n",
       "      <th>CTRY</th>\n",
       "      <th>ST</th>\n",
       "      <th>CALL</th>\n",
       "      <th>LAT</th>\n",
       "      <th>LON</th>\n",
       "      <th>ELEV(M)</th>\n",
       "      <th>BEGIN</th>\n",
       "      <th>END</th>\n",
       "    </tr>\n",
       "    <tr>\n",
       "      <th>WBAN</th>\n",
       "      <th></th>\n",
       "      <th></th>\n",
       "      <th></th>\n",
       "      <th></th>\n",
       "      <th></th>\n",
       "      <th></th>\n",
       "      <th></th>\n",
       "      <th></th>\n",
       "      <th></th>\n",
       "      <th></th>\n",
       "    </tr>\n",
       "  </thead>\n",
       "  <tbody>\n",
       "    <tr>\n",
       "      <th>99999</th>\n",
       "      <td>071570</td>\n",
       "      <td>CHARLES DE GAULLE</td>\n",
       "      <td>FR</td>\n",
       "      <td>NaN</td>\n",
       "      <td>LFPG</td>\n",
       "      <td>+49.013</td>\n",
       "      <td>+002.550</td>\n",
       "      <td>+0119.5</td>\n",
       "      <td>1974-04-19</td>\n",
       "      <td>2024-12-31</td>\n",
       "    </tr>\n",
       "  </tbody>\n",
       "</table>\n",
       "</div>"
      ],
      "text/plain": [
       "         USAF       STATION NAME CTRY   ST  CALL      LAT       LON  ELEV(M)  \\\n",
       "WBAN                                                                           \n",
       "99999  071570  CHARLES DE GAULLE   FR  NaN  LFPG  +49.013  +002.550  +0119.5   \n",
       "\n",
       "            BEGIN         END  \n",
       "WBAN                           \n",
       "99999  1974-04-19  2024-12-31  "
      ]
     },
     "execution_count": 136,
     "metadata": {},
     "output_type": "execute_result"
    }
   ],
   "source": [
    "df_isd_history.loc[df_isd_history['CALL']==station_call]"
   ]
  },
  {
   "cell_type": "code",
   "execution_count": 137,
   "metadata": {},
   "outputs": [],
   "source": [
    "# is the station WBAN listed in df_isd_history?\n",
    "station_details_available_wban = station_wban in df_isd_history.index"
   ]
  },
  {
   "cell_type": "code",
   "execution_count": 138,
   "metadata": {},
   "outputs": [],
   "source": [
    "# is the station CALL listed in df_isd_history?\n",
    "station_details_available_call = station_call in df_isd_history['CALL'].values"
   ]
  },
  {
   "cell_type": "code",
   "execution_count": 139,
   "metadata": {},
   "outputs": [
    {
     "data": {
      "text/plain": [
       "True"
      ]
     },
     "execution_count": 139,
     "metadata": {},
     "output_type": "execute_result"
    }
   ],
   "source": [
    "any([station_details_available_wban, station_details_available_call])"
   ]
  },
  {
   "cell_type": "code",
   "execution_count": 140,
   "metadata": {},
   "outputs": [],
   "source": [
    "if station_details_available_wban:\n",
    "    station_details = dict(df_isd_history.loc[station_wban].reset_index()\\\n",
    "                       .sort_values('END', ascending=False).iloc[0])\n",
    "elif station_details_available_call:\n",
    "    station_details = dict(df_isd_history.loc[\n",
    "                        df_isd_history['CALL'] == station_call]\\\n",
    "                       .reset_index().sort_values('END',\n",
    "                          ascending=False).iloc[0])\n",
    "else:\n",
    "    station_details = {col_ : 'Unknown' for col_ in df_isd_history.columns}"
   ]
  },
  {
   "cell_type": "code",
   "execution_count": 141,
   "metadata": {},
   "outputs": [],
   "source": [
    "if station_details['LAT'] != 'Unknown':\n",
    "     # add url to google maps search of lat, lon values to station_details\n",
    "    google_maps_lat_lon_url = \"\"\"https://maps.google.com/?q={lat},{long}\"\"\"\n",
    "    google_maps_url = google_maps_lat_lon_url.format(lat = station_details['LAT'],\n",
    "                                                    long = station_details['LON'])\n",
    "    station_details['GOOGLE MAP'] = google_maps_url\n",
    "\n",
    "# delete df_isd_history - no longer needed\n",
    "del df_isd_history"
   ]
  },
  {
   "cell_type": "code",
   "execution_count": 142,
   "metadata": {},
   "outputs": [
    {
     "data": {
      "text/plain": [
       "{'WBAN': '99999',\n",
       " 'USAF': '071570',\n",
       " 'STATION NAME': 'CHARLES DE GAULLE',\n",
       " 'CTRY': 'FR',\n",
       " 'ST': nan,\n",
       " 'CALL': 'LFPG',\n",
       " 'LAT': '+49.013',\n",
       " 'LON': '+002.550',\n",
       " 'ELEV(M)': '+0119.5',\n",
       " 'BEGIN': '1974-04-19',\n",
       " 'END': '2024-12-31',\n",
       " 'GOOGLE MAP': 'https://maps.google.com/?q=+49.013,+002.550'}"
      ]
     },
     "execution_count": 142,
     "metadata": {},
     "output_type": "execute_result"
    }
   ],
   "source": [
    "station_details"
   ]
  },
  {
   "cell_type": "code",
   "execution_count": 143,
   "metadata": {},
   "outputs": [
    {
     "data": {
      "text/plain": [
       "('2003-01-01', '2003-12-31')"
      ]
     },
     "execution_count": 143,
     "metadata": {},
     "output_type": "execute_result"
    }
   ],
   "source": [
    "#     create timestamps for consolidated table df\n",
    "start_dt = df.index[0]\n",
    "end_dt = df.index[-1]\n",
    "start_str = start_dt.strftime('%Y-%m-%d')\n",
    "end_str = end_dt.strftime('%Y-%m-%d')\n",
    "start_str, end_str"
   ]
  },
  {
   "cell_type": "code",
   "execution_count": 144,
   "metadata": {},
   "outputs": [],
   "source": [
    "# identify hourly timestamps where the LCD source reported no observations\n",
    "# This will be added as a boolean column later\n",
    "idx_hours_no_source_data = pd.date_range(start_dt, end_dt, freq='H')\\\n",
    "                            .difference(df.index.round('H'))\n",
    "# how many hours of the curent time range have no observations?\n",
    "n_hours_no_source_data = len(idx_hours_no_source_data)\n",
    "# idx_hours_no_source_data"
   ]
  },
  {
   "cell_type": "code",
   "execution_count": 145,
   "metadata": {},
   "outputs": [],
   "source": [
    "for col_ in df.columns:\n",
    "    df[col_] = pd.to_numeric(df[col_], errors='coerce')\n",
    "    try:\n",
    "        df[col_] = df[col_].astype(float)\n",
    "    except:\n",
    "        pass"
   ]
  },
  {
   "cell_type": "markdown",
   "metadata": {},
   "source": [
    "#### Resolve duplicate datetime index values"
   ]
  },
  {
   "cell_type": "code",
   "execution_count": 148,
   "metadata": {},
   "outputs": [
    {
     "data": {
      "text/plain": [
       "(17763, 14)"
      ]
     },
     "execution_count": 148,
     "metadata": {},
     "output_type": "execute_result"
    }
   ],
   "source": [
    "# if a single timestamp appears more than once, average available values\n",
    "# to return a single value and single timestamp (ignoring \n",
    "# NaN values of course)\n",
    "df = df.groupby(level=0).mean()\n",
    "df.shape"
   ]
  },
  {
   "cell_type": "markdown",
   "metadata": {},
   "source": [
    "#### Extract Sunrise and Sunset by date in to dictionaries\n",
    "\n",
    "to be applied to df_out towards end of script.\n",
    "Drop Sunrise and Sunset columns after extraction here.\n",
    "The source data provides only one unique sunrise/set value per day and\n",
    "the rest of the day's values are NaN"
   ]
  },
  {
   "cell_type": "code",
   "execution_count": 149,
   "metadata": {},
   "outputs": [],
   "source": [
    "# create date_sunrise/sunset dictionaries with dates as keys and \n",
    "# timestamp values for time to be added back in to resampled df\n",
    "date_sunrise = datetime_from_HHMM(df['Sunrise'].dropna()).to_dict()\n",
    "date_sunset = datetime_from_HHMM(df['Sunset'].dropna()).to_dict()"
   ]
  },
  {
   "cell_type": "code",
   "execution_count": 97,
   "metadata": {},
   "outputs": [],
   "source": [
    "# drop sunrise/sunset columns as their information is now \n",
    "# contained in the date_sunrise/sunset dictionaries\n",
    "df.drop(columns=cols_sunrise_sunset, inplace=True, errors='ignore')"
   ]
  },
  {
   "cell_type": "markdown",
   "metadata": {},
   "source": [
    "#### are there timestamps that have a high count of null values?\n",
    "In v1 LCD files the '23:59:00' timestamp is suspect and appears to only be a placeholder\n",
    "for posting sunrise/sunset times.  Important that this step be done after\n",
    "forward filling sunrise/sunset values. \n",
    "V2 LCD files do not seem to have the '23:59:00' timestamp issue."
   ]
  },
  {
   "cell_type": "code",
   "execution_count": 98,
   "metadata": {},
   "outputs": [
    {
     "data": {
      "text/plain": [
       "8881"
      ]
     },
     "execution_count": 98,
     "metadata": {},
     "output_type": "execute_result"
    }
   ],
   "source": [
    "# n_records_hourly_approx = int(df.shape[0]/(24))\n",
    "# n_max_null = pct_null_timestamp_max * n_records_hourly_approx\n",
    "n_max_null = int(pct_null_timestamp_max * df.shape[0])\n",
    "n_max_null"
   ]
  },
  {
   "cell_type": "code",
   "execution_count": 99,
   "metadata": {},
   "outputs": [],
   "source": [
    "temp = df.loc[:, df.columns.difference(cols_sunrise_sunset)]\n",
    "df_nan_ts = temp.groupby(temp.index.time).apply(lambda x: x.isna().sum()\\\n",
    "                            .gt(n_max_null)).all(axis=1)\n",
    "times_nan = df_nan_ts.loc[df_nan_ts].index.tolist()\n",
    "del temp\n",
    "del df_nan_ts"
   ]
  },
  {
   "cell_type": "code",
   "execution_count": 100,
   "metadata": {},
   "outputs": [
    {
     "name": "stdout",
     "output_type": "stream",
     "text": [
      "<class 'pandas.core.frame.DataFrame'>\n",
      "DatetimeIndex: 17763 entries, 2003-01-01 00:00:00 to 2003-12-31 23:30:00\n",
      "Data columns (total 12 columns):\n",
      " #   Column                     Non-Null Count  Dtype  \n",
      "---  ------                     --------------  -----  \n",
      " 0   HourlyAltimeterSetting     17650 non-null  float64\n",
      " 1   HourlyDewPointTemperature  17756 non-null  float64\n",
      " 2   HourlyDryBulbTemperature   17757 non-null  float64\n",
      " 3   HourlyPrecipitation        324 non-null    float64\n",
      " 4   HourlyPressureChange       8410 non-null   float64\n",
      " 5   HourlyRelativeHumidity     17756 non-null  float64\n",
      " 6   HourlyStationPressure      14219 non-null  float64\n",
      " 7   HourlyVisibility           17499 non-null  float64\n",
      " 8   HourlyWetBulbTemperature   14216 non-null  float64\n",
      " 9   HourlyWindDirection        17486 non-null  float64\n",
      " 10  HourlyWindGustSpeed        459 non-null    float64\n",
      " 11  HourlyWindSpeed            17756 non-null  float64\n",
      "dtypes: float64(12)\n",
      "memory usage: 1.8 MB\n"
     ]
    }
   ],
   "source": [
    "# remove records for timestamps with a high percentage of Null values.\n",
    "# note that the '23:59:00' timestamp is suspect and appears to only be a placeholder\n",
    "# for posting sunrise/sunset times.  Important that this step be done after\n",
    "# forward filling sunrise/sunset values.\n",
    "filter_nan_times = pd.Series(df.index.time).isin(times_nan).values\n",
    "df = df.loc[~filter_nan_times]\n",
    "df.info()"
   ]
  },
  {
   "cell_type": "code",
   "execution_count": 101,
   "metadata": {},
   "outputs": [],
   "source": [
    "# test = df.between_time('23:01:00', '00:59:00').select_dtypes(include=[int, float])\n",
    "# test.groupby(test.index.time).sum()"
   ]
  },
  {
   "cell_type": "code",
   "execution_count": 102,
   "metadata": {},
   "outputs": [
    {
     "data": {
      "image/png": "[encoded data removed]",
      "text/plain": [
       "<Figure size 1100x300 with 1 Axes>"
      ]
     },
     "metadata": {},
     "output_type": "display_data"
    }
   ],
   "source": [
    "if is_development:\n",
    "    df.groupby(df.index.time).count().max(axis=1).sort_index().plot(figsize=(11,3),\n",
    "   title='Count of Maximum Non-Null Readings per \"time\" Timestamp')"
   ]
  },
  {
   "cell_type": "code",
   "execution_count": 103,
   "metadata": {},
   "outputs": [],
   "source": [
    "# df.loc[filter_nan_times]"
   ]
  },
  {
   "cell_type": "code",
   "execution_count": 104,
   "metadata": {},
   "outputs": [],
   "source": [
    "#     Check what percentage of data has null data and print to screen\n",
    "df_pct_null_data = pd.DataFrame({'Percent N/A': df.isnull().sum().divide(len(df)).round(3)})\n",
    "df_pct_null_data_pre_formatted = df_pct_null_data['Percent N/A']\\\n",
    "                            .apply(lambda n: '{:,.1%}'.format(n))\n",
    "# remove 'Hourly' prefix for display only\n",
    "col_rename_remove_hourly = {col_ : col_.replace('Hourly', '') for\n",
    "                            col_ in df_pct_null_data_pre_formatted.index}"
   ]
  },
  {
   "cell_type": "markdown",
   "metadata": {},
   "source": [
    "#### Display Station Details"
   ]
  },
  {
   "cell_type": "code",
   "execution_count": 105,
   "metadata": {},
   "outputs": [],
   "source": [
    "# exclude station lifetime history dates - could cause confusion\n",
    "station_details_exclude = ['BEGIN', 'END']\n",
    "station_details_display = {k_ : v_ for k_, v_ in station_details.items() if\n",
    "                           k_ not in station_details_exclude}"
   ]
  },
  {
   "cell_type": "code",
   "execution_count": 107,
   "metadata": {},
   "outputs": [
    {
     "name": "stdout",
     "output_type": "stream",
     "text": [
      "--------------------------------------------\n",
      "------ ISD Weather Station Properties ------\n",
      "--------------------------------------------\n",
      "WBAN            99999     \n",
      "USAF            071570    \n",
      "STATION NAME    CHARLES DE GAULLE\n",
      "CTRY            FR        \n",
      "ST              nan       \n",
      "CALL            LFPG      \n",
      "LAT             +49.013   \n",
      "LON             +002.550  \n",
      "ELEV(M)         +0119.5   \n",
      "GOOGLE MAP      https://maps.google.com/?q=+49.013,+002.550\n",
      "\n",
      "\n"
     ]
    }
   ],
   "source": [
    "print('--------------------------------------------')\n",
    "print('------ ISD Weather Station Properties ------')\n",
    "print('--------------------------------------------')\n",
    "for k_, v_ in station_details_display.items():\n",
    "    print(\"{:<15} {:<10}\".format(k_, v_))\n",
    "print('\\n')"
   ]
  },
  {
   "cell_type": "code",
   "execution_count": 108,
   "metadata": {},
   "outputs": [
    {
     "name": "stdout",
     "output_type": "stream",
     "text": [
      "Percent Missing Values by Column from 2003-01-01 to 2003-12-31 for LCD source file(s):\n",
      "\n",
      "LCD_FRI0000LFPG_2003.csv\n"
     ]
    }
   ],
   "source": [
    "# message_pct_null_data = f\"\"\"Percent Missing Values by Column for LCD source file '{file_lcd_input.name}' for USAF station {station_usaf} at '{station_details['STATION NAME']}' from {start_str} to {end_str}.\"\"\"\n",
    "# message_pct_null_data = \"\"\"Percent Missing Values by Column for LCD source file(s):\n",
    "# {files_lcd_input_names_str}\\n\\nFor USAF station {station_usaf} at '{station_name}'\n",
    "# from {start_str} to {end_str}.\"\"\"\n",
    "message_pct_null_data = \"\"\"Percent Missing Values by Column from {start_str} to {end_str} for LCD source file(s):\\n\n",
    "{files_lcd_input_names_str}\"\"\"\n",
    "message_ = message_pct_null_data.format(files_lcd_input_names_str = files_lcd_input_names_str,\n",
    "                            station_usaf = station_details['USAF'],\n",
    "                            station_name = station_details['STATION NAME'],\n",
    "                            start_str = start_str,\n",
    "                            end_str = end_str)\n",
    "\n",
    "print(message_)"
   ]
  },
  {
   "cell_type": "code",
   "execution_count": 109,
   "metadata": {},
   "outputs": [
    {
     "name": "stdout",
     "output_type": "stream",
     "text": [
      "--------------------------------------------------------------\n",
      "------ Percent Null Values by Column Before Processing -------\n",
      "--------------------------------------------------------------\n"
     ]
    },
    {
     "data": {
      "text/plain": [
       "AltimeterSetting        0.6%\n",
       "DewPointTemperature     0.0%\n",
       "DryBulbTemperature      0.0%\n",
       "Precipitation          98.2%\n",
       "PressureChange         52.7%\n",
       "RelativeHumidity        0.0%\n",
       "StationPressure        20.0%\n",
       "Visibility              1.5%\n",
       "WetBulbTemperature     20.0%\n",
       "WindDirection           1.6%\n",
       "WindGustSpeed          97.4%\n",
       "WindSpeed               0.0%\n",
       "Name: Percent N/A, dtype: object"
      ]
     },
     "metadata": {},
     "output_type": "display_data"
    }
   ],
   "source": [
    "print('--------------------------------------------------------------')\n",
    "print('------ Percent Null Values by Column Before Processing -------')\n",
    "print('--------------------------------------------------------------')\n",
    "display(df_pct_null_data_pre_formatted.rename(index=col_rename_remove_hourly))"
   ]
  },
  {
   "cell_type": "markdown",
   "metadata": {},
   "source": [
    "### Resample Hourly"
   ]
  },
  {
   "cell_type": "code",
   "execution_count": 110,
   "metadata": {},
   "outputs": [
    {
     "name": "stdout",
     "output_type": "stream",
     "text": [
      "HourlyAltimeterSetting\n",
      "HourlyDewPointTemperature\n",
      "HourlyDryBulbTemperature\n",
      "HourlyPrecipitation\n",
      "HourlyPressureChange\n",
      "HourlyRelativeHumidity\n",
      "HourlyStationPressure\n",
      "HourlyVisibility\n",
      "HourlyWetBulbTemperature\n",
      "HourlyWindDirection\n",
      "HourlyWindGustSpeed\n",
      "HourlyWindSpeed\n",
      "CPU times: total: 46.9 ms\n",
      "Wall time: 43.4 ms\n"
     ]
    }
   ],
   "source": [
    "%%time\n",
    "dfs = {}\n",
    "# individually resample each column on an hourly frequency.\n",
    "# This will produce series\n",
    "# with perfect, complete datetime indexes.  However, it is quite\n",
    "# possible that NaN values will remain (ie. a contiguous 3-hour\n",
    "# period of NaN values).  Remaining NaN values will\n",
    "# be resolved through interpolation later in the script.\n",
    "# this method is used because NaN values can appear at different timestamps\n",
    "# in each column\n",
    "# at this point the df should contain only numeric data\n",
    "for col_ in df.columns:\n",
    "    print(col_)\n",
    "    dfs[col_] = df[col_].dropna().resample('H').mean()"
   ]
  },
  {
   "cell_type": "markdown",
   "metadata": {},
   "source": [
    "### Create df_out - the beginning of the final output"
   ]
  },
  {
   "cell_type": "code",
   "execution_count": 111,
   "metadata": {},
   "outputs": [
    {
     "data": {
      "text/html": [
       "<div>\n",
       "<style scoped>\n",
       "    .dataframe tbody tr th:only-of-type {\n",
       "        vertical-align: middle;\n",
       "    }\n",
       "\n",
       "    .dataframe tbody tr th {\n",
       "        vertical-align: top;\n",
       "    }\n",
       "\n",
       "    .dataframe thead th {\n",
       "        text-align: right;\n",
       "    }\n",
       "</style>\n",
       "<table border=\"1\" class=\"dataframe\">\n",
       "  <thead>\n",
       "    <tr style=\"text-align: right;\">\n",
       "      <th></th>\n",
       "      <th>HourlyAltimeterSetting</th>\n",
       "      <th>HourlyDewPointTemperature</th>\n",
       "      <th>HourlyDryBulbTemperature</th>\n",
       "      <th>HourlyPrecipitation</th>\n",
       "      <th>HourlyPressureChange</th>\n",
       "      <th>HourlyRelativeHumidity</th>\n",
       "      <th>HourlyStationPressure</th>\n",
       "      <th>HourlyVisibility</th>\n",
       "      <th>HourlyWetBulbTemperature</th>\n",
       "      <th>HourlyWindDirection</th>\n",
       "      <th>HourlyWindGustSpeed</th>\n",
       "      <th>HourlyWindSpeed</th>\n",
       "    </tr>\n",
       "    <tr>\n",
       "      <th>DATE</th>\n",
       "      <th></th>\n",
       "      <th></th>\n",
       "      <th></th>\n",
       "      <th></th>\n",
       "      <th></th>\n",
       "      <th></th>\n",
       "      <th></th>\n",
       "      <th></th>\n",
       "      <th></th>\n",
       "      <th></th>\n",
       "      <th></th>\n",
       "      <th></th>\n",
       "    </tr>\n",
       "  </thead>\n",
       "  <tbody>\n",
       "    <tr>\n",
       "      <th>2003-01-01 00:00:00</th>\n",
       "      <td>1013.900000</td>\n",
       "      <td>1.950000</td>\n",
       "      <td>3.700000</td>\n",
       "      <td>NaN</td>\n",
       "      <td>-0.3</td>\n",
       "      <td>88.500000</td>\n",
       "      <td>1001.200000</td>\n",
       "      <td>7.500000</td>\n",
       "      <td>2.600000</td>\n",
       "      <td>220.000000</td>\n",
       "      <td>NaN</td>\n",
       "      <td>0.500000</td>\n",
       "    </tr>\n",
       "    <tr>\n",
       "      <th>2003-01-01 01:00:00</th>\n",
       "      <td>1013.400000</td>\n",
       "      <td>2.050000</td>\n",
       "      <td>3.850000</td>\n",
       "      <td>NaN</td>\n",
       "      <td>-0.3</td>\n",
       "      <td>88.000000</td>\n",
       "      <td>1000.800000</td>\n",
       "      <td>8.000000</td>\n",
       "      <td>3.200000</td>\n",
       "      <td>185.000000</td>\n",
       "      <td>NaN</td>\n",
       "      <td>1.800000</td>\n",
       "    </tr>\n",
       "    <tr>\n",
       "      <th>2003-01-01 02:00:00</th>\n",
       "      <td>1012.900000</td>\n",
       "      <td>2.800000</td>\n",
       "      <td>3.966667</td>\n",
       "      <td>NaN</td>\n",
       "      <td>-0.7</td>\n",
       "      <td>92.000000</td>\n",
       "      <td>1000.400000</td>\n",
       "      <td>6.666667</td>\n",
       "      <td>3.200000</td>\n",
       "      <td>156.666667</td>\n",
       "      <td>NaN</td>\n",
       "      <td>3.600000</td>\n",
       "    </tr>\n",
       "    <tr>\n",
       "      <th>2003-01-01 03:00:00</th>\n",
       "      <td>1011.900000</td>\n",
       "      <td>2.900000</td>\n",
       "      <td>3.900000</td>\n",
       "      <td>NaN</td>\n",
       "      <td>-1.2</td>\n",
       "      <td>93.000000</td>\n",
       "      <td>1000.000000</td>\n",
       "      <td>5.500000</td>\n",
       "      <td>3.400000</td>\n",
       "      <td>150.000000</td>\n",
       "      <td>NaN</td>\n",
       "      <td>3.350000</td>\n",
       "    </tr>\n",
       "    <tr>\n",
       "      <th>2003-01-01 04:00:00</th>\n",
       "      <td>1011.900000</td>\n",
       "      <td>3.800000</td>\n",
       "      <td>4.650000</td>\n",
       "      <td>NaN</td>\n",
       "      <td>-1.5</td>\n",
       "      <td>94.000000</td>\n",
       "      <td>999.300000</td>\n",
       "      <td>5.000000</td>\n",
       "      <td>4.000000</td>\n",
       "      <td>160.000000</td>\n",
       "      <td>NaN</td>\n",
       "      <td>4.100000</td>\n",
       "    </tr>\n",
       "    <tr>\n",
       "      <th>...</th>\n",
       "      <td>...</td>\n",
       "      <td>...</td>\n",
       "      <td>...</td>\n",
       "      <td>...</td>\n",
       "      <td>...</td>\n",
       "      <td>...</td>\n",
       "      <td>...</td>\n",
       "      <td>...</td>\n",
       "      <td>...</td>\n",
       "      <td>...</td>\n",
       "      <td>...</td>\n",
       "      <td>...</td>\n",
       "    </tr>\n",
       "    <tr>\n",
       "      <th>2003-12-31 19:00:00</th>\n",
       "      <td>1026.100000</td>\n",
       "      <td>-0.750000</td>\n",
       "      <td>0.900000</td>\n",
       "      <td>NaN</td>\n",
       "      <td>0.5</td>\n",
       "      <td>89.000000</td>\n",
       "      <td>1012.950000</td>\n",
       "      <td>7.000000</td>\n",
       "      <td>0.200000</td>\n",
       "      <td>190.000000</td>\n",
       "      <td>NaN</td>\n",
       "      <td>3.350000</td>\n",
       "    </tr>\n",
       "    <tr>\n",
       "      <th>2003-12-31 20:00:00</th>\n",
       "      <td>1025.100000</td>\n",
       "      <td>-0.950000</td>\n",
       "      <td>0.100000</td>\n",
       "      <td>NaN</td>\n",
       "      <td>-0.2</td>\n",
       "      <td>92.500000</td>\n",
       "      <td>1012.250000</td>\n",
       "      <td>7.000000</td>\n",
       "      <td>-0.400000</td>\n",
       "      <td>15.000000</td>\n",
       "      <td>NaN</td>\n",
       "      <td>1.800000</td>\n",
       "    </tr>\n",
       "    <tr>\n",
       "      <th>2003-12-31 21:00:00</th>\n",
       "      <td>1024.733333</td>\n",
       "      <td>-1.466667</td>\n",
       "      <td>-0.466667</td>\n",
       "      <td>NaN</td>\n",
       "      <td>-0.7</td>\n",
       "      <td>93.000000</td>\n",
       "      <td>1011.666667</td>\n",
       "      <td>5.333333</td>\n",
       "      <td>-0.966667</td>\n",
       "      <td>233.333333</td>\n",
       "      <td>NaN</td>\n",
       "      <td>0.833333</td>\n",
       "    </tr>\n",
       "    <tr>\n",
       "      <th>2003-12-31 22:00:00</th>\n",
       "      <td>1024.000000</td>\n",
       "      <td>-1.850000</td>\n",
       "      <td>-0.950000</td>\n",
       "      <td>NaN</td>\n",
       "      <td>-1.5</td>\n",
       "      <td>93.500000</td>\n",
       "      <td>1011.150000</td>\n",
       "      <td>3.500000</td>\n",
       "      <td>-1.400000</td>\n",
       "      <td>40.000000</td>\n",
       "      <td>NaN</td>\n",
       "      <td>0.500000</td>\n",
       "    </tr>\n",
       "    <tr>\n",
       "      <th>2003-12-31 23:00:00</th>\n",
       "      <td>1023.333333</td>\n",
       "      <td>-1.966667</td>\n",
       "      <td>-1.066667</td>\n",
       "      <td>NaN</td>\n",
       "      <td>-1.8</td>\n",
       "      <td>93.666667</td>\n",
       "      <td>1010.200000</td>\n",
       "      <td>2.666667</td>\n",
       "      <td>-1.433333</td>\n",
       "      <td>285.000000</td>\n",
       "      <td>NaN</td>\n",
       "      <td>1.400000</td>\n",
       "    </tr>\n",
       "  </tbody>\n",
       "</table>\n",
       "<p>8760 rows × 12 columns</p>\n",
       "</div>"
      ],
      "text/plain": [
       "                     HourlyAltimeterSetting  HourlyDewPointTemperature  \\\n",
       "DATE                                                                     \n",
       "2003-01-01 00:00:00             1013.900000                   1.950000   \n",
       "2003-01-01 01:00:00             1013.400000                   2.050000   \n",
       "2003-01-01 02:00:00             1012.900000                   2.800000   \n",
       "2003-01-01 03:00:00             1011.900000                   2.900000   \n",
       "2003-01-01 04:00:00             1011.900000                   3.800000   \n",
       "...                                     ...                        ...   \n",
       "2003-12-31 19:00:00             1026.100000                  -0.750000   \n",
       "2003-12-31 20:00:00             1025.100000                  -0.950000   \n",
       "2003-12-31 21:00:00             1024.733333                  -1.466667   \n",
       "2003-12-31 22:00:00             1024.000000                  -1.850000   \n",
       "2003-12-31 23:00:00             1023.333333                  -1.966667   \n",
       "\n",
       "                     HourlyDryBulbTemperature  HourlyPrecipitation  \\\n",
       "DATE                                                                 \n",
       "2003-01-01 00:00:00                  3.700000                  NaN   \n",
       "2003-01-01 01:00:00                  3.850000                  NaN   \n",
       "2003-01-01 02:00:00                  3.966667                  NaN   \n",
       "2003-01-01 03:00:00                  3.900000                  NaN   \n",
       "2003-01-01 04:00:00                  4.650000                  NaN   \n",
       "...                                       ...                  ...   \n",
       "2003-12-31 19:00:00                  0.900000                  NaN   \n",
       "2003-12-31 20:00:00                  0.100000                  NaN   \n",
       "2003-12-31 21:00:00                 -0.466667                  NaN   \n",
       "2003-12-31 22:00:00                 -0.950000                  NaN   \n",
       "2003-12-31 23:00:00                 -1.066667                  NaN   \n",
       "\n",
       "                     HourlyPressureChange  HourlyRelativeHumidity  \\\n",
       "DATE                                                                \n",
       "2003-01-01 00:00:00                  -0.3               88.500000   \n",
       "2003-01-01 01:00:00                  -0.3               88.000000   \n",
       "2003-01-01 02:00:00                  -0.7               92.000000   \n",
       "2003-01-01 03:00:00                  -1.2               93.000000   \n",
       "2003-01-01 04:00:00                  -1.5               94.000000   \n",
       "...                                   ...                     ...   \n",
       "2003-12-31 19:00:00                   0.5               89.000000   \n",
       "2003-12-31 20:00:00                  -0.2               92.500000   \n",
       "2003-12-31 21:00:00                  -0.7               93.000000   \n",
       "2003-12-31 22:00:00                  -1.5               93.500000   \n",
       "2003-12-31 23:00:00                  -1.8               93.666667   \n",
       "\n",
       "                     HourlyStationPressure  HourlyVisibility  \\\n",
       "DATE                                                           \n",
       "2003-01-01 00:00:00            1001.200000          7.500000   \n",
       "2003-01-01 01:00:00            1000.800000          8.000000   \n",
       "2003-01-01 02:00:00            1000.400000          6.666667   \n",
       "2003-01-01 03:00:00            1000.000000          5.500000   \n",
       "2003-01-01 04:00:00             999.300000          5.000000   \n",
       "...                                    ...               ...   \n",
       "2003-12-31 19:00:00            1012.950000          7.000000   \n",
       "2003-12-31 20:00:00            1012.250000          7.000000   \n",
       "2003-12-31 21:00:00            1011.666667          5.333333   \n",
       "2003-12-31 22:00:00            1011.150000          3.500000   \n",
       "2003-12-31 23:00:00            1010.200000          2.666667   \n",
       "\n",
       "                     HourlyWetBulbTemperature  HourlyWindDirection  \\\n",
       "DATE                                                                 \n",
       "2003-01-01 00:00:00                  2.600000           220.000000   \n",
       "2003-01-01 01:00:00                  3.200000           185.000000   \n",
       "2003-01-01 02:00:00                  3.200000           156.666667   \n",
       "2003-01-01 03:00:00                  3.400000           150.000000   \n",
       "2003-01-01 04:00:00                  4.000000           160.000000   \n",
       "...                                       ...                  ...   \n",
       "2003-12-31 19:00:00                  0.200000           190.000000   \n",
       "2003-12-31 20:00:00                 -0.400000            15.000000   \n",
       "2003-12-31 21:00:00                 -0.966667           233.333333   \n",
       "2003-12-31 22:00:00                 -1.400000            40.000000   \n",
       "2003-12-31 23:00:00                 -1.433333           285.000000   \n",
       "\n",
       "                     HourlyWindGustSpeed  HourlyWindSpeed  \n",
       "DATE                                                       \n",
       "2003-01-01 00:00:00                  NaN         0.500000  \n",
       "2003-01-01 01:00:00                  NaN         1.800000  \n",
       "2003-01-01 02:00:00                  NaN         3.600000  \n",
       "2003-01-01 03:00:00                  NaN         3.350000  \n",
       "2003-01-01 04:00:00                  NaN         4.100000  \n",
       "...                                  ...              ...  \n",
       "2003-12-31 19:00:00                  NaN         3.350000  \n",
       "2003-12-31 20:00:00                  NaN         1.800000  \n",
       "2003-12-31 21:00:00                  NaN         0.833333  \n",
       "2003-12-31 22:00:00                  NaN         0.500000  \n",
       "2003-12-31 23:00:00                  NaN         1.400000  \n",
       "\n",
       "[8760 rows x 12 columns]"
      ]
     },
     "execution_count": 111,
     "metadata": {},
     "output_type": "execute_result"
    }
   ],
   "source": [
    "# join the resampled series from the previous step, remove any\n",
    "# duplicates and ensure the index is recognized as hourly frequency.\n",
    "# df_out = pd.concat(dfs, axis=1).drop_duplicates().asfreq('H')\n",
    "# important to enforce dtype 'float' as 'HourlyRelativeHumidity' and \n",
    "# other columns had a 'Float64' (capital 'F') that generated\n",
    "# errors in interpolation step.\n",
    "df_out = pd.concat(dfs, axis=1).drop_duplicates()\\\n",
    "                .asfreq('H').astype(float)\n",
    "del dfs\n",
    "del df\n",
    "df_out"
   ]
  },
  {
   "cell_type": "markdown",
   "metadata": {},
   "source": [
    "### Interpolate Null Values\n",
    "According to the following parameters:\n",
    "Because observed weather data commonly contains gaps (ie., NaN or null values), noaa-weather-hourly will attempt to fill in any such gaps to ensure that in each record a value is present for all of the hourly timestamps. To do so, it will use time-based interpolation for gaps up to a default value of 24 hours long ('max_records_to_interpolate').  For example if the dry bulb temperature has a gap with neighboring observed values like (20, X, X, X, X, 25), noaa-weather-hourly will replace the missing values to give (20, 21, 22, 23, 24, 25).\n",
    "\n",
    "If a gap exists in the data that is larger than max_records_to_interpolate, NaN values will be left untouched and a complete datetime index will be preserved."
   ]
  },
  {
   "cell_type": "code",
   "execution_count": 112,
   "metadata": {},
   "outputs": [],
   "source": [
    "df_out = df_out.interpolate(method='time',\n",
    "            limit = max_records_to_interpolate)"
   ]
  },
  {
   "cell_type": "markdown",
   "metadata": {},
   "source": [
    "### Optional Frequency Resample\n",
    "If the freqstr is not 'H', resample.  If the input freqstr is higher than 'H', resample and interpolate, else resample using mean."
   ]
  },
  {
   "cell_type": "code",
   "execution_count": 113,
   "metadata": {},
   "outputs": [],
   "source": [
    "# freqstr = '30T'"
   ]
  },
  {
   "cell_type": "code",
   "execution_count": 114,
   "metadata": {},
   "outputs": [],
   "source": [
    "run_resample = False\n",
    "resample_interpolate = False\n",
    "#     what is the delta value of the input freqstr?\n",
    "freqstr_delta = pd.date_range(start_dt, periods=100,\n",
    "                           freq=freqstr).freq.delta\n",
    "# If the freqstr is not 'H', run the resample process\n",
    "if freqstr != 'H':\n",
    "    run_resample = True\n",
    "\n",
    "# If the input freqstr is higher frequency \n",
    "# than df_out, resample using interpolation\n",
    "resample_interpolate = freqstr_delta < df_out.index.freq.delta"
   ]
  },
  {
   "cell_type": "code",
   "execution_count": 115,
   "metadata": {},
   "outputs": [],
   "source": [
    "if run_resample:\n",
    "#     resample via interpolation\n",
    "    if resample_interpolate:\n",
    "        df_out = df_out.resample(freqstr).interpolate()\n",
    "# or resample using mean\n",
    "    elif not resample_interpolate:\n",
    "        df_out = df_out.resample(freqstr).mean()"
   ]
  },
  {
   "cell_type": "code",
   "execution_count": 116,
   "metadata": {},
   "outputs": [
    {
     "name": "stdout",
     "output_type": "stream",
     "text": [
      "<class 'pandas.core.frame.DataFrame'>\n",
      "DatetimeIndex: 17519 entries, 2003-01-01 00:00:00 to 2003-12-31 23:00:00\n",
      "Freq: 30T\n",
      "Data columns (total 12 columns):\n",
      " #   Column                     Non-Null Count  Dtype  \n",
      "---  ------                     --------------  -----  \n",
      " 0   HourlyAltimeterSetting     17519 non-null  float64\n",
      " 1   HourlyDewPointTemperature  17519 non-null  float64\n",
      " 2   HourlyDryBulbTemperature   17519 non-null  float64\n",
      " 3   HourlyPrecipitation        17503 non-null  float64\n",
      " 4   HourlyPressureChange       17519 non-null  float64\n",
      " 5   HourlyRelativeHumidity     17519 non-null  float64\n",
      " 6   HourlyStationPressure      17519 non-null  float64\n",
      " 7   HourlyVisibility           17519 non-null  float64\n",
      " 8   HourlyWetBulbTemperature   17519 non-null  float64\n",
      " 9   HourlyWindDirection        17519 non-null  float64\n",
      " 10  HourlyWindGustSpeed        17499 non-null  float64\n",
      " 11  HourlyWindSpeed            17519 non-null  float64\n",
      "dtypes: float64(12)\n",
      "memory usage: 1.7 MB\n"
     ]
    }
   ],
   "source": [
    "df_out.info()"
   ]
  },
  {
   "cell_type": "markdown",
   "metadata": {},
   "source": [
    "### Pre- Post-Processing Statistical Comparison"
   ]
  },
  {
   "cell_type": "code",
   "execution_count": 117,
   "metadata": {},
   "outputs": [
    {
     "data": {
      "text/html": [
       "<div>\n",
       "<style scoped>\n",
       "    .dataframe tbody tr th:only-of-type {\n",
       "        vertical-align: middle;\n",
       "    }\n",
       "\n",
       "    .dataframe tbody tr th {\n",
       "        vertical-align: top;\n",
       "    }\n",
       "\n",
       "    .dataframe thead th {\n",
       "        text-align: right;\n",
       "    }\n",
       "</style>\n",
       "<table border=\"1\" class=\"dataframe\">\n",
       "  <thead>\n",
       "    <tr style=\"text-align: right;\">\n",
       "      <th></th>\n",
       "      <th>HourlyAltimeterSetting</th>\n",
       "      <th>HourlyDewPointTemperature</th>\n",
       "      <th>HourlyDryBulbTemperature</th>\n",
       "      <th>HourlyPrecipitation</th>\n",
       "      <th>HourlyPressureChange</th>\n",
       "      <th>HourlyRelativeHumidity</th>\n",
       "      <th>HourlyStationPressure</th>\n",
       "      <th>HourlyVisibility</th>\n",
       "      <th>HourlyWetBulbTemperature</th>\n",
       "      <th>HourlyWindDirection</th>\n",
       "      <th>HourlyWindGustSpeed</th>\n",
       "      <th>HourlyWindSpeed</th>\n",
       "    </tr>\n",
       "  </thead>\n",
       "  <tbody>\n",
       "    <tr>\n",
       "      <th>count</th>\n",
       "      <td>17519.000000</td>\n",
       "      <td>17519.000000</td>\n",
       "      <td>17519.000000</td>\n",
       "      <td>17503.000000</td>\n",
       "      <td>17519.000000</td>\n",
       "      <td>17519.000000</td>\n",
       "      <td>17519.000000</td>\n",
       "      <td>17519.000000</td>\n",
       "      <td>17519.000000</td>\n",
       "      <td>17519.000000</td>\n",
       "      <td>17499.000000</td>\n",
       "      <td>17519.000000</td>\n",
       "    </tr>\n",
       "    <tr>\n",
       "      <th>mean</th>\n",
       "      <td>1017.058064</td>\n",
       "      <td>6.158125</td>\n",
       "      <td>12.209093</td>\n",
       "      <td>0.844272</td>\n",
       "      <td>0.004855</td>\n",
       "      <td>70.341358</td>\n",
       "      <td>1004.139884</td>\n",
       "      <td>12.437551</td>\n",
       "      <td>9.094782</td>\n",
       "      <td>166.165685</td>\n",
       "      <td>11.213174</td>\n",
       "      <td>4.211360</td>\n",
       "    </tr>\n",
       "    <tr>\n",
       "      <th>std</th>\n",
       "      <td>8.424026</td>\n",
       "      <td>6.169867</td>\n",
       "      <td>8.180185</td>\n",
       "      <td>0.971594</td>\n",
       "      <td>1.204829</td>\n",
       "      <td>19.242549</td>\n",
       "      <td>8.331848</td>\n",
       "      <td>4.749163</td>\n",
       "      <td>6.271371</td>\n",
       "      <td>98.624245</td>\n",
       "      <td>2.094279</td>\n",
       "      <td>1.949082</td>\n",
       "    </tr>\n",
       "    <tr>\n",
       "      <th>min</th>\n",
       "      <td>977.333333</td>\n",
       "      <td>-12.850000</td>\n",
       "      <td>-9.000000</td>\n",
       "      <td>0.200000</td>\n",
       "      <td>-5.900000</td>\n",
       "      <td>15.500000</td>\n",
       "      <td>965.000000</td>\n",
       "      <td>0.150000</td>\n",
       "      <td>-9.700000</td>\n",
       "      <td>10.000000</td>\n",
       "      <td>6.700000</td>\n",
       "      <td>0.000000</td>\n",
       "    </tr>\n",
       "    <tr>\n",
       "      <th>25%</th>\n",
       "      <td>1012.400000</td>\n",
       "      <td>1.950000</td>\n",
       "      <td>6.150000</td>\n",
       "      <td>0.267277</td>\n",
       "      <td>-0.700000</td>\n",
       "      <td>56.250000</td>\n",
       "      <td>999.512500</td>\n",
       "      <td>9.900000</td>\n",
       "      <td>4.700000</td>\n",
       "      <td>70.000000</td>\n",
       "      <td>9.750000</td>\n",
       "      <td>2.850000</td>\n",
       "    </tr>\n",
       "    <tr>\n",
       "      <th>50%</th>\n",
       "      <td>1018.000000</td>\n",
       "      <td>6.650000</td>\n",
       "      <td>11.950000</td>\n",
       "      <td>0.565217</td>\n",
       "      <td>0.000000</td>\n",
       "      <td>74.500000</td>\n",
       "      <td>1005.133333</td>\n",
       "      <td>12.510000</td>\n",
       "      <td>9.350000</td>\n",
       "      <td>175.000000</td>\n",
       "      <td>10.750000</td>\n",
       "      <td>3.933333</td>\n",
       "    </tr>\n",
       "    <tr>\n",
       "      <th>75%</th>\n",
       "      <td>1022.000000</td>\n",
       "      <td>10.900000</td>\n",
       "      <td>17.975000</td>\n",
       "      <td>0.950000</td>\n",
       "      <td>0.700000</td>\n",
       "      <td>86.250000</td>\n",
       "      <td>1009.125000</td>\n",
       "      <td>15.632500</td>\n",
       "      <td>14.125000</td>\n",
       "      <td>247.500000</td>\n",
       "      <td>12.372674</td>\n",
       "      <td>5.250000</td>\n",
       "    </tr>\n",
       "    <tr>\n",
       "      <th>max</th>\n",
       "      <td>1038.900000</td>\n",
       "      <td>20.000000</td>\n",
       "      <td>38.950000</td>\n",
       "      <td>16.000000</td>\n",
       "      <td>8.900000</td>\n",
       "      <td>100.000000</td>\n",
       "      <td>1025.600000</td>\n",
       "      <td>34.500000</td>\n",
       "      <td>23.400000</td>\n",
       "      <td>360.000000</td>\n",
       "      <td>24.400000</td>\n",
       "      <td>16.750000</td>\n",
       "    </tr>\n",
       "  </tbody>\n",
       "</table>\n",
       "</div>"
      ],
      "text/plain": [
       "       HourlyAltimeterSetting  HourlyDewPointTemperature  \\\n",
       "count            17519.000000               17519.000000   \n",
       "mean              1017.058064                   6.158125   \n",
       "std                  8.424026                   6.169867   \n",
       "min                977.333333                 -12.850000   \n",
       "25%               1012.400000                   1.950000   \n",
       "50%               1018.000000                   6.650000   \n",
       "75%               1022.000000                  10.900000   \n",
       "max               1038.900000                  20.000000   \n",
       "\n",
       "       HourlyDryBulbTemperature  HourlyPrecipitation  HourlyPressureChange  \\\n",
       "count              17519.000000         17503.000000          17519.000000   \n",
       "mean                  12.209093             0.844272              0.004855   \n",
       "std                    8.180185             0.971594              1.204829   \n",
       "min                   -9.000000             0.200000             -5.900000   \n",
       "25%                    6.150000             0.267277             -0.700000   \n",
       "50%                   11.950000             0.565217              0.000000   \n",
       "75%                   17.975000             0.950000              0.700000   \n",
       "max                   38.950000            16.000000              8.900000   \n",
       "\n",
       "       HourlyRelativeHumidity  HourlyStationPressure  HourlyVisibility  \\\n",
       "count            17519.000000           17519.000000      17519.000000   \n",
       "mean                70.341358            1004.139884         12.437551   \n",
       "std                 19.242549               8.331848          4.749163   \n",
       "min                 15.500000             965.000000          0.150000   \n",
       "25%                 56.250000             999.512500          9.900000   \n",
       "50%                 74.500000            1005.133333         12.510000   \n",
       "75%                 86.250000            1009.125000         15.632500   \n",
       "max                100.000000            1025.600000         34.500000   \n",
       "\n",
       "       HourlyWetBulbTemperature  HourlyWindDirection  HourlyWindGustSpeed  \\\n",
       "count              17519.000000         17519.000000         17499.000000   \n",
       "mean                   9.094782           166.165685            11.213174   \n",
       "std                    6.271371            98.624245             2.094279   \n",
       "min                   -9.700000            10.000000             6.700000   \n",
       "25%                    4.700000            70.000000             9.750000   \n",
       "50%                    9.350000           175.000000            10.750000   \n",
       "75%                   14.125000           247.500000            12.372674   \n",
       "max                   23.400000           360.000000            24.400000   \n",
       "\n",
       "       HourlyWindSpeed  \n",
       "count     17519.000000  \n",
       "mean          4.211360  \n",
       "std           1.949082  \n",
       "min           0.000000  \n",
       "25%           2.850000  \n",
       "50%           3.933333  \n",
       "75%           5.250000  \n",
       "max          16.750000  "
      ]
     },
     "execution_count": 117,
     "metadata": {},
     "output_type": "execute_result"
    }
   ],
   "source": [
    "# create general statistics on post-processed dataset for\n",
    "# comparison with pre-processed dataset to understand how/if \n",
    "# processing significantly altered series values\n",
    "df_stats_post = df_out[df_stats_pre.columns].describe()\n",
    "df_stats_post"
   ]
  },
  {
   "cell_type": "code",
   "execution_count": 118,
   "metadata": {},
   "outputs": [
    {
     "data": {
      "text/html": [
       "<div>\n",
       "<style scoped>\n",
       "    .dataframe tbody tr th:only-of-type {\n",
       "        vertical-align: middle;\n",
       "    }\n",
       "\n",
       "    .dataframe tbody tr th {\n",
       "        vertical-align: top;\n",
       "    }\n",
       "\n",
       "    .dataframe thead th {\n",
       "        text-align: right;\n",
       "    }\n",
       "</style>\n",
       "<table border=\"1\" class=\"dataframe\">\n",
       "  <thead>\n",
       "    <tr style=\"text-align: right;\">\n",
       "      <th></th>\n",
       "      <th>Source Mean</th>\n",
       "      <th>Processed Mean</th>\n",
       "      <th>% Difference</th>\n",
       "    </tr>\n",
       "  </thead>\n",
       "  <tbody>\n",
       "    <tr>\n",
       "      <th>HourlyAltimeterSetting</th>\n",
       "      <td>1016.90</td>\n",
       "      <td>1017.06</td>\n",
       "      <td>0.0%</td>\n",
       "    </tr>\n",
       "    <tr>\n",
       "      <th>HourlyDewPointTemperature</th>\n",
       "      <td>6.15</td>\n",
       "      <td>6.16</td>\n",
       "      <td>0.2%</td>\n",
       "    </tr>\n",
       "    <tr>\n",
       "      <th>HourlyDryBulbTemperature</th>\n",
       "      <td>12.07</td>\n",
       "      <td>12.21</td>\n",
       "      <td>1.2%</td>\n",
       "    </tr>\n",
       "    <tr>\n",
       "      <th>HourlyPrecipitation</th>\n",
       "      <td>0.85</td>\n",
       "      <td>0.84</td>\n",
       "      <td>-1.2%</td>\n",
       "    </tr>\n",
       "    <tr>\n",
       "      <th>HourlyPressureChange</th>\n",
       "      <td>0.01</td>\n",
       "      <td>0.00</td>\n",
       "      <td>-100.0%</td>\n",
       "    </tr>\n",
       "    <tr>\n",
       "      <th>HourlyRelativeHumidity</th>\n",
       "      <td>70.95</td>\n",
       "      <td>70.34</td>\n",
       "      <td>-0.9%</td>\n",
       "    </tr>\n",
       "    <tr>\n",
       "      <th>HourlyStationPressure</th>\n",
       "      <td>1003.71</td>\n",
       "      <td>1004.14</td>\n",
       "      <td>0.0%</td>\n",
       "    </tr>\n",
       "    <tr>\n",
       "      <th>HourlyVisibility</th>\n",
       "      <td>12.19</td>\n",
       "      <td>12.44</td>\n",
       "      <td>2.1%</td>\n",
       "    </tr>\n",
       "    <tr>\n",
       "      <th>HourlyWetBulbTemperature</th>\n",
       "      <td>10.01</td>\n",
       "      <td>9.09</td>\n",
       "      <td>-9.2%</td>\n",
       "    </tr>\n",
       "    <tr>\n",
       "      <th>HourlyWindDirection</th>\n",
       "      <td>166.48</td>\n",
       "      <td>166.17</td>\n",
       "      <td>-0.2%</td>\n",
       "    </tr>\n",
       "    <tr>\n",
       "      <th>HourlyWindGustSpeed</th>\n",
       "      <td>12.67</td>\n",
       "      <td>11.21</td>\n",
       "      <td>-11.5%</td>\n",
       "    </tr>\n",
       "    <tr>\n",
       "      <th>HourlyWindSpeed</th>\n",
       "      <td>4.23</td>\n",
       "      <td>4.21</td>\n",
       "      <td>-0.5%</td>\n",
       "    </tr>\n",
       "  </tbody>\n",
       "</table>\n",
       "</div>"
      ],
      "text/plain": [
       "                           Source Mean  Processed Mean % Difference\n",
       "HourlyAltimeterSetting         1016.90         1017.06         0.0%\n",
       "HourlyDewPointTemperature         6.15            6.16         0.2%\n",
       "HourlyDryBulbTemperature         12.07           12.21         1.2%\n",
       "HourlyPrecipitation               0.85            0.84        -1.2%\n",
       "HourlyPressureChange              0.01            0.00      -100.0%\n",
       "HourlyRelativeHumidity           70.95           70.34        -0.9%\n",
       "HourlyStationPressure          1003.71         1004.14         0.0%\n",
       "HourlyVisibility                 12.19           12.44         2.1%\n",
       "HourlyWetBulbTemperature         10.01            9.09        -9.2%\n",
       "HourlyWindDirection             166.48          166.17        -0.2%\n",
       "HourlyWindGustSpeed              12.67           11.21       -11.5%\n",
       "HourlyWindSpeed                   4.23            4.21        -0.5%"
      ]
     },
     "execution_count": 118,
     "metadata": {},
     "output_type": "execute_result"
    }
   ],
   "source": [
    "df_mean_comp = pd.concat([df_stats_pre.loc['mean'].T, df_stats_post.loc['mean'].T],\n",
    "                         axis=1, keys=['Source Mean', 'Processed Mean']).round(2)\n",
    "df_mean_comp['% Difference'] = df_mean_comp.pct_change(axis=1).iloc[:,-1]\\\n",
    "                                .fillna(0).round(3)\\\n",
    "                                .apply(lambda n: '{:,.1%}'.format(n))\n",
    "df_mean_comp"
   ]
  },
  {
   "cell_type": "code",
   "execution_count": 119,
   "metadata": {},
   "outputs": [
    {
     "data": {
      "text/plain": [
       "-0.9223230957746371"
      ]
     },
     "execution_count": 119,
     "metadata": {},
     "output_type": "execute_result"
    }
   ],
   "source": [
    "# TO-DO:  Overall pre- post- statistics check\n",
    "df_stats_pre.sub(df_stats_post).div(df_stats_pre).mean().mean()\n",
    "# df_stats_pre.pct_change(df_stats_post)\n",
    "# df_stats_pre.eq(df_stats_post).sum().sum()\n",
    "# df_stats_pre.size"
   ]
  },
  {
   "cell_type": "code",
   "execution_count": 120,
   "metadata": {},
   "outputs": [
    {
     "data": {
      "text/plain": [
       "AltimeterSetting       0.00%\n",
       "DewPointTemperature    0.00%\n",
       "DryBulbTemperature     0.00%\n",
       "Precipitation          0.09%\n",
       "PressureChange         0.00%\n",
       "RelativeHumidity       0.00%\n",
       "StationPressure        0.00%\n",
       "Visibility             0.00%\n",
       "WetBulbTemperature     0.00%\n",
       "WindDirection          0.00%\n",
       "WindGustSpeed          0.11%\n",
       "WindSpeed              0.00%\n",
       "Name: Percent N/A, dtype: object"
      ]
     },
     "metadata": {},
     "output_type": "display_data"
    }
   ],
   "source": [
    "#     Check what percentage of data has null data and print to screen\n",
    "df_pct_null_data_post = pd.DataFrame({'Percent N/A': df_out.isnull()\\\n",
    "                              .sum().divide(len(df_out)).round(4)})\n",
    "df_pct_null_data_post_formatted = df_pct_null_data_post['Percent N/A']\\\n",
    "                                .apply(lambda n: '{:,.2%}'.format(n))\n",
    "display(df_pct_null_data_post_formatted.rename(\n",
    "                index = col_rename_remove_hourly))"
   ]
  },
  {
   "cell_type": "code",
   "execution_count": 121,
   "metadata": {},
   "outputs": [
    {
     "data": {
      "text/html": [
       "<div>\n",
       "<style scoped>\n",
       "    .dataframe tbody tr th:only-of-type {\n",
       "        vertical-align: middle;\n",
       "    }\n",
       "\n",
       "    .dataframe tbody tr th {\n",
       "        vertical-align: top;\n",
       "    }\n",
       "\n",
       "    .dataframe thead th {\n",
       "        text-align: right;\n",
       "    }\n",
       "</style>\n",
       "<table border=\"1\" class=\"dataframe\">\n",
       "  <thead>\n",
       "    <tr style=\"text-align: right;\">\n",
       "      <th></th>\n",
       "      <th>Percent N/A</th>\n",
       "      <th>Percent N/A</th>\n",
       "    </tr>\n",
       "  </thead>\n",
       "  <tbody>\n",
       "    <tr>\n",
       "      <th>AltimeterSetting</th>\n",
       "      <td>0.6%</td>\n",
       "      <td>0.00%</td>\n",
       "    </tr>\n",
       "    <tr>\n",
       "      <th>DewPointTemperature</th>\n",
       "      <td>0.0%</td>\n",
       "      <td>0.00%</td>\n",
       "    </tr>\n",
       "    <tr>\n",
       "      <th>DryBulbTemperature</th>\n",
       "      <td>0.0%</td>\n",
       "      <td>0.00%</td>\n",
       "    </tr>\n",
       "    <tr>\n",
       "      <th>Precipitation</th>\n",
       "      <td>98.2%</td>\n",
       "      <td>0.09%</td>\n",
       "    </tr>\n",
       "    <tr>\n",
       "      <th>PressureChange</th>\n",
       "      <td>52.7%</td>\n",
       "      <td>0.00%</td>\n",
       "    </tr>\n",
       "    <tr>\n",
       "      <th>RelativeHumidity</th>\n",
       "      <td>0.0%</td>\n",
       "      <td>0.00%</td>\n",
       "    </tr>\n",
       "    <tr>\n",
       "      <th>StationPressure</th>\n",
       "      <td>20.0%</td>\n",
       "      <td>0.00%</td>\n",
       "    </tr>\n",
       "    <tr>\n",
       "      <th>Visibility</th>\n",
       "      <td>1.5%</td>\n",
       "      <td>0.00%</td>\n",
       "    </tr>\n",
       "    <tr>\n",
       "      <th>WetBulbTemperature</th>\n",
       "      <td>20.0%</td>\n",
       "      <td>0.00%</td>\n",
       "    </tr>\n",
       "    <tr>\n",
       "      <th>WindDirection</th>\n",
       "      <td>1.6%</td>\n",
       "      <td>0.00%</td>\n",
       "    </tr>\n",
       "    <tr>\n",
       "      <th>WindGustSpeed</th>\n",
       "      <td>97.4%</td>\n",
       "      <td>0.11%</td>\n",
       "    </tr>\n",
       "    <tr>\n",
       "      <th>WindSpeed</th>\n",
       "      <td>0.0%</td>\n",
       "      <td>0.00%</td>\n",
       "    </tr>\n",
       "  </tbody>\n",
       "</table>\n",
       "</div>"
      ],
      "text/plain": [
       "                    Percent N/A Percent N/A\n",
       "AltimeterSetting           0.6%       0.00%\n",
       "DewPointTemperature        0.0%       0.00%\n",
       "DryBulbTemperature         0.0%       0.00%\n",
       "Precipitation             98.2%       0.09%\n",
       "PressureChange            52.7%       0.00%\n",
       "RelativeHumidity           0.0%       0.00%\n",
       "StationPressure           20.0%       0.00%\n",
       "Visibility                 1.5%       0.00%\n",
       "WetBulbTemperature        20.0%       0.00%\n",
       "WindDirection              1.6%       0.00%\n",
       "WindGustSpeed             97.4%       0.11%\n",
       "WindSpeed                  0.0%       0.00%"
      ]
     },
     "execution_count": 121,
     "metadata": {},
     "output_type": "execute_result"
    }
   ],
   "source": [
    "df_pct_null_comp = pd.concat([df_pct_null_data_pre_formatted, \n",
    "                             df_pct_null_data_post_formatted], \n",
    "                            axis=1).rename(index=col_rename_remove_hourly)\n",
    "df_pct_null_comp"
   ]
  },
  {
   "cell_type": "code",
   "execution_count": 122,
   "metadata": {},
   "outputs": [],
   "source": [
    "# Round df_out to 1 decimal place\n",
    "df_out = df_out.round(1)"
   ]
  },
  {
   "cell_type": "markdown",
   "metadata": {},
   "source": [
    "### Add Sunrise/Sunset timestamps to df_out"
   ]
  },
  {
   "cell_type": "code",
   "execution_count": 124,
   "metadata": {},
   "outputs": [
    {
     "data": {
      "text/html": [
       "<div>\n",
       "<style scoped>\n",
       "    .dataframe tbody tr th:only-of-type {\n",
       "        vertical-align: middle;\n",
       "    }\n",
       "\n",
       "    .dataframe tbody tr th {\n",
       "        vertical-align: top;\n",
       "    }\n",
       "\n",
       "    .dataframe thead th {\n",
       "        text-align: right;\n",
       "    }\n",
       "</style>\n",
       "<table border=\"1\" class=\"dataframe\">\n",
       "  <thead>\n",
       "    <tr style=\"text-align: right;\">\n",
       "      <th></th>\n",
       "    </tr>\n",
       "    <tr>\n",
       "      <th>DATE</th>\n",
       "    </tr>\n",
       "  </thead>\n",
       "  <tbody>\n",
       "    <tr>\n",
       "      <th>2003-01-01 00:00:00</th>\n",
       "    </tr>\n",
       "    <tr>\n",
       "      <th>2003-01-01 00:30:00</th>\n",
       "    </tr>\n",
       "    <tr>\n",
       "      <th>2003-01-01 01:00:00</th>\n",
       "    </tr>\n",
       "    <tr>\n",
       "      <th>2003-01-01 01:30:00</th>\n",
       "    </tr>\n",
       "    <tr>\n",
       "      <th>2003-01-01 02:00:00</th>\n",
       "    </tr>\n",
       "    <tr>\n",
       "      <th>...</th>\n",
       "    </tr>\n",
       "    <tr>\n",
       "      <th>2003-12-31 21:00:00</th>\n",
       "    </tr>\n",
       "    <tr>\n",
       "      <th>2003-12-31 21:30:00</th>\n",
       "    </tr>\n",
       "    <tr>\n",
       "      <th>2003-12-31 22:00:00</th>\n",
       "    </tr>\n",
       "    <tr>\n",
       "      <th>2003-12-31 22:30:00</th>\n",
       "    </tr>\n",
       "    <tr>\n",
       "      <th>2003-12-31 23:00:00</th>\n",
       "    </tr>\n",
       "  </tbody>\n",
       "</table>\n",
       "<p>17519 rows × 0 columns</p>\n",
       "</div>"
      ],
      "text/plain": [
       "Empty DataFrame\n",
       "Columns: []\n",
       "Index: [2003-01-01 00:00:00, 2003-01-01 00:30:00, 2003-01-01 01:00:00, 2003-01-01 01:30:00, 2003-01-01 02:00:00, 2003-01-01 02:30:00, 2003-01-01 03:00:00, 2003-01-01 03:30:00, 2003-01-01 04:00:00, 2003-01-01 04:30:00, 2003-01-01 05:00:00, 2003-01-01 05:30:00, 2003-01-01 06:00:00, 2003-01-01 06:30:00, 2003-01-01 07:00:00, 2003-01-01 07:30:00, 2003-01-01 08:00:00, 2003-01-01 08:30:00, 2003-01-01 09:00:00, 2003-01-01 09:30:00, 2003-01-01 10:00:00, 2003-01-01 10:30:00, 2003-01-01 11:00:00, 2003-01-01 11:30:00, 2003-01-01 12:00:00, 2003-01-01 12:30:00, 2003-01-01 13:00:00, 2003-01-01 13:30:00, 2003-01-01 14:00:00, 2003-01-01 14:30:00, 2003-01-01 15:00:00, 2003-01-01 15:30:00, 2003-01-01 16:00:00, 2003-01-01 16:30:00, 2003-01-01 17:00:00, 2003-01-01 17:30:00, 2003-01-01 18:00:00, 2003-01-01 18:30:00, 2003-01-01 19:00:00, 2003-01-01 19:30:00, 2003-01-01 20:00:00, 2003-01-01 20:30:00, 2003-01-01 21:00:00, 2003-01-01 21:30:00, 2003-01-01 22:00:00, 2003-01-01 22:30:00, 2003-01-01 23:00:00, 2003-01-01 23:30:00, 2003-01-02 00:00:00, 2003-01-02 00:30:00, 2003-01-02 01:00:00, 2003-01-02 01:30:00, 2003-01-02 02:00:00, 2003-01-02 02:30:00, 2003-01-02 03:00:00, 2003-01-02 03:30:00, 2003-01-02 04:00:00, 2003-01-02 04:30:00, 2003-01-02 05:00:00, 2003-01-02 05:30:00, 2003-01-02 06:00:00, 2003-01-02 06:30:00, 2003-01-02 07:00:00, 2003-01-02 07:30:00, 2003-01-02 08:00:00, 2003-01-02 08:30:00, 2003-01-02 09:00:00, 2003-01-02 09:30:00, 2003-01-02 10:00:00, 2003-01-02 10:30:00, 2003-01-02 11:00:00, 2003-01-02 11:30:00, 2003-01-02 12:00:00, 2003-01-02 12:30:00, 2003-01-02 13:00:00, 2003-01-02 13:30:00, 2003-01-02 14:00:00, 2003-01-02 14:30:00, 2003-01-02 15:00:00, 2003-01-02 15:30:00, 2003-01-02 16:00:00, 2003-01-02 16:30:00, 2003-01-02 17:00:00, 2003-01-02 17:30:00, 2003-01-02 18:00:00, 2003-01-02 18:30:00, 2003-01-02 19:00:00, 2003-01-02 19:30:00, 2003-01-02 20:00:00, 2003-01-02 20:30:00, 2003-01-02 21:00:00, 2003-01-02 21:30:00, 2003-01-02 22:00:00, 2003-01-02 22:30:00, 2003-01-02 23:00:00, 2003-01-02 23:30:00, 2003-01-03 00:00:00, 2003-01-03 00:30:00, 2003-01-03 01:00:00, 2003-01-03 01:30:00, ...]\n",
       "\n",
       "[17519 rows x 0 columns]"
      ]
     },
     "execution_count": 124,
     "metadata": {},
     "output_type": "execute_result"
    }
   ],
   "source": [
    "pd.DataFrame.from_dict(date_sunrise, orient='index')\\\n",
    "                    .reindex(df_out.index).ffill().astype('datetime64[s]')"
   ]
  },
  {
   "cell_type": "code",
   "execution_count": 151,
   "metadata": {},
   "outputs": [],
   "source": [
    "# apply date_sunrise/sunset to df_out index to create sunrise/sunset columns\n",
    "for col_, dict_ in zip(cols_sunrise_sunset, [date_sunrise, date_sunset]):\n",
    "    if len(dict_) > 1:\n",
    "        df_out[col_] = pd.DataFrame.from_dict(dict_, orient='index')\\\n",
    "                    .reindex(df_out.index).ffill().astype('datetime64[s]')\n",
    "    else:\n",
    "        df_out[col_] = pd.NaT"
   ]
  },
  {
   "cell_type": "code",
   "execution_count": 152,
   "metadata": {},
   "outputs": [
    {
     "data": {
      "image/png": "[encoded data removed]",
      "text/plain": [
       "<Figure size 1100x300 with 1 Axes>"
      ]
     },
     "metadata": {},
     "output_type": "display_data"
    }
   ],
   "source": [
    "if is_development:\n",
    "#     df_out[cols_sunrise_sunset].diff(axis=1).iloc[:,-1].dt.total_seconds().div(3600).plot()\n",
    "    df_out[cols_sunrise_sunset].diff(axis=1).iloc[:,-1]\\\n",
    "        .dt.seconds.div(3600).plot(\n",
    "        title = 'Duration of Daylight (hours)', figsize = (11,3), lw=3)"
   ]
  },
  {
   "cell_type": "code",
   "execution_count": 153,
   "metadata": {},
   "outputs": [],
   "source": [
    "# add column to document hourly obervations where no source data was provided.\n",
    "df_out['No source data'] = df_out.index.isin(idx_hours_no_source_data)"
   ]
  },
  {
   "cell_type": "markdown",
   "metadata": {},
   "source": [
    "### Quality Control"
   ]
  },
  {
   "cell_type": "markdown",
   "metadata": {},
   "source": [
    "#### No duplicate records"
   ]
  },
  {
   "cell_type": "markdown",
   "metadata": {},
   "source": [
    "#### Complete and consistent timestamps"
   ]
  },
  {
   "cell_type": "markdown",
   "metadata": {},
   "source": [
    "#### correct dtypes"
   ]
  },
  {
   "cell_type": "markdown",
   "metadata": {},
   "source": [
    "#### Nan values only in columns permitted to have NaN"
   ]
  },
  {
   "cell_type": "markdown",
   "metadata": {},
   "source": [
    "#### Rename Columns - remove 'hourly' from names"
   ]
  },
  {
   "cell_type": "code",
   "execution_count": 154,
   "metadata": {},
   "outputs": [],
   "source": [
    "df_out.rename(columns=col_rename_remove_hourly, errors='ignore',\n",
    "             inplace=True)"
   ]
  },
  {
   "cell_type": "markdown",
   "metadata": {},
   "source": [
    "### Save Outputs to Disk\n",
    "* df_out\n",
    "* df_mean_comp\n",
    "* df_pct_null_comp"
   ]
  },
  {
   "cell_type": "markdown",
   "metadata": {},
   "source": [
    "#### TO-DO:\n",
    "Consolidated processing summary report as .txt file containing df_mean_comp, df_pct_null_comp, station_details, and other statistics"
   ]
  },
  {
   "cell_type": "markdown",
   "metadata": {},
   "source": [
    "#### Name export file "
   ]
  },
  {
   "cell_type": "code",
   "execution_count": 155,
   "metadata": {},
   "outputs": [
    {
     "data": {
      "text/plain": [
       "WindowsPath('C:/Users/user/OneDrive/python_envs/noaa-weather-hourly-cli/dev/CHARLES DE GAULLE 2003-01-01 to 2003-12-31 30T.csv')"
      ]
     },
     "execution_count": 155,
     "metadata": {},
     "output_type": "execute_result"
    }
   ],
   "source": [
    "# Save output file to current working directory (ie,\n",
    "# where command line command was entered)\n",
    "file_out = dir_cwd / file_output_format.format(\n",
    "            STATION_NAME = station_details['STATION NAME'],\n",
    "            start_str = start_str,\n",
    "            end_str = end_str,\n",
    "            freqstr = freqstr)\n",
    "# what if file name is too long for current OS? - TO-DO\n",
    "# file_out.as_posix().__len__()\n",
    "file_out"
   ]
  },
  {
   "cell_type": "markdown",
   "metadata": {},
   "source": [
    "#### Save df_out to csv as file_out"
   ]
  },
  {
   "cell_type": "code",
   "execution_count": 156,
   "metadata": {},
   "outputs": [],
   "source": [
    "df_out.to_csv(file_out)\n",
    "assert file_out.is_file()"
   ]
  },
  {
   "cell_type": "markdown",
   "metadata": {},
   "source": [
    "### Cleanup"
   ]
  },
  {
   "cell_type": "code",
   "execution_count": 157,
   "metadata": {},
   "outputs": [],
   "source": [
    "del df_out"
   ]
  },
  {
   "cell_type": "markdown",
   "metadata": {},
   "source": [
    "# END"
   ]
  }
 ],
 "metadata": {
  "anaconda-cloud": {},
  "kernelspec": {
   "display_name": "NOAA_weather",
   "language": "python",
   "name": "noaa_weather"
  },
  "language_info": {
   "codemirror_mode": {
    "name": "ipython",
    "version": 3
   },
   "file_extension": ".py",
   "mimetype": "text/x-python",
   "name": "python",
   "nbconvert_exporter": "python",
   "pygments_lexer": "ipython3",
   "version": "3.8.10"
  }
 },
 "nbformat": 4,
 "nbformat_minor": 1
}
